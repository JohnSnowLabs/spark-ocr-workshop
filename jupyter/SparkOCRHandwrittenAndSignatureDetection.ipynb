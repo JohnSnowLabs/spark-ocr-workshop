{
 "cells": [
  {
   "cell_type": "markdown",
   "metadata": {
    "id": "PLrOjur3Vmls"
   },
   "source": [
    "# Visual NLP Handwritten and Signature detection\n",
    "## Install spark-ocr python packge\n",
    "Need specify path to `spark-ocr-assembly-[version].jar` or `secret`"
   ]
  },
  {
   "cell_type": "markdown",
   "metadata": {
    "id": "FIX6oqXhDquE"
   },
   "source": [
    "##Colab Setup"
   ]
  },
  {
   "cell_type": "code",
   "execution_count": 1,
   "metadata": {
    "id": "0Gaxk7cxEKQN"
   },
   "outputs": [],
   "source": [
    "secret = \"\"\n",
    "license = \"\"\n",
    "version = secret.split(\"-\")[0]\n",
    "spark_ocr_jar_path = \"../../target/scala-2.12\""
   ]
  },
  {
   "cell_type": "markdown",
   "metadata": {
    "id": "6RYOQcgQWjG8"
   },
   "source": [
    "## Initialization of spark session\n"
   ]
  },
  {
   "cell_type": "code",
   "execution_count": 2,
   "metadata": {
    "id": "IK2dDue4EMbU"
   },
   "outputs": [
    {
     "name": "stdout",
     "output_type": "stream",
     "text": [
      "Spark version: 3.2.1\n",
      "Spark NLP version: 5.3.0\n",
      "Spark NLP for Healthcare version: 5.2.1\n",
      "Spark OCR version: 5.3.1rc3\n",
      "\n"
     ]
    },
    {
     "data": {
      "text/html": [
       "\n",
       "            <div>\n",
       "                <p><b>SparkSession - in-memory</b></p>\n",
       "                \n",
       "        <div>\n",
       "            <p><b>SparkContext</b></p>\n",
       "\n",
       "            <p><a href=\"http://192.168.0.17:4044\">Spark UI</a></p>\n",
       "\n",
       "            <dl>\n",
       "              <dt>Version</dt>\n",
       "                <dd><code>v3.2.1</code></dd>\n",
       "              <dt>Master</dt>\n",
       "                <dd><code>local[*]</code></dd>\n",
       "              <dt>AppName</dt>\n",
       "                <dd><code>Spark OCR</code></dd>\n",
       "            </dl>\n",
       "        </div>\n",
       "        \n",
       "            </div>\n",
       "        "
      ],
      "text/plain": [
       "<pyspark.sql.session.SparkSession at 0x7fc4c18fcc70>"
      ]
     },
     "execution_count": 2,
     "metadata": {},
     "output_type": "execute_result"
    }
   ],
   "source": [
    "from pyspark.sql import SparkSession\n",
    "from sparkocr import start\n",
    "import os\n",
    "\n",
    "if license:\n",
    "    os.environ['SPARK_OCR_LICENSE'] = license\n",
    "\n",
    "spark = start(jar_path = spark_ocr_jar_path)\n",
    "spark"
   ]
  },
  {
   "cell_type": "markdown",
   "metadata": {
    "id": "aJPKnCIYWAvL"
   },
   "source": [
    "## Run Spark-ocr"
   ]
  },
  {
   "cell_type": "markdown",
   "metadata": {
    "id": "WJN0-wEsluG_"
   },
   "source": [
    "Generate result."
   ]
  },
  {
   "cell_type": "code",
   "execution_count": 3,
   "metadata": {
    "id": "XV8QtzewGaau"
   },
   "outputs": [],
   "source": [
    "import sparkocr\n",
    "import sys\n",
    "from pyspark.sql import SparkSession\n",
    "import os\n",
    "import base64\n",
    "from sparkocr.transformers import *\n",
    "from pyspark.ml import PipelineModel\n",
    "from pyspark.sql import functions as F\n",
    "from sparkocr.enums import *\n",
    "from sparknlp.annotator import *\n",
    "from sparknlp.base import *\n",
    "from sparkocr.utils import display_images, display_tables, display_dicom"
   ]
  },
  {
   "cell_type": "code",
   "execution_count": 4,
   "metadata": {
    "colab": {
     "base_uri": "https://localhost:8080/",
     "height": 1000
    },
    "id": "ucx_3dfawB_M",
    "outputId": "58034b5b-4947-4b53-b0f4-02c7c2117985"
   },
   "outputs": [
    {
     "ename": "NameError",
     "evalue": "name 'img_path' is not defined",
     "output_type": "error",
     "traceback": [
      "\u001b[0;31m---------------------------------------------------------------------------\u001b[0m",
      "\u001b[0;31mNameError\u001b[0m                                 Traceback (most recent call last)",
      "Cell \u001b[0;32mIn[4], line 2\u001b[0m\n\u001b[1;32m      1\u001b[0m imagePath \u001b[38;5;241m=\u001b[39m \u001b[38;5;124m\"\u001b[39m\u001b[38;5;124m/data/handwritten/page1.jpeg\u001b[39m\u001b[38;5;124m\"\u001b[39m\n\u001b[0;32m----> 2\u001b[0m image_df \u001b[38;5;241m=\u001b[39m spark\u001b[38;5;241m.\u001b[39mread\u001b[38;5;241m.\u001b[39mformat(\u001b[38;5;124m\"\u001b[39m\u001b[38;5;124mbinaryFile\u001b[39m\u001b[38;5;124m\"\u001b[39m)\u001b[38;5;241m.\u001b[39mload(\u001b[43mimg_path\u001b[49m)\u001b[38;5;241m.\u001b[39msort(\u001b[38;5;124m\"\u001b[39m\u001b[38;5;124mpath\u001b[39m\u001b[38;5;124m\"\u001b[39m)\n\u001b[1;32m      3\u001b[0m display_images(BinaryToImage()\u001b[38;5;241m.\u001b[39msetImageType(ImageType\u001b[38;5;241m.\u001b[39mTYPE_3BYTE_BGR)\u001b[38;5;241m.\u001b[39mtransform(image_df), \u001b[38;5;124m\"\u001b[39m\u001b[38;5;124mimage\u001b[39m\u001b[38;5;124m\"\u001b[39m)\n",
      "\u001b[0;31mNameError\u001b[0m: name 'img_path' is not defined"
     ]
    }
   ],
   "source": [
    "imagePath = \"/data/handwritten/page1.jpeg\"\n",
    "image_df = spark.read.format(\"binaryFile\").load(img_path).sort(\"path\")\n",
    "display_images(BinaryToImage().setImageType(ImageType.TYPE_3BYTE_BGR).transform(image_df), \"image\")"
   ]
  },
  {
   "cell_type": "markdown",
   "metadata": {
    "id": "ZUw3xAnE4AnT"
   },
   "source": [
    "##Define OCR transformers and pipeline"
   ]
  },
  {
   "cell_type": "code",
   "execution_count": null,
   "metadata": {
    "colab": {
     "base_uri": "https://localhost:8080/"
    },
    "id": "1ywHxRYrRnQR",
    "outputId": "9af29da4-2466-44cc-cba6-f0e6052e8951"
   },
   "outputs": [],
   "source": [
    "binary_to_image = BinaryToImage()\n",
    "binary_to_image.setImageType(ImageType.TYPE_3BYTE_BGR)\n",
    "\n",
    "# Detect labels to deidentified in the input document\n",
    "text_detector = ImageDocumentRegionDetector \\\n",
    "    .pretrained(\"image_handwritten_detector_jsl\", \"en\", \"clinical/ocr\") \\\n",
    "    .setInputCol(\"image\") \\\n",
    "    .setOutputCol(\"regions\") \\\n",
    "    .setScoreThreshold(0.25)\n",
    "\n",
    "# Draw filled rectangle for hide sensitive data\n",
    "draw_regions = ImageDrawRegions() \\\n",
    "    .setInputCol(\"image\") \\\n",
    "    .setInputRegionsCol(\"regions\") \\\n",
    "    .setOutputCol(\"image_with_regions\") \\\n",
    "    .setFilledRect(False) \\\n",
    "    .setRectColor(Color.gray)\n",
    "\n",
    "# OCR pipeline\n",
    "pipeline = PipelineModel(stages=[\n",
    "    binary_to_image,\n",
    "    text_detector,\n",
    "    draw_regions\n",
    "])"
   ]
  },
  {
   "cell_type": "code",
   "execution_count": null,
   "metadata": {
    "colab": {
     "base_uri": "https://localhost:8080/",
     "height": 1000
    },
    "id": "LpfWHJJY1As4",
    "outputId": "81f9bbce-a4ea-4079-c616-fcbc9aa4fb5b"
   },
   "outputs": [],
   "source": [
    "result = pipeline.transform(image_df)\n",
    "display_images(result, \"image_with_regions\")"
   ]
  },
  {
   "cell_type": "code",
   "execution_count": null,
   "metadata": {},
   "outputs": [],
   "source": []
  }
 ],
 "metadata": {
  "colab": {
   "machine_shape": "hm",
   "provenance": []
  },
  "kernelspec": {
   "display_name": "Python 3 (ipykernel)",
   "language": "python",
   "name": "python3"
  },
  "language_info": {
   "codemirror_mode": {
    "name": "ipython",
    "version": 3
   },
   "file_extension": ".py",
   "mimetype": "text/x-python",
   "name": "python",
   "nbconvert_exporter": "python",
   "pygments_lexer": "ipython3",
   "version": "3.8.10"
  }
 },
 "nbformat": 4,
 "nbformat_minor": 4
}
