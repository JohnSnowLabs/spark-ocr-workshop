{
  "cells": [
    {
      "cell_type": "markdown",
      "metadata": {
        "id": "KjdMSsII6_sh"
      },
      "source": [
        "# OCR remove background noise and draw regions\n",
        "## Install spark-ocr python packge\n",
        "Need specify path to `spark-ocr-assembly-[version].jar` or `secret`"
      ]
    },
    {
      "cell_type": "code",
      "execution_count": null,
      "metadata": {
        "id": "rKuVcC646_sk"
      },
      "outputs": [],
      "source": [
        "secret = \"\"\n",
        "license = \"\"\n",
        "version = secret.split(\"-\")[0]\n",
        "spark_ocr_jar_path = \"../../target/scala-2.12\""
      ]
    },
    {
      "cell_type": "code",
      "execution_count": null,
      "metadata": {
        "id": "4B_hC9AM6_sn"
      },
      "outputs": [],
      "source": [
        "# install from PYPI using secret\n",
        "#%pip install spark-ocr==$version --extra-index-url=https://pypi.johnsnowlabs.com/$secret --upgrade"
      ]
    },
    {
      "cell_type": "code",
      "execution_count": null,
      "metadata": {
        "id": "p3N9JQLS6_sn"
      },
      "outputs": [],
      "source": [
        "# or install from local path\n",
        "# %pip install ../dist/spark-ocr-[version].tar.gz\n",
        "%pip install termcolor"
      ]
    },
    {
      "cell_type": "markdown",
      "metadata": {
        "id": "Uj7o8j5_6_sn"
      },
      "source": [
        "## Initialization of spark session\n"
      ]
    },
    {
      "cell_type": "code",
      "execution_count": null,
      "metadata": {
        "id": "j3T_uu1R6_so",
        "colab": {
          "base_uri": "https://localhost:8080/",
          "height": 292
        },
        "outputId": "084565cd-7f41-40a4-cc3f-5b2221943ddc"
      },
      "outputs": [
        {
          "output_type": "stream",
          "name": "stdout",
          "text": [
            "Spark version: 3.4.1\n",
            "Spark NLP version: 5.1.2\n",
            "Spark OCR version: 5.1.0\n",
            "\n"
          ]
        },
        {
          "output_type": "execute_result",
          "data": {
            "text/plain": [
              "<pyspark.sql.session.SparkSession at 0x786948282da0>"
            ],
            "text/html": [
              "\n",
              "            <div>\n",
              "                <p><b>SparkSession - in-memory</b></p>\n",
              "                \n",
              "        <div>\n",
              "            <p><b>SparkContext</b></p>\n",
              "\n",
              "            <p><a href=\"http://bb0ba95a1ccd:4040\">Spark UI</a></p>\n",
              "\n",
              "            <dl>\n",
              "              <dt>Version</dt>\n",
              "                <dd><code>v3.4.1</code></dd>\n",
              "              <dt>Master</dt>\n",
              "                <dd><code>local[*]</code></dd>\n",
              "              <dt>AppName</dt>\n",
              "                <dd><code>Spark OCR</code></dd>\n",
              "            </dl>\n",
              "        </div>\n",
              "        \n",
              "            </div>\n",
              "        "
            ]
          },
          "metadata": {},
          "execution_count": 4
        }
      ],
      "source": [
        "from pyspark.sql import SparkSession\n",
        "from sparkocr import start\n",
        "import os\n",
        "\n",
        "if license:\n",
        "    os.environ['SPARK_OCR_LICENSE'] = license\n",
        "\n",
        "spark = start(secret=secret, jar_path=spark_ocr_jar_path)\n",
        "spark"
      ]
    },
    {
      "cell_type": "markdown",
      "metadata": {
        "id": "aA2FEDOF6_sp"
      },
      "source": [
        "## Imports"
      ]
    },
    {
      "cell_type": "code",
      "execution_count": null,
      "metadata": {
        "id": "w5isjQWR6_sp"
      },
      "outputs": [],
      "source": [
        "from termcolor import colored\n",
        "\n",
        "from pyspark.ml import PipelineModel\n",
        "from pyspark.sql import functions as F\n",
        "\n",
        "from sparkocr.transformers import *\n",
        "from sparkocr.enums import *\n",
        "from sparkocr.utils import display_image\n",
        "from sparkocr.metrics import score"
      ]
    },
    {
      "cell_type": "markdown",
      "metadata": {
        "id": "VZjqXA3z6_sp"
      },
      "source": [
        "## Define OCR pipeline"
      ]
    },
    {
      "cell_type": "code",
      "execution_count": null,
      "metadata": {
        "id": "JQ_chgFE6_sq"
      },
      "outputs": [],
      "source": [
        "# Read binary as image\n",
        "pdf_to_image = PdfToImage()\n",
        "pdf_to_image.setInputCol(\"content\")\n",
        "pdf_to_image.setOutputCol(\"image\")\n",
        "pdf_to_image.setResolution(400)\n",
        "\n",
        "# Binarize using adaptive tresholding\n",
        "binarizer = ImageAdaptiveThresholding()\n",
        "binarizer.setInputCol(\"image\")\n",
        "binarizer.setOutputCol(\"binarized_image\")\n",
        "binarizer.setBlockSize(91)\n",
        "binarizer.setOffset(50)\n",
        "binarizer.setKeepInput(True)\n",
        "\n",
        "# Apply morphology opening\n",
        "opening = ImageMorphologyOperation()\n",
        "opening.setKernelShape(KernelShape.SQUARE)\n",
        "opening.setOperation(MorphologyOperationType.OPENING)\n",
        "opening.setKernelSize(3)\n",
        "opening.setInputCol(\"binarized_image\")\n",
        "opening.setOutputCol(\"opening_image\")\n",
        "\n",
        "# Remove small objects\n",
        "remove_objects = ImageRemoveObjects()\n",
        "remove_objects.setInputCol(\"opening_image\")\n",
        "remove_objects.setOutputCol(\"corrected_image\")\n",
        "remove_objects.setMinSizeObject(130)\n",
        "\n",
        "# Image Layout Analyzer for detect regions\n",
        "image_layout_analyzer = ImageLayoutAnalyzer()\n",
        "image_layout_analyzer.setInputCol(\"corrected_image\")\n",
        "image_layout_analyzer.setOutputCol(\"region\")\n",
        "#image_layout_analyzer.setPageSegMode(PageSegmentationMode.SPARSE_TEXT)\n",
        "\n",
        "draw_regions = ImageDrawRegions()\n",
        "draw_regions.setInputCol(\"corrected_image\")\n",
        "draw_regions.setInputRegionsCol(\"region\")\n",
        "draw_regions.setOutputCol(\"image_with_regions\")\n",
        "\n",
        "# Run tesseract OCR for corrected image\n",
        "ocr_corrected = ImageToText()\n",
        "ocr_corrected.setInputCol(\"corrected_image\")\n",
        "ocr_corrected.setOutputCol(\"corrected_text\")\n",
        "ocr_corrected.setPositionsCol(\"corrected_positions\")\n",
        "ocr_corrected.setConfidenceThreshold(65)\n",
        "\n",
        "# Run OCR for original image\n",
        "ocr = ImageToText()\n",
        "ocr.setInputCol(\"image\")\n",
        "ocr.setOutputCol(\"text\")\n",
        "\n",
        "# OCR pipeline\n",
        "pipeline = PipelineModel(stages=[\n",
        "    pdf_to_image,\n",
        "    binarizer,\n",
        "    opening,\n",
        "    remove_objects,\n",
        "    image_layout_analyzer,\n",
        "    draw_regions,\n",
        "    ocr,\n",
        "    ocr_corrected\n",
        "])"
      ]
    },
    {
      "cell_type": "markdown",
      "metadata": {
        "id": "sCGm9M186_sq"
      },
      "source": [
        "## Read image with noise"
      ]
    },
    {
      "cell_type": "code",
      "execution_count": null,
      "metadata": {
        "id": "LtgdhlCH6_sq",
        "outputId": "528df132-4981-4529-aea4-f7d1dfd5193b",
        "colab": {
          "base_uri": "https://localhost:8080/"
        }
      },
      "outputs": [
        {
          "output_type": "stream",
          "name": "stdout",
          "text": [
            "+--------------------+--------------------+-------+--------------------+\n",
            "|                path|    modificationTime| length|             content|\n",
            "+--------------------+--------------------+-------+--------------------+\n",
            "|file:/content/dat...|2023-11-17 17:47:...|2115939|[25 50 44 46 2D 3...|\n",
            "+--------------------+--------------------+-------+--------------------+\n",
            "\n"
          ]
        }
      ],
      "source": [
        "import pkg_resources\n",
        "imagePath ='data/pdfs/noised.pdf'\n",
        "image_df = spark.read.format(\"binaryFile\").load(imagePath).cache()\n",
        "image_df.show()"
      ]
    },
    {
      "cell_type": "markdown",
      "metadata": {
        "id": "V-fF6LJD6_sq"
      },
      "source": [
        "## Run OCR pipelines"
      ]
    },
    {
      "cell_type": "code",
      "execution_count": null,
      "metadata": {
        "id": "C_TEnhb46_sr"
      },
      "outputs": [],
      "source": [
        "result = pipeline \\\n",
        ".transform(image_df) \\\n",
        ".cache()"
      ]
    },
    {
      "cell_type": "markdown",
      "metadata": {
        "id": "3xrfbHZx6_sr"
      },
      "source": [
        "## Results with original imge"
      ]
    },
    {
      "cell_type": "code",
      "execution_count": null,
      "metadata": {
        "id": "DykRUD1z6_sr",
        "outputId": "7c0aabee-2fe5-4792-eaf7-6317353392f2",
        "colab": {
          "base_uri": "https://localhost:8080/"
        }
      },
      "outputs": [
        {
          "output_type": "stream",
          "name": "stdout",
          "text": [
            "Filename:\n",
            "file:/content/data/pdfs/noised.pdf , page: 0\n",
            "Recognized text:\n",
            "a 1S at ee et ere ee ee\n",
            "= —.\n",
            "\n",
            "omit — ee ee\n",
            "\n",
            "——— | ee ES ee ee oe\n",
            "\n",
            " \n",
            "\n",
            " \n",
            "\n",
            " \n",
            "\n",
            " \n",
            "\n",
            "Sates wos: wots\n",
            "< ° i se - Date: 7/16/68\n",
            "- ‘Sample No. _ 5031 * Some S a bel ing\n",
            "\n",
            "a Original request made by Mr. €. L. Tucker, Jr. ° on | ' 7/10/68\n",
            "\n",
            "Sample specifications written by\n",
            "\n",
            " \n",
            "\n",
            " \n",
            "\n",
            ". , BLEND CASING RECASING\n",
            "OLD GOLD STRAIGHT Tobacco Blend\n",
            "\n",
            "Control for Sample No. 5030\n",
            "\n",
            " \n",
            "\n",
            "af Cigarettes:\n",
            "\n",
            "OLD GOLD STRAIGHT\n",
            "\n",
            " \n",
            "\n",
            "Brand ---------\n",
            "' Length --------- 85 mm.\n",
            "Circumference--~ 25.3 mn.\n",
            "Paper ~---------- Ecusta 556 ;\n",
            "Fixmness. «-—--.. OLD GOLD STRAIGHT.\n",
            "Draw -----~-{~--~~ OLD GOLD STRAIGHT\n",
            "Weight --------- OLD GOLD STRAIGHT\n",
            "Tipping Paper -- _— _\n",
            "Print--~~~------~ OLD GOLD STRAIGHT\n",
            "C - Filter Length--- —=\n",
            "- =. Requirements:\n",
            "Laboratory ----- One Tray\n",
            "\n",
            "Others\n",
            "\n",
            " \n",
            "\n",
            "| ; £\n",
            "Laborat Analysis: ° ale\n",
            "ory Analysis:\n",
            ") Ee\n",
            "Tars and Nicotine, Taste Panel\n",
            "Benzo (A) Pyrene Analyses —\n",
            "Responsibility:\n",
            "\n",
            " \n",
            "\n",
            "Tobacco Blend\n",
            "Filter Production---\n",
            "Making & Packing -~-- Product\n",
            "Shipping .\n",
            "\n",
            " \n",
            "\n",
            "- Reports: | .\n",
            "\n",
            "Written by -- John H. M. Bohlken\n",
            "Original to -Mr. C. L. Tucker, Jr.\n",
            "Copies to ---Dr. A. W. Spears\n",
            "\n",
            "Manufacturing - A. Kraus\n",
            "\n",
            "John H. M. Bohlken\n",
            "' FINAL FLAVOR\n",
            "\n",
            " \n",
            "\n",
            " \n",
            "\n",
            "MENTHOL FLAVOR\n",
            "\n",
            ".\n",
            "s\n",
            ".\n",
            "\n",
            "—\" ~~ — = eee» «\n",
            "\n",
            "Wrappings:\n",
            "\n",
            " \n",
            "\n",
            "4\n",
            "Labels ---- OLD GOLD STRAIGHT\n",
            "Closures--- Standard Blue\n",
            "\n",
            "Gold ;\n",
            "\n",
            "OLD GOLD STRAIGHT\n",
            "Sample number on each\n",
            "‘pack and carton\n",
            "\n",
            "‘Tear Tape--\n",
            "Cartons ---\n",
            "Markings-~\n",
            "\n",
            "LE\n",
            "\n",
            "peo’\n",
            "\n",
            ", Burning Time, Gas Phase Analysis,\n",
            "\n",
            "7 7E-CF- 0.1 85: Fee .\n",
            "\n",
            "Development , John H. M. Bohlken -\n",
            "\n",
            "-\n",
            "\n",
            " \n",
            "\n",
            " \n",
            "\n"
          ]
        }
      ],
      "source": [
        "grouped_results = result.groupBy(\"path\", \"pagenum\").agg(F.concat_ws(\"\", F.collect_list(\"text\")).alias(\"text\"))\n",
        "for row in grouped_results.collect():\n",
        "    print(colored(\"Filename:\\n%s , page: %d\" % (row.path, row.pagenum), \"red\"))\n",
        "    print(\"Recognized text:\\n%s\" % row.text)"
      ]
    },
    {
      "cell_type": "markdown",
      "metadata": {
        "id": "yurM4DVa6_sr"
      },
      "source": [
        "## Results with corrected image"
      ]
    },
    {
      "cell_type": "code",
      "execution_count": null,
      "metadata": {
        "id": "FF0LLMba6_sr",
        "outputId": "82233c14-dbc2-4aec-a3d4-299bacf27c1f",
        "colab": {
          "base_uri": "https://localhost:8080/"
        }
      },
      "outputs": [
        {
          "output_type": "stream",
          "name": "stdout",
          "text": [
            "Filename:\n",
            "file:/content/data/pdfs/noised.pdf , page: 0\n",
            "Recognized text:\n",
            " \n",
            "\n",
            " \n",
            "\n",
            " \n",
            "\n",
            " \n",
            "\n",
            " \n",
            "\n",
            "2 7 Date: 7/16/68\n",
            "Sample No. —_ 5031 >\n",
            "* Oraginal request made by Mr. €. L Tucker, Jr. on ‘7/10/68\n",
            "Sample specifications written by John H. M. Bohlken\n",
            ", BLEND CASING RECASING FINAL FLAVOR MENTHOL FLAVOR\n",
            "\n",
            " \n",
            "\n",
            " \n",
            "\n",
            " \n",
            "\n",
            "OLD GOLD STRAIGHT Tobacco Blend\n",
            "\n",
            "Control for Sample No. 5030\n",
            "\n",
            "Cigarettes:\n",
            "\n",
            " \n",
            "\n",
            " \n",
            "\n",
            " \n",
            "\n",
            "Brand -+--------- OLD GOLD STRAIGHT\n",
            "Length --------- 85 mm.\n",
            "Circumference~~-~ 25.3 mm.\n",
            "Paper eee me meme Ecusta 556\n",
            "Firymness -----—-. OLD GOLD STRAIGHT\n",
            "Draw -----~~.~——. OLD GOLD STRAIGHT\n",
            "Weaght mee eee OLD GOLD STRAIGHT Wrappings ‘\n",
            "Tipping Paper -- --\n",
            "Prant-~---------- OLD GOLD STRAIGHT pene “777 OLD GOLD STRAIGHT\n",
            "Filter Length--- __ sures--- Standard Blue\n",
            "~ Tear Tape-- Gold\n",
            ". Cartons --- OLD GOLD STRAIGHT\n",
            "Requirements Markings-- Sample number on each\n",
            "\n",
            "Laboratory ----- One Tray . pack and carton\n",
            "Others ---~--~-----\n",
            "\n",
            " \n",
            "\n",
            "Tars and Nicotine, Taste Panel, Burning Time, Gas Phase Analysis,\n",
            "Benzo (A) Pyrene Analyses — 7-16 -CF- C2 VOSS 1 Ket\n",
            "\n",
            " \n",
            "\n",
            "Responsibility:\n",
            "Tobacco Blend ------ Manufacturing —- A. Kraus -\n",
            "Filter Production--- --\n",
            "\n",
            "Making & Packing --- Product Development , John H. M. Bohlken\n",
            "Shipping -----------\n",
            "\n",
            " \n",
            "\n",
            "Written by -- John H. M. Bohlken\n",
            "Original to -~Mr. C. L. Tucker, Jr.\n",
            "Copies to --- Dr. A. W. Spears\n",
            "\n",
            " \n",
            "\n",
            " \n",
            "\n"
          ]
        }
      ],
      "source": [
        "grouped_results = result.groupBy(\"path\", \"pagenum\").agg(F.concat_ws(\"\", F.collect_list(\"corrected_text\")).alias(\"corrected_text\"))\n",
        "for row in grouped_results.collect():\n",
        "    print(colored(\"Filename:\\n%s , page: %d\" % (row.path, row.pagenum), \"red\"))\n",
        "    print(\"Recognized text:\\n%s\" % row.corrected_text)"
      ]
    },
    {
      "cell_type": "markdown",
      "metadata": {
        "id": "vqmu3AOZ6_sr"
      },
      "source": [
        "## ABBYY Lingvo results"
      ]
    },
    {
      "cell_type": "code",
      "execution_count": null,
      "metadata": {
        "id": "V-3kUNNm6_ss"
      },
      "outputs": [],
      "source": [
        "abbyy = \"\"\"-----\n",
        "% Date: 7/16/68\n",
        "X*: I; * • ■ Sample No. 5031___ — .*\n",
        "•* Original request made by _____Mr. C. L. Tucker, Jr. on\n",
        "Sample specifications written by\n",
        "BLEND CASING RECASING\n",
        "OLD GOLD STRAIGHT Tobacco Blend\n",
        "Control for Sample No. 5030\n",
        "John H. M. Bohlken\n",
        "FINAL FLAVOR\n",
        ") 7/10/68\n",
        "MENTHOL FLAVOR\n",
        "• Cigarettes; * . .v\\ . /,*, *, S •\n",
        "Brand --------- OLD GOLD STRAIGHT -V . ••••\n",
        "; . L e n g t h ------- — 85 mm. . : '\n",
        "Circumference-- 25.3 mm. • ' *;. • •\n",
        "P a p e r ---------- Ecusta 556 • * .\n",
        "F i r m n e s s---- —— OLD GOLD STRAIGHT . ! •■'\n",
        "D r a w ___________ OLD GOLD STRAIGHT\n",
        "W e i g h t --------- 0LD GOLD STRAIGHT Wrappings: « -\n",
        "Tipping Paper — — *\n",
        "p H n f —. — — _ _ ~ L a b e l s ----OLD GOLD STRAIGHT\n",
        "( • Filter Length-- . — Closures--- Standard Blue .\n",
        "^ ^ ; • Tear Tape— Gold\n",
        "Cartons --- OLD GOLD STRAIGHT\n",
        "s Requirements: . - •' • Markings-- Sample number on each\n",
        "• pack and carton Laboratory----- One Tray .\n",
        "O t h e r s --------- * , s • • . 4\n",
        "Laboratory A n a l ysis^ I \" '/***• * 7 ' ^ ^\n",
        "Tars and Nicotine, Taste Panel, Burning Time, Gas Phase Analysis,\n",
        "Benzo (A) Pyrene Analyses — J-ZZ-Zf'- (£. / •\n",
        "Responsibility;\n",
        "Tobacco B l e n d ------Manufacturing - A. Kraus . . * -\n",
        "Filter Production--- —\n",
        "• Making & P a c k i n g---Product Development , John H. M. Bohlken\n",
        "Shipping -----------\n",
        "Reports:\n",
        "t\n",
        "Written by — John H. M. Bohlken\n",
        "Original to - Mr. C. L. Tucker, Jr.\n",
        "Copies t o ---Dr. A. W. Spears\n",
        "• 9 ..\n",
        "\"\"\""
      ]
    },
    {
      "cell_type": "markdown",
      "metadata": {
        "id": "HjwXbGUB6_ss"
      },
      "source": [
        "## Display original and corrected images with regions"
      ]
    },
    {
      "cell_type": "code",
      "execution_count": null,
      "metadata": {
        "id": "FPK2do156_ss"
      },
      "outputs": [],
      "source": [
        "for r in result.select(\"path\",\"image\",\"image_with_regions\").distinct().collect():\n",
        "    print(\"Original: %s\" % r.path)\n",
        "    display_image(r.image)\n",
        "    print(\"Corrected: %s\" % r.path)\n",
        "    display_image(r.image_with_regions)"
      ]
    }
  ],
  "metadata": {
    "kernelspec": {
      "display_name": "Python 3",
      "language": "python",
      "name": "python3"
    },
    "language_info": {
      "codemirror_mode": {
        "name": "ipython",
        "version": 3
      },
      "file_extension": ".py",
      "mimetype": "text/x-python",
      "name": "python",
      "nbconvert_exporter": "python",
      "pygments_lexer": "ipython3",
      "version": "3.7.9"
    },
    "colab": {
      "provenance": []
    }
  },
  "nbformat": 4,
  "nbformat_minor": 0
}