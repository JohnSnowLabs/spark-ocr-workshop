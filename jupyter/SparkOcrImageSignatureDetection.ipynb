{
 "cells": [
  {
   "cell_type": "markdown",
   "metadata": {},
   "source": [
    "# Example of usage Spark OCR for Signature Detection"
   ]
  },
  {
   "cell_type": "markdown",
   "metadata": {},
   "source": [
    "## Install spark-ocr python packge\n",
    "Need to specify:\n",
    "- secret\n",
    "- license\n",
    "- aws credentials"
   ]
  },
  {
   "cell_type": "code",
   "execution_count": 1,
   "metadata": {
    "execution": {
     "iopub.execute_input": "2021-06-15T23:51:58.331238Z",
     "iopub.status.busy": "2021-06-15T23:51:58.330333Z",
     "iopub.status.idle": "2021-06-15T23:51:58.332742Z",
     "shell.execute_reply": "2021-06-15T23:51:58.333275Z"
    },
    "pycharm": {
     "name": "#%%\n"
    }
   },
   "outputs": [],
   "source": [
    "'''\n",
    "secret = \"\"\n",
    "license = \"\"\n",
    "AWS_ACCESS_KEY_ID = \"\"\n",
    "AWS_SECRET_ACCESS_KEY = \"\"\n",
    "\n",
    "version = secret.split(\"-\")[0]\n",
    "spark_ocr_jar_path = \"../../target/scala-2.11\"\n",
    "imagePath = \"./data/signature/LIL18369-Lease_Z-1.jpg\"\n",
    "\n",
    "'''\n"
   ]
  },
  {
   "cell_type": "code",
   "execution_count": 1,
   "metadata": {},
   "outputs": [],
   "source": [
    "secret = \"\"\n",
    "\n",
    "spark_ocr_jar_path = \"../../target/scala-2.11\"\n",
    "imagePath = \"./data/signature/LIL18369-Lease_Z-1.jpg\""
   ]
  },
  {
   "cell_type": "code",
   "execution_count": null,
   "metadata": {},
   "outputs": [],
   "source": [
    "#%env JSL_OCR_LICENSE ="
   ]
  },
  {
   "cell_type": "code",
   "execution_count": null,
   "metadata": {},
   "outputs": [],
   "source": [
    "#%env AWS_ACCESS_KEY_ID=\n"
   ]
  },
  {
   "cell_type": "code",
   "execution_count": null,
   "metadata": {},
   "outputs": [],
   "source": [
    "#%env AWS_SECRET_ACCESS_KEY="
   ]
  },
  {
   "cell_type": "code",
   "execution_count": null,
   "metadata": {
    "execution": {
     "iopub.execute_input": "2021-06-15T23:51:58.340027Z",
     "iopub.status.busy": "2021-06-15T23:51:58.339116Z",
     "iopub.status.idle": "2021-06-15T23:51:58.373715Z",
     "shell.execute_reply": "2021-06-15T23:51:58.374256Z"
    },
    "pycharm": {
     "name": "#%%\n"
    }
   },
   "outputs": [],
   "source": [
    "%%bash\n",
    "if python -c 'import google.colab' &> /dev/null; then\n",
    "    echo \"Run on Google Colab!\"\n",
    "    echo \"Install Open JDK\"\n",
    "    apt-get install -y openjdk-8-jdk-headless -qq > /dev/null\n",
    "    java -version\n",
    "fi"
   ]
  },
  {
   "cell_type": "code",
   "execution_count": null,
   "metadata": {
    "execution": {
     "iopub.execute_input": "2021-06-15T23:51:58.380578Z",
     "iopub.status.busy": "2021-06-15T23:51:58.379679Z",
     "iopub.status.idle": "2021-06-15T23:51:58.381970Z",
     "shell.execute_reply": "2021-06-15T23:51:58.382523Z"
    },
    "pycharm": {
     "name": "#%%\n"
    }
   },
   "outputs": [],
   "source": [
    "import os\n",
    "import sys\n",
    "\n",
    "'''\n",
    "if AWS_ACCESS_KEY_ID != \"\":\n",
    "    os.environ[\"AWS_ACCESS_KEY_ID\"] = AWS_ACCESS_KEY_ID\n",
    "    os.environ[\"AWS_SECRET_ACCESS_KEY\"] = AWS_SECRET_ACCESS_KEY\n",
    "    \n",
    "if license:\n",
    "    os.environ['JSL_OCR_LICENSE'] = license\n",
    "    \n",
    "if 'google.colab' in sys.modules:\n",
    "  os.environ[\"JAVA_HOME\"] = \"/usr/lib/jvm/java-8-openjdk-amd64\"\n",
    "  os.environ[\"PATH\"] = os.environ[\"JAVA_HOME\"] + \"/bin:\" + os.environ[\"PATH\"]\n",
    "\n",
    "'''"
   ]
  },
  {
   "cell_type": "code",
   "execution_count": 2,
   "metadata": {
    "scrolled": true
   },
   "outputs": [
    {
     "name": "stdout",
     "output_type": "stream",
     "text": [
      "Processing /Users/chico/IdeaProjects/spark-ocr/python/dist/spark-ocr-3.3.0.spark23.tar.gz\n",
      "Requirement already satisfied: numpy==1.19.5 in /Users/chico/.local/share/virtualenvs/python-JF2RPhFl/lib/python3.7/site-packages (from spark-ocr===3.3.0.spark23) (1.19.5)\n",
      "Requirement already satisfied: pillow==8.1.2 in /Users/chico/.local/share/virtualenvs/python-JF2RPhFl/lib/python3.7/site-packages (from spark-ocr===3.3.0.spark23) (8.1.2)\n",
      "Collecting pyspark==2.3.4\n",
      "  Using cached pyspark-2.3.4-py2.py3-none-any.whl\n",
      "Requirement already satisfied: scikit-image==0.18.1 in /Users/chico/.local/share/virtualenvs/python-JF2RPhFl/lib/python3.7/site-packages (from spark-ocr===3.3.0.spark23) (0.18.1)\n",
      "Requirement already satisfied: implicits==1.0.2 in /Users/chico/.local/share/virtualenvs/python-JF2RPhFl/lib/python3.7/site-packages (from spark-ocr===3.3.0.spark23) (1.0.2)\n",
      "Collecting py4j==0.10.7\n",
      "  Using cached py4j-0.10.7-py2.py3-none-any.whl (197 kB)\n",
      "Requirement already satisfied: networkx>=2.0 in /Users/chico/.local/share/virtualenvs/python-JF2RPhFl/lib/python3.7/site-packages (from scikit-image==0.18.1->spark-ocr===3.3.0.spark23) (2.5.1)\n",
      "Requirement already satisfied: scipy>=1.0.1 in /Users/chico/.local/share/virtualenvs/python-JF2RPhFl/lib/python3.7/site-packages (from scikit-image==0.18.1->spark-ocr===3.3.0.spark23) (1.6.3)\n",
      "Requirement already satisfied: tifffile>=2019.7.26 in /Users/chico/.local/share/virtualenvs/python-JF2RPhFl/lib/python3.7/site-packages (from scikit-image==0.18.1->spark-ocr===3.3.0.spark23) (2021.6.6)\n",
      "Requirement already satisfied: PyWavelets>=1.1.1 in /Users/chico/.local/share/virtualenvs/python-JF2RPhFl/lib/python3.7/site-packages (from scikit-image==0.18.1->spark-ocr===3.3.0.spark23) (1.1.1)\n",
      "Requirement already satisfied: matplotlib!=3.0.0,>=2.0.0 in /Users/chico/.local/share/virtualenvs/python-JF2RPhFl/lib/python3.7/site-packages (from scikit-image==0.18.1->spark-ocr===3.3.0.spark23) (3.4.2)\n",
      "Requirement already satisfied: imageio>=2.3.0 in /Users/chico/.local/share/virtualenvs/python-JF2RPhFl/lib/python3.7/site-packages (from scikit-image==0.18.1->spark-ocr===3.3.0.spark23) (2.9.0)\n",
      "Requirement already satisfied: kiwisolver>=1.0.1 in /Users/chico/.local/share/virtualenvs/python-JF2RPhFl/lib/python3.7/site-packages (from matplotlib!=3.0.0,>=2.0.0->scikit-image==0.18.1->spark-ocr===3.3.0.spark23) (1.3.1)\n",
      "Requirement already satisfied: python-dateutil>=2.7 in /Users/chico/.local/share/virtualenvs/python-JF2RPhFl/lib/python3.7/site-packages (from matplotlib!=3.0.0,>=2.0.0->scikit-image==0.18.1->spark-ocr===3.3.0.spark23) (2.8.1)\n",
      "Requirement already satisfied: cycler>=0.10 in /Users/chico/.local/share/virtualenvs/python-JF2RPhFl/lib/python3.7/site-packages (from matplotlib!=3.0.0,>=2.0.0->scikit-image==0.18.1->spark-ocr===3.3.0.spark23) (0.10.0)\n",
      "Requirement already satisfied: pyparsing>=2.2.1 in /Users/chico/.local/share/virtualenvs/python-JF2RPhFl/lib/python3.7/site-packages (from matplotlib!=3.0.0,>=2.0.0->scikit-image==0.18.1->spark-ocr===3.3.0.spark23) (2.4.7)\n",
      "Requirement already satisfied: six in /Users/chico/.local/share/virtualenvs/python-JF2RPhFl/lib/python3.7/site-packages (from cycler>=0.10->matplotlib!=3.0.0,>=2.0.0->scikit-image==0.18.1->spark-ocr===3.3.0.spark23) (1.16.0)\n",
      "Requirement already satisfied: decorator<5,>=4.3 in /Users/chico/.local/share/virtualenvs/python-JF2RPhFl/lib/python3.7/site-packages (from networkx>=2.0->scikit-image==0.18.1->spark-ocr===3.3.0.spark23) (4.4.2)\n",
      "Building wheels for collected packages: spark-ocr\n",
      "  Building wheel for spark-ocr (setup.py) ... \u001b[?25ldone\n",
      "\u001b[?25h  Created wheel for spark-ocr: filename=spark_ocr-3.3.0.spark23-py3-none-any.whl size=16461425 sha256=8fde7f847ce5f4d298148f9355228befb38a74199bb07bcb91f0e464dc8aae5c\n",
      "  Stored in directory: /Users/chico/Library/Caches/pip/wheels/77/78/96/d22be138eadec2da52a96b18cf24ebe9f0b2fdcb33362248eb\n",
      "\u001b[33m  WARNING: Built wheel for spark-ocr is invalid: Metadata 1.2 mandates PEP 440 version, but '3.3.0.spark23' is not\u001b[0m\n",
      "Failed to build spark-ocr\n",
      "Installing collected packages: py4j, pyspark, spark-ocr\n",
      "  Attempting uninstall: py4j\n",
      "    Found existing installation: py4j 0.10.9\n",
      "    Uninstalling py4j-0.10.9:\n",
      "      Successfully uninstalled py4j-0.10.9\n",
      "  Attempting uninstall: pyspark\n",
      "    Found existing installation: pyspark 3.0.2\n",
      "    Uninstalling pyspark-3.0.2:\n",
      "      Successfully uninstalled pyspark-3.0.2\n",
      "  Attempting uninstall: spark-ocr\n",
      "    Found existing installation: spark-ocr 3.3.0.spark30\n",
      "    Uninstalling spark-ocr-3.3.0.spark30:\n",
      "      Successfully uninstalled spark-ocr-3.3.0.spark30\n",
      "    Running setup.py install for spark-ocr ... \u001b[?25ldone\n",
      "\u001b[33m  DEPRECATION: spark-ocr was installed using the legacy 'setup.py install' method, because a wheel could not be built for it. A possible replacement is to fix the wheel build issue reported above. You can find discussion regarding this at https://github.com/pypa/pip/issues/8368.\u001b[0m\n",
      "\u001b[?25hSuccessfully installed py4j-0.10.7 pyspark-2.3.4 spark-ocr-3.3.0.spark23\n",
      "Note: you may need to restart the kernel to use updated packages.\n"
     ]
    }
   ],
   "source": [
    "#%pip install ../../python/dist/spark-ocr-3.3.0.spark24.tar.gz"
   ]
  },
  {
   "cell_type": "markdown",
   "metadata": {},
   "source": [
    "## Initialization of spark session\n",
    "Need specify path to `spark-ocr-assembly.jar` or `secret`"
   ]
  },
  {
   "cell_type": "code",
   "execution_count": 3,
   "metadata": {
    "execution": {
     "iopub.execute_input": "2021-06-15T23:51:58.387039Z",
     "iopub.status.busy": "2021-06-15T23:51:58.386336Z",
     "iopub.status.idle": "2021-06-15T23:52:05.516939Z",
     "shell.execute_reply": "2021-06-15T23:52:05.517473Z"
    },
    "pycharm": {
     "name": "#%%\n"
    }
   },
   "outputs": [
    {
     "name": "stdout",
     "output_type": "stream",
     "text": [
      "Spark version: 2.4.7\n",
      "Spark NLP version: 2.5.5\n",
      "Spark OCR version: 3.3.0\n",
      "\n"
     ]
    },
    {
     "data": {
      "text/html": [
       "\n",
       "            <div>\n",
       "                <p><b>SparkSession - in-memory</b></p>\n",
       "                \n",
       "        <div>\n",
       "            <p><b>SparkContext</b></p>\n",
       "\n",
       "            <p><a href=\"http://chicos-mbp:4040\">Spark UI</a></p>\n",
       "\n",
       "            <dl>\n",
       "              <dt>Version</dt>\n",
       "                <dd><code>v2.4.7</code></dd>\n",
       "              <dt>Master</dt>\n",
       "                <dd><code>local[*]</code></dd>\n",
       "              <dt>AppName</dt>\n",
       "                <dd><code>Spark OCR</code></dd>\n",
       "            </dl>\n",
       "        </div>\n",
       "        \n",
       "            </div>\n",
       "        "
      ],
      "text/plain": [
       "<pyspark.sql.session.SparkSession at 0x11200ff90>"
      ]
     },
     "execution_count": 3,
     "metadata": {},
     "output_type": "execute_result"
    }
   ],
   "source": [
    "from pyspark import SparkConf\n",
    "from sparkocr import start\n",
    "\n",
    "spark = start(secret=secret, jar_path = spark_ocr_jar_path, nlp_version=\"3.0.0\")\n",
    "\n",
    "spark"
   ]
  },
  {
   "cell_type": "code",
   "execution_count": 4,
   "metadata": {},
   "outputs": [],
   "source": [
    "spark.sparkContext.setLogLevel(\"DEBUG\")\n"
   ]
  },
  {
   "cell_type": "markdown",
   "metadata": {},
   "source": [
    "## Read images and display it"
   ]
  },
  {
   "cell_type": "code",
   "execution_count": 5,
   "metadata": {
    "execution": {
     "iopub.execute_input": "2021-06-15T23:52:05.523049Z",
     "iopub.status.busy": "2021-06-15T23:52:05.522301Z",
     "iopub.status.idle": "2021-06-15T23:52:07.571074Z",
     "shell.execute_reply": "2021-06-15T23:52:07.571616Z"
    }
   },
   "outputs": [
    {
     "name": "stdout",
     "output_type": "stream",
     "text": [
      "\n",
      "    Image #0:\n",
      "    Origin: file:/Users/chico/IdeaProjects/spark-ocr/workshop/jupyter/data/signature/LIL18369-Lease_Z-1.jpg\n",
      "    Resolution: 0 dpi\n",
      "    Width: 612 px\n",
      "    Height: 792 px\n",
      "    Mode: ImageType.TYPE_BYTE_GRAY\n",
      "    Number of channels: 1\n"
     ]
    },
    {
     "data": {
      "image/png": "[encoded data removed]",
      "text/plain": [
       "<PIL.Image.Image image mode=L size=612x792 at 0x14A5DC810>"
      ]
     },
     "metadata": {
      "width": 600
     },
     "output_type": "display_data"
    }
   ],
   "source": [
    "from pyspark.ml import PipelineModel\n",
    "import pyspark.sql.functions as f\n",
    "from sparkocr.transformers import *\n",
    "from sparkocr.enums import *\n",
    "from sparkocr.utils import display_images\n",
    "\n",
    "image_df = spark.read.format(\"binaryFile\").load(imagePath)\n",
    "\n",
    "display_images(BinaryToImage().transform(image_df), \"image\")"
   ]
  },
  {
   "cell_type": "markdown",
   "metadata": {},
   "source": [
    "## Define OCR Pipeline"
   ]
  },
  {
   "cell_type": "code",
   "execution_count": 6,
   "metadata": {
    "execution": {
     "iopub.execute_input": "2021-06-15T23:52:07.577569Z",
     "iopub.status.busy": "2021-06-15T23:52:07.576769Z",
     "iopub.status.idle": "2021-06-15T23:52:14.980675Z",
     "shell.execute_reply": "2021-06-15T23:52:14.981707Z"
    }
   },
   "outputs": [
    {
     "name": "stdout",
     "output_type": "stream",
     "text": [
      "image_signature_detector_gsa0611 download started this may take some time.\n",
      "Approximate size to download 247.1 MB\n"
     ]
    }
   ],
   "source": [
    "binary_to_image = BinaryToImage()\n",
    "binary_to_image.setImageType(ImageType.TYPE_3BYTE_BGR)\n",
    "\n",
    "pretrained_model = (\"image_signature_detector_gsa0611\", \"en\", \"public/ocr/models\")\n",
    "signature_detector = ImageSignatureDetector()\n",
    "signature_detector.pretrained(*pretrained_model)\n",
    "signature_detector.setInputCol(\"image\")\n",
    "signature_detector.setOutputCol(\"signature_regions\")\n",
    "\n",
    "draw_regions = ImageDrawRegions()\n",
    "draw_regions.setInputCol(\"image\")\n",
    "draw_regions.setInputRegionsCol(\"signature_regions\")\n",
    "draw_regions.setOutputCol(\"image_with_regions\")\n",
    "\n",
    "pipeline = PipelineModel(stages=[\n",
    "    binary_to_image,\n",
    "    signature_detector,\n",
    "    #draw_regions\n",
    "])"
   ]
  },
  {
   "cell_type": "markdown",
   "metadata": {},
   "source": [
    "## Run pipeline and show results"
   ]
  },
  {
   "cell_type": "code",
   "execution_count": 7,
   "metadata": {
    "execution": {
     "iopub.execute_input": "2021-06-15T23:52:14.986714Z",
     "iopub.status.busy": "2021-06-15T23:52:14.985963Z",
     "iopub.status.idle": "2021-06-15T23:52:15.328659Z",
     "shell.execute_reply": "2021-06-15T23:52:15.329220Z"
    }
   },
   "outputs": [],
   "source": [
    "result =  pipeline.transform(image_df)\n",
    "#display_images(result, \"image_with_regions\")"
   ]
  },
  {
   "cell_type": "code",
   "execution_count": 8,
   "metadata": {
    "execution": {
     "iopub.execute_input": "2021-06-15T23:52:15.333405Z",
     "iopub.status.busy": "2021-06-15T23:52:15.332636Z",
     "iopub.status.idle": "2021-06-15T23:52:15.394731Z",
     "shell.execute_reply": "2021-06-15T23:52:15.394196Z"
    }
   },
   "outputs": [],
   "source": [
    "result = result.withColumn(\"coordinate\", f.explode(f.col(\"signature_regions.coordinates\"))).select(\"coordinate\")\n"
   ]
  },
  {
   "cell_type": "code",
   "execution_count": 9,
   "metadata": {},
   "outputs": [],
   "source": [
    "result = result.where(f.col(\"coordinate\").isNotNull())\n"
   ]
  },
  {
   "cell_type": "code",
   "execution_count": 10,
   "metadata": {
    "execution": {
     "iopub.execute_input": "2021-06-15T23:52:15.399419Z",
     "iopub.status.busy": "2021-06-15T23:52:15.398656Z",
     "iopub.status.idle": "2021-06-15T23:52:17.182528Z",
     "shell.execute_reply": "2021-06-15T23:52:17.183327Z"
    }
   },
   "outputs": [
    {
     "ename": "AssertionError",
     "evalue": "",
     "output_type": "error",
     "traceback": [
      "\u001b[0;31m---------------------------------------------------------------------------\u001b[0m",
      "\u001b[0;31mAssertionError\u001b[0m                            Traceback (most recent call last)",
      "\u001b[0;32m<ipython-input-10-7b7f7e1bb799>\u001b[0m in \u001b[0;36m<module>\u001b[0;34m\u001b[0m\n\u001b[0;32m----> 1\u001b[0;31m \u001b[0;32massert\u001b[0m\u001b[0;34m(\u001b[0m \u001b[0mresult\u001b[0m\u001b[0;34m.\u001b[0m\u001b[0mcount\u001b[0m\u001b[0;34m(\u001b[0m\u001b[0;34m)\u001b[0m \u001b[0;34m>\u001b[0m \u001b[0;36m0\u001b[0m \u001b[0;34m)\u001b[0m\u001b[0;34m\u001b[0m\u001b[0;34m\u001b[0m\u001b[0m\n\u001b[0m",
      "\u001b[0;31mAssertionError\u001b[0m: "
     ]
    }
   ],
   "source": [
    "assert( result.count() > 0 )"
   ]
  },
  {
   "cell_type": "code",
   "execution_count": 12,
   "metadata": {
    "execution": {
     "iopub.execute_input": "2021-06-15T23:52:17.188839Z",
     "iopub.status.busy": "2021-06-15T23:52:17.187675Z",
     "iopub.status.idle": "2021-06-15T23:52:17.334211Z",
     "shell.execute_reply": "2021-06-15T23:52:17.334745Z"
    }
   },
   "outputs": [
    {
     "data": {
      "text/plain": [
       "0"
      ]
     },
     "execution_count": 12,
     "metadata": {},
     "output_type": "execute_result"
    }
   ],
   "source": [
    "result.count()"
   ]
  },
  {
   "cell_type": "code",
   "execution_count": null,
   "metadata": {},
   "outputs": [],
   "source": []
  }
 ],
 "metadata": {
  "kernelspec": {
   "display_name": "spark-ocr-24",
   "language": "python",
   "name": "spark-ocr-24"
  },
  "language_info": {
   "codemirror_mode": {
    "name": "ipython",
    "version": 3
   },
   "file_extension": ".py",
   "mimetype": "text/x-python",
   "name": "python",
   "nbconvert_exporter": "python",
   "pygments_lexer": "ipython3",
   "version": "3.7.10"
  }
 },
 "nbformat": 4,
 "nbformat_minor": 2
}