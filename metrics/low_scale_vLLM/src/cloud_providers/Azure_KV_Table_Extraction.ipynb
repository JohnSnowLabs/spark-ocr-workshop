{
 "cells": [
  {
   "cell_type": "code",
   "execution_count": 6,
   "id": "c68d729c",
   "metadata": {},
   "outputs": [],
   "source": [
    "from azure.core.credentials import AzureKeyCredential\n",
    "from azure.ai.formrecognizer import DocumentAnalysisClient\n",
    "\n",
    "import os\n",
    "import json"
   ]
  },
  {
   "cell_type": "code",
   "execution_count": null,
   "id": "e5a23cf7",
   "metadata": {},
   "outputs": [],
   "source": [
    "root_path = \"/\".join(os.getcwd().split(\"/\")[:-1])\n",
    "\n",
    "azure_root_path = os.path.join(root_path,\"azureOutput\")\n",
    "\n",
    "images_root_path = os.path.join(root_path,\"imagesPerPage\")"
   ]
  },
  {
   "cell_type": "code",
   "execution_count": 2,
   "id": "f7edca9d",
   "metadata": {},
   "outputs": [],
   "source": [
    "credentials_path = \"./credentials.json\"\n",
    "with open(credentials_path,\"r\") as file:\n",
    "    creds = json.loads(file.read())"
   ]
  },
  {
   "cell_type": "markdown",
   "id": "68bf068c",
   "metadata": {},
   "source": [
    "<h2>Call Azure Form Recognizer Cloud Service</h2>"
   ]
  },
  {
   "cell_type": "code",
   "execution_count": 3,
   "id": "14321c8a",
   "metadata": {},
   "outputs": [],
   "source": [
    "#https://github.com/Azure/azure-sdk-for-python/tree/main/sdk/formrecognizer/azure-ai-formrecognizer/samples\n",
    "document_analysis_client = DocumentAnalysisClient(\n",
    "    endpoint=creds[\"azure_vision_endpoint\"], credential=AzureKeyCredential(creds[\"azure_vision_key\"])\n",
    ")"
   ]
  },
  {
   "cell_type": "code",
   "execution_count": 6,
   "id": "5a1cc819",
   "metadata": {},
   "outputs": [
    {
     "name": "stdout",
     "output_type": "stream",
     "text": [
      "Processing Folder --> oncoextra-tnbc-ntrk-wm-sample-report_pdf\n",
      "Processing Folder --> Caris-Molecular-Intelligence_MI-Profile_Breast_NOS_WEBchanged_pdf\n",
      "Processing Folder --> F1CDx Sample Report (Lung) (copy)_pdf\n",
      "Processing Folder --> F1CDx Sample Report (Lung) changed_pdf\n",
      "Processing Folder --> CarisReport_2023_NSCLC_KRAS_G12C_PD-L1-unlocked_pdf\n",
      "Processing Folder --> Sample-NGS-Thyroid-MTC-report_changed_pdf\n",
      "Processing Folder --> Tempus-Onco_Clinical-Report-Sample_pdf\n",
      "Processing Folder --> Positive-Report_pdf\n"
     ]
    }
   ],
   "source": [
    "for folder in os.listdir(images_root_path):\n",
    "    if folder != \".DS_Store\":\n",
    "        print(f\"Processing Folder --> {folder}\", end=\"\\n\")\n",
    "\n",
    "        folder_dir = os.path.join(images_root_path,folder)\n",
    "        azure_dir = os.path.join(azure_root_path,folder,\"annotation\")\n",
    "\n",
    "        os.makedirs(azure_dir,exist_ok=True)\n",
    "\n",
    "        for image_file in os.listdir(folder_dir):\n",
    "            image_file_dir = os.path.join(folder_dir,image_file)\n",
    "            result_save_dir = os.path.join(azure_dir,image_file.replace(\".png\",\".json\"))\n",
    "\n",
    "            with open(image_file_dir,\"rb\") as load_file:\n",
    "                poller = document_analysis_client.begin_analyze_document(\"prebuilt-document\", document=load_file)\n",
    "\n",
    "            result = poller.result()\n",
    "            result_json = result.to_dict()\n",
    "\n",
    "            with open(result_save_dir,\"w\") as write_file:\n",
    "                write_file.write(json.dumps(result_json))"
   ]
  },
  {
   "cell_type": "markdown",
   "id": "d098e016",
   "metadata": {},
   "source": [
    "<h2>Extract Azure Form Recognizer Response</h2>"
   ]
  },
  {
   "cell_type": "code",
   "execution_count": 29,
   "id": "a32ed2f4",
   "metadata": {},
   "outputs": [],
   "source": [
    "def extract_kv_pairs(response):\n",
    "    out = {}\n",
    "    for item in response[\"key_value_pairs\"]:\n",
    "        key = item[\"key\"][\"content\"]\n",
    "        val = item[\"value\"][\"content\"] if item[\"value\"] != None  else \"\"\n",
    "        \n",
    "        out[key] = [val]\n",
    "    \n",
    "    return out"
   ]
  },
  {
   "cell_type": "code",
   "execution_count": 30,
   "id": "2695c601",
   "metadata": {},
   "outputs": [],
   "source": [
    "def extract_table(response):\n",
    "    table_lines = \"\"\n",
    "    for table in response[\"tables\"]:\n",
    "        current_index = 0\n",
    "        for content in table[\"cells\"]:\n",
    "            if content[\"row_index\"] == current_index:\n",
    "                table_lines += content[\"content\"] + \"<sep>\"\n",
    "            else:\n",
    "                table_lines += \"\\n\"\n",
    "                current_index += 1\n",
    "                table_lines += content[\"content\"] + \"<sep>\"\n",
    "\n",
    "        table_lines += \"\\n\\n\\nEnd of table.\\n\"\n",
    "        current_index = 0 \n",
    "    \n",
    "    return table_lines"
   ]
  },
  {
   "cell_type": "code",
   "execution_count": 31,
   "id": "270c943f",
   "metadata": {},
   "outputs": [],
   "source": [
    "def extract_json_from_csv(csv):    \n",
    "    out = {}\n",
    "\n",
    "    tables = csv.split(\"\\n\\n\\nEnd of table.\\n\")[:-1]\n",
    "\n",
    "    for table in tables:\n",
    "        table_lines = table.split(\"\\n\")[:-1]\n",
    "        table_cells = [i.split(\"<sep>\")[:-1] for i in table_lines]\n",
    "\n",
    "        headers = table_cells[0]\n",
    "        header_count = len(headers)\n",
    "\n",
    "        for row in table_cells[1:]:\n",
    "            if len(row) >= header_count:\n",
    "                for header, value in zip(headers, row):\n",
    "                    if header not in out:\n",
    "                        out[header] = []\n",
    "                    out[header].append(value)\n",
    "\n",
    "    return out"
   ]
  },
  {
   "cell_type": "code",
   "execution_count": 35,
   "id": "3540bbee",
   "metadata": {},
   "outputs": [],
   "source": [
    "def combine_table_kvs(table_json,kvs):\n",
    "    \n",
    "    for key,value in kvs.items():\n",
    "        stripped_key = key.strip()\n",
    "        stripped_value = [i.strip() for i in value]\n",
    "        \n",
    "        if stripped_key in table_json.keys():\n",
    "            table_json[stripped_key].extend(stripped_value)\n",
    "\n",
    "        else:\n",
    "            table_json[stripped_key] = []\n",
    "            table_json[stripped_key].extend(stripped_value)\n",
    "    \n",
    "    return table_json"
   ]
  },
  {
   "cell_type": "code",
   "execution_count": 36,
   "id": "fd6d4181",
   "metadata": {},
   "outputs": [],
   "source": [
    "for folder in os.listdir(azure_root_path):\n",
    "    if folder != \".DS_Store\":\n",
    "        annotation_dir = os.path.join(azure_root_path,folder,\"annotation\")\n",
    "        results_dir = os.path.join(azure_root_path,folder,\"results\")\n",
    "        \n",
    "        os.makedirs(results_dir,exist_ok=True)\n",
    "        \n",
    "        for jsonFile in os.listdir(annotation_dir):\n",
    "            payload_dir = os.path.join(annotation_dir,jsonFile)\n",
    "            table_save_dir = os.path.join(results_dir,jsonFile.split(\".json\")[0] + \"_table_result.csv\")\n",
    "            json_table_save_dir = os.path.join(results_dir,jsonFile.split(\".json\")[0] + \"_json_result.json\")\n",
    "\n",
    "            with open(payload_dir,\"r\") as load_file:\n",
    "                json_payload = json.loads(load_file.read())\n",
    "            \n",
    "            kvs = extract_kv_pairs(json_payload)\n",
    "            csv = extract_table(json_payload)\n",
    "            json_table = extract_json_from_csv(csv)\n",
    "            \n",
    "            master = combine_table_kvs(json_table,kvs)\n",
    "            \n",
    "            with open(table_save_dir,\"w\") as save_file:\n",
    "                save_file.write(csv)\n",
    "\n",
    "            with open(json_table_save_dir, \"w\") as json_save_file:\n",
    "                json_save_file.write(json.dumps(master))"
   ]
  }
 ],
 "metadata": {
  "kernelspec": {
   "display_name": "Python 3 (ipykernel)",
   "language": "python",
   "name": "python3"
  },
  "language_info": {
   "codemirror_mode": {
    "name": "ipython",
    "version": 3
   },
   "file_extension": ".py",
   "mimetype": "text/x-python",
   "name": "python",
   "nbconvert_exporter": "python",
   "pygments_lexer": "ipython3",
   "version": "3.9.18"
  }
 },
 "nbformat": 4,
 "nbformat_minor": 5
}
