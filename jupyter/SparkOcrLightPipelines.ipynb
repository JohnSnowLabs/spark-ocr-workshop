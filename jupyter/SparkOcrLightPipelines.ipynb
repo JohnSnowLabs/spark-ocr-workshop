{
 "cells": [
  {
   "cell_type": "markdown",
   "metadata": {},
   "source": [
    "# Example of using LightPipelines on Spark OCR\n",
    "## Install spark-ocr python packge\n",
    "Need specify path to `spark-ocr-assembly-[version].jar` or `secret`"
   ]
  },
  {
   "cell_type": "code",
   "execution_count": 1,
   "metadata": {},
   "outputs": [],
   "source": [
    "secret = \"\"\n",
    "license = \"\"\n",
    "version = secret.split(\"-\")[0]\n",
    "spark_ocr_jar_path = \"../../target/scala-2.12\""
   ]
  },
  {
   "cell_type": "code",
   "execution_count": 3,
   "metadata": {},
   "outputs": [],
   "source": [
    "%%bash\n",
    "if python -c 'import google.colab' &> /dev/null; then\n",
    "    echo \"Run on Google Colab!\"\n",
    "    echo \"Install Open JDK\"\n",
    "    apt-get install -y openjdk-8-jdk-headless -qq > /dev/null\n",
    "    java -version\n",
    "fi"
   ]
  },
  {
   "cell_type": "code",
   "execution_count": 4,
   "metadata": {},
   "outputs": [],
   "source": [
    "import sys\n",
    "import os\n",
    "\n",
    "if 'google.colab' in sys.modules:\n",
    "  os.environ[\"JAVA_HOME\"] = \"/usr/lib/jvm/java-8-openjdk-amd64\"\n",
    "  os.environ[\"PATH\"] = os.environ[\"JAVA_HOME\"] + \"/bin:\" + os.environ[\"PATH\"]"
   ]
  },
  {
   "cell_type": "markdown",
   "metadata": {},
   "source": [
    "## Initialization of spark session"
   ]
  },
  {
   "cell_type": "code",
   "execution_count": 2,
   "metadata": {},
   "outputs": [
    {
     "name": "stdout",
     "output_type": "stream",
     "text": [
      "Spark version: 3.2.1\n",
      "Spark NLP version: 4.2.1\n",
      "Spark NLP for Healthcare version: 4.2.1\n",
      "Spark OCR version: 4.2.1rc1\n",
      "\n"
     ]
    },
    {
     "data": {
      "text/html": [
       "\n",
       "            <div>\n",
       "                <p><b>SparkSession - in-memory</b></p>\n",
       "                \n",
       "        <div>\n",
       "            <p><b>SparkContext</b></p>\n",
       "\n",
       "            <p><a href=\"http://192.168.0.14:4040\">Spark UI</a></p>\n",
       "\n",
       "            <dl>\n",
       "              <dt>Version</dt>\n",
       "                <dd><code>v3.2.1</code></dd>\n",
       "              <dt>Master</dt>\n",
       "                <dd><code>local[*]</code></dd>\n",
       "              <dt>AppName</dt>\n",
       "                <dd><code>Spark OCR</code></dd>\n",
       "            </dl>\n",
       "        </div>\n",
       "        \n",
       "            </div>\n",
       "        "
      ],
      "text/plain": [
       "<pyspark.sql.session.SparkSession at 0x7fe63772ed10>"
      ]
     },
     "execution_count": 2,
     "metadata": {},
     "output_type": "execute_result"
    }
   ],
   "source": [
    "from pyspark.sql import SparkSession\n",
    "from sparkocr import start\n",
    "\n",
    "if license:\n",
    "    os.environ['JSL_OCR_LICENSE'] = license\n",
    "\n",
    "spark = start(secret=secret, jar_path=spark_ocr_jar_path)\n",
    "spark"
   ]
  },
  {
   "cell_type": "code",
   "execution_count": 3,
   "metadata": {},
   "outputs": [],
   "source": [
    "from pyspark.ml import PipelineModel\n",
    "from pyspark.sql.functions import *\n",
    "from sparkocr.transformers import *"
   ]
  },
  {
   "cell_type": "code",
   "execution_count": 4,
   "metadata": {},
   "outputs": [],
   "source": [
    "pdfs_path = \"./pdfs\""
   ]
  },
  {
   "cell_type": "markdown",
   "metadata": {},
   "source": [
    "## Define OCR pipeline"
   ]
  },
  {
   "cell_type": "code",
   "execution_count": 5,
   "metadata": {},
   "outputs": [],
   "source": [
    "# Transform binary to image\n",
    "pdf_to_image = PdfToImage()\n",
    "pdf_to_image.setOutputCol(\"image\")\n",
    "\n",
    "# Run OCR for each region\n",
    "ocr = ImageToText()\n",
    "ocr.setInputCol(\"image\")\n",
    "ocr.setOutputCol(\"text\")\n",
    "ocr.setConfidenceThreshold(60)\n",
    "\n",
    "# OCR pipeline\n",
    "pipeline = PipelineModel(stages=[\n",
    "    pdf_to_image,\n",
    "    ocr\n",
    "])"
   ]
  },
  {
   "cell_type": "markdown",
   "metadata": {},
   "source": [
    "## Create LightPipeline"
   ]
  },
  {
   "cell_type": "code",
   "execution_count": 6,
   "metadata": {},
   "outputs": [],
   "source": [
    "from sparkocr.base import LightPipeline"
   ]
  },
  {
   "cell_type": "code",
   "execution_count": 7,
   "metadata": {},
   "outputs": [],
   "source": [
    "lp = LightPipeline(pipeline)"
   ]
  },
  {
   "cell_type": "code",
   "execution_count": 8,
   "metadata": {},
   "outputs": [
    {
     "name": "stdout",
     "output_type": "stream",
     "text": [
      "CPU times: user 7.98 ms, sys: 0 ns, total: 7.98 ms\n",
      "Wall time: 10.5 s\n"
     ]
    }
   ],
   "source": [
    "%%time\n",
    "result = lp.fromLocalPath(pdfs_path)"
   ]
  },
  {
   "cell_type": "code",
   "execution_count": 9,
   "metadata": {},
   "outputs": [
    {
     "data": {
      "text/plain": [
       "{0: 'Result Information\\nStatus Provider Status\\n\\nFinal result Reviewed\\na Date\\n\\nComponent Results\\n\\nComponent Lab\\nSurgical Pathology\\n\\nPatient Nam\\nMR#:! }CD-O-3\\nSpecime\\nCarcinome unsthelialWos\\n\\nFinal Diagnosis Z)20f/3\\n\\nA. Right ureter, biopsy: in\\n-Segment of benign ureter, negative for tumor Sitez L lacs Aer, Wall, 5\\n-Frozen section diagnosis confirmed\\n\\nCw. 4\\n\\n \\n\\n \\n\\nB. Left ureter, biopsy: Br2ATM IA\\n-Segment of benign ureter, negative for tumor £0\\n-Frozen section diagnosis confirmed\\n\\nC. Left external and internal lymph nodes, resection:\\n-Benign fibrovascular tissue, negative for tumor\\n-No lymph nodes identified\\n\\nD. Left internal and external iliac lymph node, resection:\\n-Single lymph node with metastatic urothelial carcinoma, 1.8 cm largest diameter\\n(1/1)\\n\\nE. Left internal and external iliac lymph nodes, resection:\\n-Eight benign lymph nodes and fibroadipose tissue, negative for tumor (0/8)\\n\\nF. Left obturator lymph node, resection:\\n-Three benign lymph nodes and fibroadipose tissue, negative for tumor (0/3)\\n\\nG. Left common iliac lymph, resection:\\n-One benign lymph nodes and fibroadipose tissue, negative for tumor (0/1)\\n\\nH. Right internal and external iliac node, resection:\\n-One benign lymph nodes and fibroadipose tissue, negative for tumor (0/1)\\n\\n|. Right obturator lymph node, resection:\\n-Benign fibroadipose tissue, negative for tumor\\n\\nJ. Urinary bladder and prostate, radical cystoprostatectomy: sivera | ves we\\n-Invasive high grade urothelial carcinoma with glandular, micropapillary and zee irony oe\\nsarcomatoid differentiation, 4.0 cm. involving bladder diverticulum Taateneee se fd)\\n-Tumor invades into perivesicle tissue (pT3a)\\n\\n \\n\\n \\n\\n \\n   \\n \\n\\n \\n\\n \\n\\n \\n\\n  \\n\\n \\n\\n \\n\\n \\n\\n \\n\\n \\n\\nPage 1 of 8\\n\\n \\n', 5: \" \\n\\nPosterior bladder ~ black\\n\\nSection key:\\n\\nJ1 - urethral margin\\n\\nJ2 - bladder neck right\\n\\nJ3 - bladder neck left\\n\\nJ4 - right uretal orifice, blue ink on ureter\\n\\nJ5 - left uretal orifice, blue ink on ureter\\n\\nJ6-J8 - tumor posterior wail, each full thickness section\\n\\nJ9-J10 tumor right wall, each full thickness section\\n\\nJ12-J13 - tumor left diverticulum, each full thickness sections\\nJ14-J15 - tumor left wall, full thickness sections\\n\\nJ16 tumor left diverticulum\\n\\nJ17-J18 - tumor left diverticulum to within 0.2 cm of perivesicular adipose\\ntissue\\n\\nJ19-J20 - tumor anterior wall\\n\\nJ21 - prostate right seminal vesicle - prostatic interface, vas deferens\\nJ22 - slab 1, apex prostate\\n\\nJ23 - slab 3, right posterior prostate\\n\\nJ24 - slab 6, right posterior prostate\\n\\nJ25 - prostate left seminal vesicle - prostatic interface, vas deferens\\nJ26 - slab 1, left apex prostate\\n\\nJ27 - slab 2, left posterior prostate\\n\\nJ28 - slab 6, left posterior prostate\\n\\nSpecimen K, received in formalin labeled with the patient's name and designated\\n‘appendix’ is a vermiform appendix with mesoappendix. The appendix is 7.7 cm in\\nlength and 0.5 cm in diameter. The mesoappendix is 9.0 x 2.4x0.8cm. The\\nappendiceal serosa is tan, smooth and glistening. The lumen ranges from 0.1 cm\\nto 0.2 cm and is filled with brown fecal material. At the distal tip there is a\\n\\npocket of fecal material, with unremarkable mucosa. Representative sections are\\nsubmitted, with the proximal margin inked blue as K1.\\n\\nSpecimen L, received in formalin labeled with the patient's name and designated\\n‘left obturator’ is a 2.3 x 1.5 x 0.6 cm portion of fibrofatty tissue with\\n\\nmuscle,.with multiple staples and sutures. The specimen is vascular without a\\ndiscrete mass or lymph node. The specimen is submitted entirely as L1.\\nMicroscopic Description\\n\\nThe H and E stain quality is acceptable.\\n\\nA-J. The microscopic findings are reflected in the diagnoses rendered.\\n\\nIntraoperative Diagnosis\\n\\nTime in: . Time out:\\nA1-FS, Right ureter: Negative for carcinoma or high grade dysplasia.\\n\\nTime in: ‘ime out:\\nB1-FS, Left ureter: Negative for carcinoma or high grade dysplasia.\\n\\nTime in: _ ne out:\\nC1-FS, Left external and internal lymph node, peripheral nerves and\\nfibrovascular tissue with inflammation, negative for carcinoma.\\n\\nTime in: Time out:\\nD1-FS, Left internal and external iliac lymph node: Positive for metastatic\\ncarcinoma.\\n\\nAll Reported to\\n\\nCres Paae 6 of 8\\n\", 1: '-Surgical resection margins are negative for tumor |\\n\\n-Incidental prostatic adenocarcinoma, Gleason grade 3+3=6, organ confined (pT2a)\\nand negative surgical margins\\n\\n-See CAP cancer template for further details\\n\\nSpecimen\\nBladder and prostate\\n\\nProcedure\\nRadical cystoprostatectomy\\n\\nTumor Site\\n\\nLeft lateral wall with involvement of diverticulum and extension to posterior\\nwall, right lateral, anterior walls and prostatic urethra\\n\\nTumor Size\\n\\nGreatest dimension: 4.0 cm\\n\\nAdditional dimensions: 4.0 x 3.0 cm\\n\\nHistologic Type\\nUrothelial (transitional cell) carcinoma with glandular, micropapillary and\\nsarcomatoid differentiation\\n\\nAssociated Epithelial Lesions\\nNone identified\\n\\nHistologic Grade\\nHigh grade\\n\\nTumor Configuration\\nUlcerated\\n\\nMicroscopic Tumor Extension\\nPerivesical fat\\n\\nMargins\\nMargins uninvolved by invasive carcinoma\\n\\nLymph-Vascular Invasion\\nPresent, extensive\\n\\nPathologic Staging (pTNM)\\nPrimary Tumor (pT)\\npT3a: Tumor invades perivesicle fat, microscopic\\n\\nRegional Lymph Nodes (pN)\\npN1: Single regional lymph node metastasis in the true pelvis (hypogastric,\\nobturator, external iliac or presacral lymph node)\\nSpecify: | Number examined: 14 (see specimens C through 1)\\nNumber involved (any size): 1\\n\\nDistant Metastasis (pM)\\nNot applicable\\n\\nAdditional Pathologic Findings\\nEvidence of previous biopsy\\nIncidental adenocarcinoma of prostate (see CAP template below)\\n\\nAncillary Studies:\\nBlock J18 has been sent for ancillary studies, see separate report\\n\\nPage 2 of 8\\n', 6: ' \\n\\n“Electronically Signed Out***\\n\\n \\n\\nResult History\\nBIOPSY OR SURGICAL SPECIMEN (I,\\n\\nCollection Information -\\nSpecimen Source Date and Tim Accession #\\nOther a |\\n\\nLab Information —\\n\\n \\n\\nReviewed by List\\n\\n \\n\\n. Status:\\n\\nThis order is currently not shared in *\\n\\nOrder Biopsy or Surgical Specimen\\n\\nPatient Information\\n\\n \\n\\n \\n\\nSex\\n\\nPatient Name . DOB\\n\\nVisit Information\\n\\nquai Department Provider Visit # FIN #\\n\\nOrder Information\\n\\n \\n\\n \\n\\nOrder Date and Time Ordering User Department\\nOrder\\nOrder Name Code Order Number\\n\\nBiopsy or Surgical Specimen hwy\\n\\nOrder Details\\n\\nFrequency Duration Priority Order Class\\nONE TIME ORDER TASK 1 Occurrence Routine Nurse Collect\\n\\nOrder Providers\\nAuthorizing Provider Encounter Provider\\n\\nees Pane 7 of 8\\n', 2: ' \\n\\nCAP cancer template for prostate cancer:\\nProcedure\\nRadical cystoprostatectomy\\n\\nProstate Size\\nWeight: Not applicable (part of bigger specimen)\\nSize: 3.7 x 5.3 x 1.3. cm\\n\\nLymph Node Sampling\\nPelvic lymph node dissection (see specimens C through 1)\\n\\nHistologic Type\\nAdenocarcinoma (acinar, not otherwise specified)\\n\\nHistologic Grade\\n\\nGleason Pattern\\n\\nPrimary Pattern: Grade 3\\nSecondary Pattern: Grade 3\\nTertiary Pattern: Not applicable\\nTotal Gleason Score: 6\\n\\nTumor Quantitation\\nProportion (percentage) of prostate involved by tumor: 1%\\n\\nExtraprostatic Extension\\nNot identified\\n\\nSeminal Vesicle Invasion\\nNot identified\\n\\nMargins\\n\\nMargins uninvolved by invasive carcinoma\\nTreatment Effect on Carcinoma:\\n\\nNot identified\\n\\nLymph-Vascular Invasion\\nNot identified\\n\\nPerineural Invasion\\nNot identified\\n\\nPathologic Staging (pTNM)\\nPrimary Tumor (pT)\\npt2a: Unilateral, involving one-half of 1 side or less (left side)\\n\\nRegional Lymph Nodes (pN)\\n\\npNO: No regional lymph node metastasis\\n\\nSpecify: | Number examined: 14 (see specimens C through 1)\\nNumber involved: 0\\n\\nDistant Metastasis (pM)\\nNot applicable\\n\\nAdditional Pathologic Findings:\\nHigh grade prostate intraepithelial neoplasm\\n\\nAncillary Studies:\\nBlock J28 can be sent for ancillary studies if needed.\\n\\nK. Appendix, appendectomy:\\nBenign appendix without significant histopathologic abnormality\\n\\nBe] Page 3 of 8\\n', 7: 'Original Order\\n\\nOrder Ordered By\\n\\n   \\n\\nCollection Information\\n\\nSpecimen Source Date and Time ion #\\nOther\\n\\n \\n\\nReprint Requisition\\nReprint Requisition\\n\\n \\n\\nPage 8 of 8\\n', 3: \" \\n\\nL. Left obturator, resection:\\n-Benign fibroadipose tissue, negative for tumor\\n-No lymph nodes identified\\n\\nThe above pathology diagnosis incorporates data elements as outlined in the CAP\\nCancer Protocols and Checklists which are based on the AJCC/UICC TNM, 7th\\nedition.\\n\\nClinical History\\n\\nBladder cancer.\\nRadical cystectomy, lymph node dissection, ileal neobladder, possible ileal\\nconduit, all other indicated procedures.\\n\\nSource:\\n\\nA: Right ureter\\n\\nB: Left ureter\\n\\nC: Left external and internal Lymph node\\n\\nD: Left internal and external iliac Lymph node\\nE: Left internal and external iliac lymph nodes\\nF: Left obturator lymph nodes\\n\\nG: Left common iliac lymph nodes\\n\\nH: Right internal and external iliac lymph nodes\\nI: Right obturator lymph nodes\\n\\nJ: Bladder and prostate\\n\\nK: Appendix\\n\\nL: Left obturator\\n\\nGross Description\\n\\nSpecimen A, received fresh labeled with the patient's name and designated ‘right\\nureter, silk suture distal end’ is a tubular segment of tissue 1.2 cm in length\\n\\nand 0.5 cm in diameter. The proximal margin is submitted for frozen section\\ndiagnosis as A1.\\n\\nSpecimen B, received fresh labeled with the patient's name and designated ‘left\\nureter, chromic stitch distal end’ is a tubular segment of tissue 1.3 cm in\\n\\nlength and 0.5 cm in diameter. The proximal margin is submitted for frozen\\nsection diagnosis as B1.\\n\\nSpecimen C, received fresh labeled with the patient's name and designated ‘left\\nexternal and internal lymph nodes’ is a 4.5 x 1.0 x 0.4 cm portion of adipose\\ntissue. There is a 1.0 x 0.8 x 0.6 cm with a possible 1.0 x 0.8 x 0.6 cm lymph\\nnode. The node is submitted entirely for frozen section as C1.\\n\\nSpecimen D, received fresh labeled with the patient's name and designated ‘left\\ninternal and external iliac lymph node' is a 1.8 x 1.5 x 1.2 cm tan node. The\\ncut surface is tan slightly bulging firm parenchyma. A section is submitted for\\nfrozen section diagnosis.\\n\\nSection key: The specimen is submitted entirely as follows:\\n\\nD1 - frozen section\\n\\nD2 - remainder of nodule\\n\\nGly Paae 4 of 8\\n\", 4: \" \\n\\nSpecimen E, received in formalin labeled with the patient's name and designated\\n‘left internal and external iliac lymph node’ is 3.3 x 3.5 x 1.0 cm of\\n\\nfragmented fibrofatty tissue. There are seven possible nodes, 0.5 cm-1.0 cm.\\nThe nodes are submitted entirely as follows:\\n\\nE1 - four whole nodes\\n\\nE2 - two nodes, one inked blue and each bisected\\n\\nE3 - one node, bisected\\n\\nSpecimen F, received in formalin labeled with the patient's name and designated\\n‘left obturator lymph node’ is 3.3 x 3.0 x 1.0 cm of fragmented fibrofatty\\n\\ntissue. There are three possible nodes, 0.5cm-1.5 x 0.8 x 0.5 cm. The nodes\\nare submitted entirely as follows:\\n\\nF1 - two nodes, one inked blue and each bisected\\n\\nF2 - one node, bisected\\n\\nSpecimen G, received in formalin labeled with the patient's name and designated\\n‘left common iliac lymph node’ is a 2.0 x 1.0 x 1.0 cm portion of adipose\\n\\ntissue. There is a 1.2 x 0.8 x 0.8 cm tan node. The node is bisected and\\nsubmitted entirely as G1.\\n\\nSpecimen H, received in formalin labeled with the patient's name and designated\\n‘right internal and external iliac lymph node' is 4.0 x 3.0 x 1.0 cm of\\n\\nfibrofatty tissue. Sectioning into this specimen shows approximately one-half\\n\\nof the specimen as muscle fibers. There is one possible node, 2.0 x 0.6 x 0.4\\ncm. The node and representative muscle with fibrous tissue submitted as\\nfollows:\\n\\nHi - one node, bisected\\n\\nH2 - muscle with white fibrous tissue\\n\\nSpecimen |, received in formalin labeled with the patient's name and designated\\n‘right obturator lymph node’ is 1.8 x 1.5 x 0.8 cm of fibrofatty tissue and\\n\\nmuscle. A discrete lymph node is not identified. The specimen is submitted\\nentirely as !1.\\n\\nSpecimen J:\\n\\nType of specimen: Urinary bladder, ureter stumps, prostate, and seminal vesicles\\nThe patient's name and case number on the specimen container match the\\naccompanying paperwork and cassettes.\\n\\nProcedure: Radical cystoprostatectomy\\n\\nFixative: Formalin\\n\\nDimensions: Bladder 4.3 cm dome to neck x 4.2 cm left to right x 3.5 cm anterior\\nto posterior; ureter stumps, right 3.5 cm in length and 0.4 cm in diameter, left\\nureter 3.8 cm in length and 0.4 cm in diameter, prostate 3.7 cm apex to base,\\n5.3 cm left to right, 1.3 cm anterior to posterior\\n\\nDescription of findings:\\n\\nTumor: There is an ulcerated, focally fluffy tan to brown mass, 4.0 cm dome to\\nneck x 4.0 cm left to right x 3.0 cm anterior to posterior. The mass is on the\\nposterior wall extending into the anterior, right and left wall. There is a\\ndiverticulum in the left bladder extending to a depth of 2.0 cm, with mass\\ninvading into the wall and to within 0.2 cm of the perivesicular adipose tissue\\n(J17-J18).\\n\\nInvolvement of important adjacencies: The tumor possible invades into the\\nperivesicular adipose tissue, with no other structures involved.\\n\\nUninvolved mucosa: Tan and focally edematous in the right dome.\\n\\nProstate, seminal vesicles and vasa deferentia: The prostate is sectioned apex\\nto base into six slabs. The parenchyma is tan, with pale foci and no discrete\\nmass.\\n\\nInk code:\\n\\nRight prostate - orange\\n\\nLeft prostate - blue\\n\\nAnterior bladder - green\\n\\nee Paae 5 of 8\\n\"}"
      ]
     },
     "execution_count": 9,
     "metadata": {},
     "output_type": "execute_result"
    }
   ],
   "source": [
    "result"
   ]
  },
  {
   "cell_type": "markdown",
   "metadata": {},
   "source": [
    "## [TODO Integration with Spark-NLP pipelines]"
   ]
  },
  {
   "cell_type": "code",
   "execution_count": null,
   "metadata": {},
   "outputs": [],
   "source": [
    "!wget https://github.com/tesseract-ocr/tessdata/blob/main/eng.traineddata?raw=true -o eng.traineddata "
   ]
  },
  {
   "cell_type": "code",
   "execution_count": null,
   "metadata": {},
   "outputs": [],
   "source": [
    "# coming soon!"
   ]
  }
 ],
 "metadata": {
  "kernelspec": {
   "display_name": "Python 3 (ipykernel)",
   "language": "python",
   "name": "python3"
  },
  "language_info": {
   "codemirror_mode": {
    "name": "ipython",
    "version": 3
   },
   "file_extension": ".py",
   "mimetype": "text/x-python",
   "name": "python",
   "nbconvert_exporter": "python",
   "pygments_lexer": "ipython3",
   "version": "3.7.5"
  }
 },
 "nbformat": 4,
 "nbformat_minor": 2
}
