{
 "cells": [
  {
   "cell_type": "markdown",
   "id": "067ff624",
   "metadata": {
    "id": "067ff624"
   },
   "source": [
    "# Form Recognition in Spark Ocr\n",
    "\n",
    "End-to-end form recognition using VisualDocumentNerV2 and FormRelationExtractor."
   ]
  },
  {
   "cell_type": "markdown",
   "id": "5504fd27",
   "metadata": {
    "id": "5504fd27"
   },
   "source": [
    "## Install spark-ocr python packge\n",
    "Need to specify:\n",
    "- secret\n",
    "- license\n",
    "- aws credentials"
   ]
  },
  {
   "cell_type": "code",
   "execution_count": 1,
   "id": "45a6855d",
   "metadata": {
    "id": "45a6855d"
   },
   "outputs": [],
   "source": [
    "secret = \"\"\n",
    "license = \"\"\n",
    "version = secret.split(\"-\")[0]\n",
    "spark_ocr_jar_path = \"../../../target/scala-2.12/\"\n",
    "AWS_ACCESS_KEY_ID = \"\"\n",
    "AWS_SECRET_ACCESS_KEY = \"\"\n",
    "\n",
    "import os\n",
    "if AWS_ACCESS_KEY_ID != \"\":\n",
    "    os.environ[\"AWS_ACCESS_KEY_ID\"] = AWS_ACCESS_KEY_ID\n",
    "    os.environ[\"AWS_SECRET_ACCESS_KEY\"] = AWS_SECRET_ACCESS_KEY\n",
    "    \n",
    "if license:\n",
    "    os.environ['JSL_OCR_LICENSE'] = license"
   ]
  },
  {
   "cell_type": "code",
   "execution_count": 2,
   "id": "cef6395d",
   "metadata": {
    "id": "cef6395d"
   },
   "outputs": [],
   "source": [
    "import pyspark\n",
    "import sparkocr\n",
    "import json\n",
    "import os\n",
    "\n",
    "from pyspark.sql import SparkSession\n",
    "from pyspark.ml import PipelineModel\n",
    "import pyspark.sql.functions as f\n",
    "\n",
    "from sparkocr.transformers import *\n",
    "from sparkocr.utils import display_images\n",
    "from sparkocr.enums import *"
   ]
  },
  {
   "cell_type": "markdown",
   "id": "119e82e9",
   "metadata": {
    "id": "119e82e9"
   },
   "source": [
    "## Start spark session"
   ]
  },
  {
   "cell_type": "code",
   "execution_count": 3,
   "id": "66a75b7b",
   "metadata": {
    "colab": {
     "base_uri": "https://localhost:8080/",
     "height": 289
    },
    "id": "66a75b7b",
    "outputId": "1db5a96d-a278-4c9b-f70e-0ffd0d631a46"
   },
   "outputs": [
    {
     "name": "stdout",
     "output_type": "stream",
     "text": [
      "Spark version: 3.3.0\n",
      "Spark NLP version: 4.0.0\n",
      "Spark NLP for Healthcare version: 4.0.0\n",
      "Spark OCR version: 4.0.2rc1\n",
      "\n"
     ]
    },
    {
     "data": {
      "text/html": [
       "\n",
       "            <div>\n",
       "                <p><b>SparkSession - in-memory</b></p>\n",
       "                \n",
       "        <div>\n",
       "            <p><b>SparkContext</b></p>\n",
       "\n",
       "            <p><a href=\"http://192.168.0.10:4041\">Spark UI</a></p>\n",
       "\n",
       "            <dl>\n",
       "              <dt>Version</dt>\n",
       "                <dd><code>v3.3.0</code></dd>\n",
       "              <dt>Master</dt>\n",
       "                <dd><code>local[*]</code></dd>\n",
       "              <dt>AppName</dt>\n",
       "                <dd><code>Spark OCR</code></dd>\n",
       "            </dl>\n",
       "        </div>\n",
       "        \n",
       "            </div>\n",
       "        "
      ],
      "text/plain": [
       "<pyspark.sql.session.SparkSession at 0x7fefee03f950>"
      ]
     },
     "execution_count": 3,
     "metadata": {},
     "output_type": "execute_result"
    }
   ],
   "source": [
    "from sparkocr import start\n",
    "from pyspark import SparkConf\n",
    "\n",
    "spark = start(secret, jar_path = spark_ocr_jar_path)\n",
    "spark"
   ]
  },
  {
   "cell_type": "markdown",
   "id": "0f09786f",
   "metadata": {
    "id": "0f09786f"
   },
   "source": [
    "## Load PDF, convert to image for rendering on notebook"
   ]
  },
  {
   "cell_type": "code",
   "execution_count": null,
   "id": "a6ef2386",
   "metadata": {
    "colab": {
     "base_uri": "https://localhost:8080/",
     "height": 1000
    },
    "id": "a6ef2386",
    "outputId": "8141cf90-ddf8-48f3-8d76-717b5cc573bf"
   },
   "outputs": [],
   "source": [
    "import pkg_resources\n",
    "test_pdfs_path = './digital_forms/*.pdf'\n",
    "bin_df = spark.read.format(\"binaryFile\").load(test_pdfs_path)\n",
    "display_images(PdfToImage().transform(bin_df))"
   ]
  },
  {
   "cell_type": "markdown",
   "id": "5708c4a1",
   "metadata": {
    "id": "5708c4a1"
   },
   "source": [
    "## Define pipeline"
   ]
  },
  {
   "cell_type": "code",
   "execution_count": null,
   "id": "8aebafab",
   "metadata": {
    "id": "8aebafab"
   },
   "outputs": [],
   "source": [
    "from sparkocr.transformers import PdfToForm\n",
    "pdf_to_form = PdfToForm()\\\n",
    "    .setOutputCol(\"form\")\n",
    "\n",
    "\n",
    "pipeline = PipelineModel(stages=[\n",
    "    pdf_to_form\n",
    "])"
   ]
  },
  {
   "cell_type": "markdown",
   "id": "f3433be9",
   "metadata": {
    "id": "f3433be9"
   },
   "source": [
    "## Call pipeline"
   ]
  },
  {
   "cell_type": "code",
   "execution_count": null,
   "id": "e348b6d6",
   "metadata": {
    "id": "e348b6d6"
   },
   "outputs": [],
   "source": [
    "results = pipeline.transform(bin_df).cache()"
   ]
  },
  {
   "cell_type": "code",
   "execution_count": null,
   "id": "23df00fe",
   "metadata": {},
   "outputs": [],
   "source": [
    "results.printSchema()"
   ]
  },
  {
   "cell_type": "markdown",
   "id": "12e2efa1",
   "metadata": {
    "id": "12e2efa1"
   },
   "source": [
    "## Show resulst"
   ]
  },
  {
   "cell_type": "code",
   "execution_count": null,
   "id": "998e16e4",
   "metadata": {
    "colab": {
     "base_uri": "https://localhost:8080/"
    },
    "id": "998e16e4",
    "outputId": "daf91705-2868-49a3-9fe3-2b3bcf3c34f0"
   },
   "outputs": [],
   "source": [
    "results.select(f.explode(\"form\").alias('kvs')).\\\n",
    "select(f.col(\"kvs.key\"), f.col(\"kvs.value\"), f.col(\"kvs.coordinate\")).\\\n",
    "show(20, False)"
   ]
  },
  {
   "cell_type": "code",
   "execution_count": null,
   "id": "828d7ce9",
   "metadata": {},
   "outputs": [],
   "source": []
  }
 ],
 "metadata": {
  "colab": {
   "collapsed_sections": [],
   "name": "SparkOcrFormRecognition.ipynb",
   "provenance": []
  },
  "kernelspec": {
   "display_name": "Python 3 (ipykernel)",
   "language": "python",
   "name": "python3"
  },
  "language_info": {
   "codemirror_mode": {
    "name": "ipython",
    "version": 3
   },
   "file_extension": ".py",
   "mimetype": "text/x-python",
   "name": "python",
   "nbconvert_exporter": "python",
   "pygments_lexer": "ipython3",
   "version": "3.7.5"
  }
 },
 "nbformat": 4,
 "nbformat_minor": 5
}
