{
 "cells": [
  {
   "cell_type": "markdown",
   "metadata": {},
   "source": [
    "# Example of using Base64ToImage Transformer on Spark OCR\n",
    "## Install spark-ocr python packge\n",
    "Need specify path to `spark-ocr-assembly-[version].jar` or `secret`"
   ]
  },
  {
   "cell_type": "code",
   "execution_count": 1,
   "metadata": {},
   "outputs": [],
   "source": [
    "license = \"\"\n",
    "secret = \"\"\n",
    "nlp_secret = \"\"\n",
    "aws_access_key = \"\"\n",
    "aws_secret_key = \"\"\n",
    "\n",
    "version = secret.split(\"-\")[0]\n",
    "spark_ocr_jar_path = \"../../target/scala-2.12\""
   ]
  },
  {
   "cell_type": "code",
   "execution_count": 2,
   "metadata": {},
   "outputs": [],
   "source": [
    "%%bash\n",
    "if python -c 'import google.colab' &> /dev/null; then\n",
    "    echo \"Run on Google Colab!\"\n",
    "    echo \"Install Open JDK\"\n",
    "    apt-get install -y openjdk-8-jdk-headless -qq > /dev/null\n",
    "    java -version\n",
    "fi"
   ]
  },
  {
   "cell_type": "code",
   "execution_count": 3,
   "metadata": {},
   "outputs": [],
   "source": [
    "import sys\n",
    "import os\n",
    "\n",
    "if 'google.colab' in sys.modules:\n",
    "  os.environ[\"JAVA_HOME\"] = \"/usr/lib/jvm/java-8-openjdk-amd64\"\n",
    "  os.environ[\"PATH\"] = os.environ[\"JAVA_HOME\"] + \"/bin:\" + os.environ[\"PATH\"]"
   ]
  },
  {
   "cell_type": "markdown",
   "metadata": {},
   "source": [
    "## Initialization of spark session"
   ]
  },
  {
   "cell_type": "code",
   "execution_count": 4,
   "metadata": {},
   "outputs": [
    {
     "name": "stdout",
     "output_type": "stream",
     "text": [
      "Spark version: 3.2.1\n",
      "Spark NLP version: 5.3.0\n",
      "Spark NLP for Healthcare version: 5.2.1\n",
      "Spark OCR version: 5.3.1rc1\n",
      "\n"
     ]
    }
   ],
   "source": [
    "from pyspark.sql import SparkSession\n",
    "from sparkocr import start\n",
    "\n",
    "if license:\n",
    "    os.environ['JSL_OCR_LICENSE'] = license\n",
    "    \n",
    "# Pass nlp_secret=nlp_secret, if you don't have a jar\n",
    "spark = start(jar_path=spark_ocr_jar_path)"
   ]
  },
  {
   "cell_type": "code",
   "execution_count": 5,
   "metadata": {},
   "outputs": [
    {
     "name": "stderr",
     "output_type": "stream",
     "text": [
      "/home/jose/.local/lib/python3.8/site-packages/torch/cuda/__init__.py:83: UserWarning: CUDA initialization: CUDA unknown error - this may be due to an incorrectly set up environment, e.g. changing env variable CUDA_VISIBLE_DEVICES after program start. Setting the available devices to be zero. (Triggered internally at  ../c10/cuda/CUDAFunctions.cpp:109.)\n",
      "  return torch._C._cuda_getDeviceCount() > 0\n"
     ]
    }
   ],
   "source": [
    "from pyspark.ml import PipelineModel\n",
    "from pyspark.sql.functions import *\n",
    "from sparkocr.transformers import *"
   ]
  },
  {
   "cell_type": "code",
   "execution_count": 6,
   "metadata": {},
   "outputs": [],
   "source": [
    "import pkg_resources\n",
    "img_path = pkg_resources.resource_filename('sparkocr', 'resources/ocr/images/check.jpg')"
   ]
  },
  {
   "cell_type": "markdown",
   "metadata": {},
   "source": [
    "## Convert to Base64"
   ]
  },
  {
   "cell_type": "code",
   "execution_count": 7,
   "metadata": {},
   "outputs": [],
   "source": [
    "import base64\n",
    "with open(img_path, 'rb') as f:\n",
    "    base64_img = base64.b64encode(f.read()).decode('ascii')"
   ]
  },
  {
   "cell_type": "markdown",
   "metadata": {},
   "source": [
    "## Define OCR pipeline"
   ]
  },
  {
   "cell_type": "code",
   "execution_count": 8,
   "metadata": {},
   "outputs": [],
   "source": [
    "# Transform base64 to image\n",
    "base64_to_image = Base64ToImage()\n",
    "base64_to_image.setOutputCol(\"image\")\n",
    "\n",
    "# Run OCR for each region\n",
    "ocr = ImageToText()\n",
    "ocr.setInputCol(\"image\")\n",
    "ocr.setOutputCol(\"text\")\n",
    "ocr.setConfidenceThreshold(60)\n",
    "\n",
    "# OCR pipeline\n",
    "pipeline = PipelineModel(stages=[\n",
    "    base64_to_image,\n",
    "    ocr\n",
    "])"
   ]
  },
  {
   "cell_type": "markdown",
   "metadata": {},
   "source": [
    "## Create LightPipeline"
   ]
  },
  {
   "cell_type": "code",
   "execution_count": 9,
   "metadata": {},
   "outputs": [],
   "source": [
    "from sparkocr.base import LightPipeline"
   ]
  },
  {
   "cell_type": "code",
   "execution_count": 10,
   "metadata": {},
   "outputs": [],
   "source": [
    "lp = LightPipeline(pipeline)"
   ]
  },
  {
   "cell_type": "code",
   "execution_count": 11,
   "metadata": {},
   "outputs": [
    {
     "name": "stdout",
     "output_type": "stream",
     "text": [
      "CPU times: user 5.96 ms, sys: 1.31 ms, total: 7.27 ms\n",
      "Wall time: 769 ms\n"
     ]
    },
    {
     "data": {
      "text/plain": [
       "[{'image': ImageOutput(path: base64_in_memory, exception: None),\n",
       "  'exception': Light Pipeline Exception(message: [ocr_pipeline_exception::]),\n",
       "  'text': Annotation(image_to_text, 0, 324, STARBUCKS Store #19208\n",
       "  11902 Euclid Avenue\n",
       "  Cleveland, OH (216) 229-U749\n",
       "  \n",
       "  CHK 664250\n",
       "  12/07/2014 06:43 PM\n",
       "  112003. Drawer: 2. Reg: 2\n",
       "  \n",
       "  ¥t Pep Mocha 4.95\n",
       "  \n",
       "  Sbux Card 4.95\n",
       "  \n",
       "  AXKANRKAXERAK, 3228\n",
       "  \n",
       "  Subtotal $4.95\n",
       "  \n",
       "  Total $4.95\n",
       "  Change Cue BOC\n",
       "  \n",
       "  - Check Closed ~\n",
       "  “12/01/2014 06:43 py\n",
       "  \n",
       "  oBUX Card «3228 New Balance: 37.45\n",
       "  Card is registertd\n",
       "  , Map(confidence -> 73.70487899780274, exception -> , sourcePath -> base64_in_memory), []),\n",
       "  'positions': PositionsOutput(mappings: [{'c': 'STARBUCKS Store #19208\\n11902 Euclid Avenue\\nCleveland, OH (216) 229-U749\\n\\n', 'x': 103.0, 'width': 371.0, 'y': 32.0, 'fontSize': 11, 'source': 'ocr', 'height': 92.0}, {'c': 'CHK 664250\\n12/07/2014 06:43 PM\\n112003. Drawer: 2. Reg: 2\\n\\n', 'x': 108.0, 'width': 352.0, 'y': 164.0, 'fontSize': 10, 'source': 'ocr', 'height': 92.0}, {'c': '¥t Pep Mocha 4.95\\n\\nSbux Card 4.95\\n\\nAXKANRKAXERAK, 3228\\n\\nSubtotal $4.95\\n\\nTotal $4.95\\nChange Cue BOC\\n\\n', 'x': 23.0, 'width': 490.0, 'y': 295.0, 'fontSize': 10, 'source': 'ocr', 'height': 223.0}, {'c': '- Check Closed ~\\n“12/01/2014 06:43 py\\n\\n', 'x': 130.0, 'width': 298.0, 'y': 558.0, 'fontSize': 11, 'source': 'ocr', 'height': 59.0}, {'c': 'oBUX Card «3228 New Balance: 37.45\\nCard is registertd\\n', 'x': 22.0, 'width': 464.0, 'y': 657.0, 'fontSize': 10, 'source': 'ocr', 'height': 58.0}]),\n",
       "  'content': source base64 file buffer, of len: 20. First 20 chars: /9j/4AAQSkZJRgABAQEA}]"
      ]
     },
     "execution_count": 11,
     "metadata": {},
     "output_type": "execute_result"
    }
   ],
   "source": [
    "%%time\n",
    "result = lp.fromString(base64_img)\n",
    "result"
   ]
  },
  {
   "cell_type": "code",
   "execution_count": null,
   "metadata": {},
   "outputs": [],
   "source": []
  }
 ],
 "metadata": {
  "kernelspec": {
   "display_name": "Python 3 (ipykernel)",
   "language": "python",
   "name": "python3"
  },
  "language_info": {
   "codemirror_mode": {
    "name": "ipython",
    "version": 3
   },
   "file_extension": ".py",
   "mimetype": "text/x-python",
   "name": "python",
   "nbconvert_exporter": "python",
   "pygments_lexer": "ipython3",
   "version": "3.8.10"
  }
 },
 "nbformat": 4,
 "nbformat_minor": 4
}
