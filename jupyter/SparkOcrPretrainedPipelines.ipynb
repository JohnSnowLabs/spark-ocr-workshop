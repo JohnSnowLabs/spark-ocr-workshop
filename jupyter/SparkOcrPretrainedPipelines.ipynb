{
 "cells": [
  {
   "cell_type": "markdown",
   "metadata": {
    "id": "lS_nUbuJKS-S"
   },
   "source": [
    "# Example of Pretrained Pipelines\n",
    "Pretrained Pipelines can be considered predefined recipes in the form of Visual NLP pipelines, these recipes come with a set of stages and parameters that help to accomplish specific tasks."
   ]
  },
  {
   "cell_type": "markdown",
   "metadata": {
    "id": "TionG_3fKS-U"
   },
   "source": [
    "## Install spark-ocr python packge\n",
    "Need specify path to `spark-ocr-assembly-[version].jar` or `secret`"
   ]
  },
  {
   "cell_type": "code",
   "execution_count": null,
   "metadata": {
    "id": "8wXCorTNKS-V"
   },
   "outputs": [],
   "source": [
    "secret = \"\"\n",
    "license = \"\"\n",
    "version = secret.split(\"-\")[0]\n",
    "spark_ocr_jar_path = \"../../target/scala-2.12\""
   ]
  },
  {
   "cell_type": "code",
   "source": [
    "# install from PYPI using secret\n",
    "#%pip install spark-ocr==$version --extra-index-url=https://pypi.johnsnowlabs.com/$secret --upgrade"
   ],
   "metadata": {
    "id": "54Opkl1aesRY"
   },
   "execution_count": null,
   "outputs": []
  },
  {
   "cell_type": "markdown",
   "metadata": {
    "id": "V0gOldUCKS-W"
   },
   "source": [
    "## Initialization of spark session"
   ]
  },
  {
   "cell_type": "code",
   "execution_count": null,
   "metadata": {
    "colab": {
     "base_uri": "https://localhost:8080/",
     "height": 292
    },
    "id": "T5JcRWb2KS-X",
    "outputId": "eca7832a-c68b-4677-ae88-816113cec65c"
   },
   "outputs": [
    {
     "output_type": "stream",
     "name": "stdout",
     "text": [
      "Spark version: 3.4.1\n",
      "Spark NLP version: 5.1.2\n",
      "Spark OCR version: 5.1.0\n"
     ]
    },
    {
     "output_type": "execute_result",
     "data": {
      "text/plain": [
       "<pyspark.sql.session.SparkSession at 0x7bb08d9cca30>"
      ],
      "text/html": [
       "\n",
       "            <div>\n",
       "                <p><b>SparkSession - in-memory</b></p>\n",
       "                \n",
       "        <div>\n",
       "            <p><b>SparkContext</b></p>\n",
       "\n",
       "            <p><a href=\"http://7c1a24cb1330:4040\">Spark UI</a></p>\n",
       "\n",
       "            <dl>\n",
       "              <dt>Version</dt>\n",
       "                <dd><code>v3.4.1</code></dd>\n",
       "              <dt>Master</dt>\n",
       "                <dd><code>local[*]</code></dd>\n",
       "              <dt>AppName</dt>\n",
       "                <dd><code>Spark OCR</code></dd>\n",
       "            </dl>\n",
       "        </div>\n",
       "        \n",
       "            </div>\n",
       "        "
      ]
     },
     "metadata": {},
     "execution_count": 4
    }
   ],
   "source": [
    "from pyspark.sql import SparkSession\n",
    "from sparkocr import start\n",
    "import os\n",
    "\n",
    "if license:\n",
    "    os.environ['SPARK_OCR_LICENSE'] = license\n",
    "\n",
    "spark = start(secret=secret, jar_path=spark_ocr_jar_path)\n",
    "spark"
   ]
  },
  {
   "cell_type": "markdown",
   "metadata": {
    "id": "t-XtrWSDKS-X"
   },
   "source": [
    "## Load Pretrained Pipelines"
   ]
  },
  {
   "cell_type": "markdown",
   "metadata": {
    "id": "2DNMeJugca8p"
   },
   "source": [
    "### mixed_scanned_digital_pdf\n",
    "In this simple pipeline we can use the predefined pipeline to handle a mix of scanned(containing images) and digital PDFs(containing digital text). The output is going to be returned in a Dataframe column, and it will contain texts coming from both sources.</br>\n",
    "You could even have a single PDF file with a mix of digital and scanned pages.</br>\n",
    "Other Options:</br>\n",
    "* __mixed_scanned_digital_pdf_image_cleaner__: same as above but cleaning noise from images.</br>\n",
    "* __mixed_scanned_digital_pdf_skew_correction__: same as above but with page rotation correction."
   ]
  },
  {
   "cell_type": "code",
   "execution_count": null,
   "metadata": {
    "id": "J1Css1dlKS-Y",
    "outputId": "2c0ff95c-9f0c-435f-a414-8b2c4bb027b9",
    "colab": {
     "base_uri": "https://localhost:8080/"
    }
   },
   "outputs": [
    {
     "output_type": "stream",
     "name": "stdout",
     "text": [
      "mixed_scanned_digital_pdf download started this may take some time.\n",
      "Approx size to download 6.7 KB\n",
      "[OK!]\n"
     ]
    }
   ],
   "source": [
    "from pyspark.ml import PipelineModel\n",
    "from sparkocr.pretrained import *\n",
    "\n",
    "mixed_pdf_pipeline = PretrainedPipeline('mixed_scanned_digital_pdf', 'en', 'clinical/ocr')"
   ]
  },
  {
   "cell_type": "markdown",
   "metadata": {
    "id": "RRlw0XvRKS-Y"
   },
   "source": [
    "### Call the pipeline\n",
    "We are listing the 'mixed_pdfs' folder, that one contains two PDF files, one is scanned and the other is digital. You can open them yourself and verify."
   ]
  },
  {
   "cell_type": "code",
   "execution_count": null,
   "metadata": {
    "id": "QV7v_K1Nca8p",
    "outputId": "c766295f-7e63-42f2-d135-53550f7493f9",
    "colab": {
     "base_uri": "https://localhost:8080/"
    }
   },
   "outputs": [
    {
     "output_type": "stream",
     "name": "stdout",
     "text": [
      "immortal_image.pdf  immortal_text.pdf\n"
     ]
    }
   ],
   "source": [
    "pdf_path = 'mixed_pdfs'\n",
    "!ls mixed_pdfs"
   ]
  },
  {
   "cell_type": "markdown",
   "metadata": {
    "id": "w0Co5FHeca8q"
   },
   "source": [
    "We will display using the dataframe"
   ]
  },
  {
   "cell_type": "code",
   "execution_count": null,
   "metadata": {
    "id": "pTwlFOQCKS-Y"
   },
   "outputs": [],
   "source": [
    "pdf_example_df = spark.read.format(\"binaryFile\").load(pdf_path).cache()\n",
    "result = mixed_pdf_pipeline.transform(pdf_example_df)\n",
    "result"
   ]
  },
  {
   "cell_type": "markdown",
   "metadata": {
    "id": "0DmPZjKbca8q"
   },
   "source": [
    "And to avoid truncation, using collect() on just the text column,"
   ]
  },
  {
   "cell_type": "code",
   "execution_count": null,
   "metadata": {
    "id": "fQb4Jb2Zca8q"
   },
   "outputs": [],
   "source": [
    "result.select(\"text\").collect()"
   ]
  },
  {
   "cell_type": "markdown",
   "metadata": {
    "id": "3cH0NswNca8q"
   },
   "source": [
    "### image_handwritten_transformer_extraction\n",
    "Let's use another example, this time for doing transformer based OCR on handwritten texts. </br>\n",
    "Other similar options are,\n",
    "\n",
    "* __image_printed_transformer_extraction__: OCR printed texts contained on images.\n",
    "* __pdf_printed_transformer_extraction__: OCR printed texts contained in PDFs.\n",
    "* __pdf_handwritten_transformer_extraction__: OCR handwritten texts contained in PDFs."
   ]
  },
  {
   "cell_type": "code",
   "execution_count": null,
   "metadata": {
    "id": "73uJz1i3ca8q"
   },
   "outputs": [],
   "source": [
    "from pyspark.ml import PipelineModel\n",
    "from sparkocr.pretrained import *\n",
    "\n",
    "image_handwritten_transformer_extraction = PretrainedPipeline('image_handwritten_transformer_extraction', 'en', 'clinical/ocr')"
   ]
  },
  {
   "cell_type": "markdown",
   "metadata": {
    "id": "lTsNIt4aca8r"
   },
   "source": [
    "### Load image and display it"
   ]
  },
  {
   "cell_type": "code",
   "execution_count": null,
   "metadata": {
    "id": "hONclqZfca8r"
   },
   "outputs": [],
   "source": [
    "from pyspark.ml import PipelineModel\n",
    "import pyspark.sql.functions as f\n",
    "from sparkocr.transformers import *\n",
    "from sparkocr.enums import *\n",
    "from sparkocr.utils import display_images\n",
    "\n",
    "imagePath = \"./data/handwritten/handwritten_example.jpg\"\n",
    "image_df = spark.read.format(\"binaryFile\").load(imagePath)\n",
    "display_images(BinaryToImage().transform(image_df), \"image\")"
   ]
  },
  {
   "cell_type": "markdown",
   "metadata": {
    "id": "XgUfqjgwca8r"
   },
   "source": [
    "### display results"
   ]
  },
  {
   "cell_type": "code",
   "execution_count": null,
   "metadata": {
    "id": "BW840J_Oca8r",
    "outputId": "a67bb0d0-ed6b-4158-92c1-c6c7ecda4057"
   },
   "outputs": [
    {
     "name": "stdout",
     "output_type": "stream",
     "text": [
      "This is an example of handwritten\n",
      "sex .\n",
      "Let's # check the performance ?\n",
      "I hope it will be awesome .\n"
     ]
    }
   ],
   "source": [
    "result = image_handwritten_transformer_extraction.transform(image_df).cache()\n",
    "print((\"\").join([x.text for x in result.select(\"text\").collect()]))"
   ]
  },
  {
   "cell_type": "markdown",
   "metadata": {
    "id": "jGwj3fIyca8r"
   },
   "source": [
    "### LightPipeline"
   ]
  },
  {
   "cell_type": "code",
   "execution_count": null,
   "metadata": {
    "id": "vz5GejvNca8r",
    "outputId": "930713c5-5f7a-4d7d-a2c9-45dc183ad4c6"
   },
   "outputs": [
    {
     "data": {
      "text/plain": [
       "[BinaryToImage_4a25c0442190,\n",
       " IMAGE_TEXT_DETECTOR_57486d9529bc,\n",
       " IMAGE_TO_TEXT_V2_1b4d60a5f4a9]"
      ]
     },
     "execution_count": 18,
     "metadata": {},
     "output_type": "execute_result"
    }
   ],
   "source": [
    "image_handwritten_transformer_extraction.model.stages"
   ]
  },
  {
   "cell_type": "code",
   "execution_count": null,
   "metadata": {
    "id": "DpzhKDmXca8s"
   },
   "outputs": [],
   "source": [
    "from sparkocr.base import LightPipeline\n",
    "lp = LightPipeline(image_handwritten_transformer_extraction.model)"
   ]
  },
  {
   "cell_type": "code",
   "execution_count": null,
   "metadata": {
    "id": "vSmhfNIEca8s",
    "outputId": "5729dfc5-9675-40f7-e1f0-36ac633e096f"
   },
   "outputs": [
    {
     "name": "stdout",
     "output_type": "stream",
     "text": [
      "CPU times: user 11.4 ms, sys: 733 µs, total: 12.1 ms\n",
      "Wall time: 5.33 s\n"
     ]
    },
    {
     "data": {
      "text/plain": [
       "[{'image': ImageOutput(path: handwritten_example.jpg, exception: None),\n",
       "  'text_regions': [Coordinate (x: 2277.3103, y: 747.747, width: 303.97388, height: 4112.281),\n",
       "   Coordinate (x: 572.09106, y: 1044.0774, width: 227.29648, height: 556.3352),\n",
       "   Coordinate (x: 2184.8506, y: 1496.3049, width: 318.13586, height: 3854.7915),\n",
       "   Coordinate (x: 1889.187, y: 1996.0546, width: 306.62164, height: 3152.0547)],\n",
       "  'text': Annotation(image_to_text, 0, 99, This is an example of handwritten\n",
       "  sex .\n",
       "  Let's # check the performance ?\n",
       "  I hope it will be awesome ., Map(), [])}]"
      ]
     },
     "execution_count": 20,
     "metadata": {},
     "output_type": "execute_result"
    }
   ],
   "source": [
    "%%time\n",
    "lp.fromLocalPath(imagePath)"
   ]
  },
  {
   "cell_type": "markdown",
   "metadata": {
    "id": "mNoLmZIsca8s"
   },
   "source": [
    "### digital_pdf_table_extractor"
   ]
  },
  {
   "cell_type": "code",
   "execution_count": null,
   "metadata": {
    "id": "druCP6Z2ca8s"
   },
   "outputs": [],
   "source": [
    "from pyspark.ml import PipelineModel\n",
    "from sparkocr.pretrained import *\n",
    "\n",
    "digital_pdf_table_extractor = PretrainedPipeline('digital_pdf_table_extractor', 'en', 'clinical/ocr')"
   ]
  },
  {
   "cell_type": "code",
   "execution_count": null,
   "metadata": {
    "id": "90BzBbsmca8s"
   },
   "outputs": [],
   "source": [
    "pdfPath = \"./data/tab_pdfs/budget.pdf\"\n",
    "df = spark.read.format(\"binaryFile\").load(pdfPath)"
   ]
  },
  {
   "cell_type": "code",
   "execution_count": null,
   "metadata": {
    "id": "MsRFeaoAca8s",
    "outputId": "533379e4-d100-4267-f341-407c2d9d12ec"
   },
   "outputs": [
    {
     "data": {
      "text/html": [
       "<iframe src=./tmp/pdf.pdf width=600 height=500></iframe>"
      ],
      "text/latex": [
       "\\includegraphics[width=1.0\\textwidth]{./tmp/pdf.pdf}"
      ],
      "text/plain": [
       "<sparkocr.utils.display_pdf_file at 0x7ff4f5c30c40>"
      ]
     },
     "execution_count": 5,
     "metadata": {},
     "output_type": "execute_result"
    }
   ],
   "source": [
    "from sparkocr.utils import display_pdf_file\n",
    "display_pdf_file(pdfPath)"
   ]
  },
  {
   "cell_type": "code",
   "execution_count": null,
   "metadata": {
    "id": "rrHGtmt-ca8s",
    "outputId": "a94548ef-7c73-4d5f-e4fb-70bbe9d434e3"
   },
   "outputs": [
    {
     "name": "stdout",
     "output_type": "stream",
     "text": [
      "Filename: budget.pdf\n",
      "Page:     0\n",
      "Table:    0\n",
      "11\n"
     ]
    },
    {
     "data": {
      "text/html": [
       "<div>\n",
       "<style scoped>\n",
       "    .dataframe tbody tr th:only-of-type {\n",
       "        vertical-align: middle;\n",
       "    }\n",
       "\n",
       "    .dataframe tbody tr th {\n",
       "        vertical-align: top;\n",
       "    }\n",
       "\n",
       "    .dataframe thead th {\n",
       "        text-align: right;\n",
       "    }\n",
       "</style>\n",
       "<table border=\"1\" class=\"dataframe\">\n",
       "  <thead>\n",
       "    <tr style=\"text-align: right;\">\n",
       "      <th></th>\n",
       "      <th>col0</th>\n",
       "      <th>col1</th>\n",
       "      <th>col2</th>\n",
       "      <th>col3</th>\n",
       "      <th>col4</th>\n",
       "      <th>col5</th>\n",
       "      <th>col6</th>\n",
       "      <th>col7</th>\n",
       "      <th>col8</th>\n",
       "      <th>col9</th>\n",
       "      <th>col10</th>\n",
       "    </tr>\n",
       "  </thead>\n",
       "  <tbody>\n",
       "    <tr>\n",
       "      <th>0</th>\n",
       "      <td></td>\n",
       "      <td>Ministry / Demand</td>\n",
       "      <td>Revenue</td>\n",
       "      <td>Plan Capital</td>\n",
       "      <td>Total</td>\n",
       "      <td>Revenue</td>\n",
       "      <td>Non - Plan Capital</td>\n",
       "      <td>Total</td>\n",
       "      <td>Total Plan &amp; Non - Plan</td>\n",
       "      <td>Page No .</td>\n",
       "      <td></td>\n",
       "    </tr>\n",
       "    <tr>\n",
       "      <th>1</th>\n",
       "      <td>MINISTRY OF AGRICULTURE</td>\n",
       "      <td></td>\n",
       "      <td>28130 . 48</td>\n",
       "      <td>67 . 52</td>\n",
       "      <td>28198 . 00</td>\n",
       "      <td>2863 . 09</td>\n",
       "      <td>1 . 85</td>\n",
       "      <td>2864 . 94</td>\n",
       "      <td>31062 . 94</td>\n",
       "      <td>None</td>\n",
       "      <td>None</td>\n",
       "    </tr>\n",
       "    <tr>\n",
       "      <th>2</th>\n",
       "      <td>Department of Agriculture and Cooperation</td>\n",
       "      <td></td>\n",
       "      <td>22260 . 55</td>\n",
       "      <td>48 . 45</td>\n",
       "      <td>22309 . 00</td>\n",
       "      <td>342 . 51</td>\n",
       "      <td>0 . 74</td>\n",
       "      <td>343 . 25</td>\n",
       "      <td>22652 . 25</td>\n",
       "      <td></td>\n",
       "      <td>1 - 10</td>\n",
       "    </tr>\n",
       "    <tr>\n",
       "      <th>3</th>\n",
       "      <td>Department of Agricultural Research and Education</td>\n",
       "      <td></td>\n",
       "      <td>3715 . 00</td>\n",
       "      <td>. . .</td>\n",
       "      <td>3715 . 00</td>\n",
       "      <td>2429 . 39</td>\n",
       "      <td>. . .</td>\n",
       "      <td>2429 . 39</td>\n",
       "      <td>6144 . 39</td>\n",
       "      <td></td>\n",
       "      <td>11 - 13</td>\n",
       "    </tr>\n",
       "    <tr>\n",
       "      <th>4</th>\n",
       "      <td>Department of Animal Husbandry , Dairying and ...</td>\n",
       "      <td></td>\n",
       "      <td>2154 . 93</td>\n",
       "      <td>19 . 07</td>\n",
       "      <td>2174 . 00</td>\n",
       "      <td>91 . 19</td>\n",
       "      <td>1 . 11</td>\n",
       "      <td>92 . 30</td>\n",
       "      <td>2266 . 30</td>\n",
       "      <td></td>\n",
       "      <td>14 - 19</td>\n",
       "    </tr>\n",
       "    <tr>\n",
       "      <th>5</th>\n",
       "      <td>DEPARTMENT OF ATOMIC ENERGY</td>\n",
       "      <td></td>\n",
       "      <td>1779 . 00</td>\n",
       "      <td>4101 . 00</td>\n",
       "      <td>5880 . 00</td>\n",
       "      <td>3710 . 84</td>\n",
       "      <td>855 . 75</td>\n",
       "      <td>4566 . 59</td>\n",
       "      <td>10446 . 59</td>\n",
       "      <td>None</td>\n",
       "      <td>None</td>\n",
       "    </tr>\n",
       "    <tr>\n",
       "      <th>6</th>\n",
       "      <td>Atomic Energy</td>\n",
       "      <td></td>\n",
       "      <td>1483 . 00</td>\n",
       "      <td>3427 . 00</td>\n",
       "      <td>4910 . 00</td>\n",
       "      <td>2971 . 25</td>\n",
       "      <td>855 . 75</td>\n",
       "      <td>3827 . 00</td>\n",
       "      <td>8737 . 00</td>\n",
       "      <td></td>\n",
       "      <td>20 - 25</td>\n",
       "    </tr>\n",
       "    <tr>\n",
       "      <th>7</th>\n",
       "      <td>Nuclear Power Schemes</td>\n",
       "      <td></td>\n",
       "      <td>296 . 00</td>\n",
       "      <td>674 . 00</td>\n",
       "      <td>970 . 00</td>\n",
       "      <td>739 . 59</td>\n",
       "      <td>. . .</td>\n",
       "      <td>739 . 59</td>\n",
       "      <td>1709 . 59</td>\n",
       "      <td></td>\n",
       "      <td>26 - 27</td>\n",
       "    </tr>\n",
       "    <tr>\n",
       "      <th>8</th>\n",
       "      <td>MINISTRY OF CHEMICALS AND FERTILISERS</td>\n",
       "      <td></td>\n",
       "      <td>360 . 83</td>\n",
       "      <td>153 . 17</td>\n",
       "      <td>514 . 00</td>\n",
       "      <td>73104 . 46</td>\n",
       "      <td>0 . 09</td>\n",
       "      <td>73104 . 55</td>\n",
       "      <td>73618 . 55</td>\n",
       "      <td>None</td>\n",
       "      <td>None</td>\n",
       "    </tr>\n",
       "    <tr>\n",
       "      <th>9</th>\n",
       "      <td>Department of Chemicals and Petrochemicals</td>\n",
       "      <td></td>\n",
       "      <td>171 . 49</td>\n",
       "      <td>35 . 51</td>\n",
       "      <td>207 . 00</td>\n",
       "      <td>63 . 67</td>\n",
       "      <td>0 . 01</td>\n",
       "      <td>63 . 68</td>\n",
       "      <td>270 . 68</td>\n",
       "      <td></td>\n",
       "      <td>28 - 30</td>\n",
       "    </tr>\n",
       "    <tr>\n",
       "      <th>10</th>\n",
       "      <td>Department of Fertilisers</td>\n",
       "      <td></td>\n",
       "      <td>12 . 34</td>\n",
       "      <td>87 . 66</td>\n",
       "      <td>100 . 00</td>\n",
       "      <td>72999 . 96</td>\n",
       "      <td>0 . 04</td>\n",
       "      <td>73000 . 00</td>\n",
       "      <td>73100 . 00</td>\n",
       "      <td></td>\n",
       "      <td>31 - 33</td>\n",
       "    </tr>\n",
       "    <tr>\n",
       "      <th>11</th>\n",
       "      <td>Department of Pharmaceuticals</td>\n",
       "      <td></td>\n",
       "      <td>177 . 00</td>\n",
       "      <td>30 . 00</td>\n",
       "      <td>207 . 00</td>\n",
       "      <td>40 . 83</td>\n",
       "      <td>0 . 04</td>\n",
       "      <td>40 . 87</td>\n",
       "      <td>247 . 87</td>\n",
       "      <td></td>\n",
       "      <td>34 - 36</td>\n",
       "    </tr>\n",
       "    <tr>\n",
       "      <th>12</th>\n",
       "      <td>MINISTRY OF CIVIL AVIATION</td>\n",
       "      <td></td>\n",
       "      <td>179 . 90</td>\n",
       "      <td>6540 . 10</td>\n",
       "      <td>6720 . 00</td>\n",
       "      <td>657 . 98</td>\n",
       "      <td>. . .</td>\n",
       "      <td>657 . 98</td>\n",
       "      <td>7377 . 98</td>\n",
       "      <td>None</td>\n",
       "      <td>None</td>\n",
       "    </tr>\n",
       "    <tr>\n",
       "      <th>13</th>\n",
       "      <td>Ministry of Civil Aviation</td>\n",
       "      <td></td>\n",
       "      <td>179 . 90</td>\n",
       "      <td>6540 . 10</td>\n",
       "      <td>6720 . 00</td>\n",
       "      <td>657 . 98</td>\n",
       "      <td>. . .</td>\n",
       "      <td>657 . 98</td>\n",
       "      <td>7377 . 98</td>\n",
       "      <td></td>\n",
       "      <td>37 - 39</td>\n",
       "    </tr>\n",
       "    <tr>\n",
       "      <th>14</th>\n",
       "      <td>MINISTRY OF COAL</td>\n",
       "      <td></td>\n",
       "      <td>550 . 00</td>\n",
       "      <td>. . .</td>\n",
       "      <td>550 . 00</td>\n",
       "      <td>50 . 00</td>\n",
       "      <td>. . .</td>\n",
       "      <td>50 . 00</td>\n",
       "      <td>600 . 00</td>\n",
       "      <td>None</td>\n",
       "      <td>None</td>\n",
       "    </tr>\n",
       "    <tr>\n",
       "      <th>15</th>\n",
       "      <td>Ministry of Coal</td>\n",
       "      <td></td>\n",
       "      <td>550 . 00</td>\n",
       "      <td>. . .</td>\n",
       "      <td>550 . 00</td>\n",
       "      <td>50 . 00</td>\n",
       "      <td>. . .</td>\n",
       "      <td>50 . 00</td>\n",
       "      <td>600 . 00</td>\n",
       "      <td></td>\n",
       "      <td>40 - 41</td>\n",
       "    </tr>\n",
       "    <tr>\n",
       "      <th>16</th>\n",
       "      <td>MINISTRY OF COMMERCE AND INDUSTRY</td>\n",
       "      <td></td>\n",
       "      <td>3515 . 75</td>\n",
       "      <td>410 . 25</td>\n",
       "      <td>3926 . 00</td>\n",
       "      <td>3873 . 02</td>\n",
       "      <td>. . .</td>\n",
       "      <td>3873 . 02</td>\n",
       "      <td>7799 . 02</td>\n",
       "      <td>None</td>\n",
       "      <td>None</td>\n",
       "    </tr>\n",
       "    <tr>\n",
       "      <th>17</th>\n",
       "      <td>Department of Commerce</td>\n",
       "      <td></td>\n",
       "      <td>1921 . 50</td>\n",
       "      <td>304 . 50</td>\n",
       "      <td>2226 . 00</td>\n",
       "      <td>3628 . 00</td>\n",
       "      <td>. . .</td>\n",
       "      <td>3628 . 00</td>\n",
       "      <td>5854 . 00</td>\n",
       "      <td></td>\n",
       "      <td>42 - 47</td>\n",
       "    </tr>\n",
       "    <tr>\n",
       "      <th>18</th>\n",
       "      <td>Department of Industrial Policy and Promotion</td>\n",
       "      <td></td>\n",
       "      <td>1594 . 25</td>\n",
       "      <td>105 . 75</td>\n",
       "      <td>1700 . 00</td>\n",
       "      <td>245 . 02</td>\n",
       "      <td>. . .</td>\n",
       "      <td>245 . 02</td>\n",
       "      <td>1945 . 02</td>\n",
       "      <td></td>\n",
       "      <td>48 - 52</td>\n",
       "    </tr>\n",
       "    <tr>\n",
       "      <th>19</th>\n",
       "      <td>MINISTRY OF COMMUNICATIONS AND INFORMATION TEC...</td>\n",
       "      <td></td>\n",
       "      <td>7704 . 70</td>\n",
       "      <td>4410 . 30</td>\n",
       "      <td>12115 . 00</td>\n",
       "      <td>13953 . 92</td>\n",
       "      <td>101 . 00</td>\n",
       "      <td>14054 . 92</td>\n",
       "      <td>26169 . 92</td>\n",
       "      <td>None</td>\n",
       "      <td>None</td>\n",
       "    </tr>\n",
       "    <tr>\n",
       "      <th>20</th>\n",
       "      <td>Department of Posts</td>\n",
       "      <td></td>\n",
       "      <td>286 . 70</td>\n",
       "      <td>513 . 30</td>\n",
       "      <td>800 . 00</td>\n",
       "      <td>6907 . 76</td>\n",
       "      <td>5 . 00</td>\n",
       "      <td>6912 . 76</td>\n",
       "      <td>7712 . 76</td>\n",
       "      <td></td>\n",
       "      <td>53 - 54</td>\n",
       "    </tr>\n",
       "    <tr>\n",
       "      <th>21</th>\n",
       "      <td>Department of Telecommunications</td>\n",
       "      <td></td>\n",
       "      <td>3798 . 00</td>\n",
       "      <td>3702 . 00</td>\n",
       "      <td>7500 . 00</td>\n",
       "      <td>6932 . 06</td>\n",
       "      <td>96 . 00</td>\n",
       "      <td>7028 . 06</td>\n",
       "      <td>14528 . 06</td>\n",
       "      <td></td>\n",
       "      <td>55 - 58</td>\n",
       "    </tr>\n",
       "    <tr>\n",
       "      <th>22</th>\n",
       "      <td>Department of Electronics and Information Tech...</td>\n",
       "      <td></td>\n",
       "      <td>3620 . 00</td>\n",
       "      <td>195 . 00</td>\n",
       "      <td>3815 . 00</td>\n",
       "      <td>114 . 10</td>\n",
       "      <td>. . .</td>\n",
       "      <td>114 . 10</td>\n",
       "      <td>3929 . 10</td>\n",
       "      <td></td>\n",
       "      <td>59 - 63</td>\n",
       "    </tr>\n",
       "    <tr>\n",
       "      <th>23</th>\n",
       "      <td>MINISTRY OF CONSUMER AFFAIRS , FOOD AND PUBLIC...</td>\n",
       "      <td></td>\n",
       "      <td>344 . 45</td>\n",
       "      <td>205 . 55</td>\n",
       "      <td>550 . 00</td>\n",
       "      <td>115402 . 63</td>\n",
       "      <td>. . .</td>\n",
       "      <td>115402 . 63</td>\n",
       "      <td>115952 . 63</td>\n",
       "      <td>None</td>\n",
       "      <td>None</td>\n",
       "    </tr>\n",
       "    <tr>\n",
       "      <th>24</th>\n",
       "      <td>Department of Consumer Affairs</td>\n",
       "      <td></td>\n",
       "      <td>192 . 70</td>\n",
       "      <td>27 . 30</td>\n",
       "      <td>220 . 00</td>\n",
       "      <td>75 . 79</td>\n",
       "      <td>. . .</td>\n",
       "      <td>75 . 79</td>\n",
       "      <td>295 . 79</td>\n",
       "      <td></td>\n",
       "      <td>64 - 66</td>\n",
       "    </tr>\n",
       "    <tr>\n",
       "      <th>25</th>\n",
       "      <td>Department of Food and Public Distribution</td>\n",
       "      <td></td>\n",
       "      <td>151 . 75</td>\n",
       "      <td>178 . 25</td>\n",
       "      <td>330 . 00</td>\n",
       "      <td>115326 . 84</td>\n",
       "      <td>. . .</td>\n",
       "      <td>115326 . 84</td>\n",
       "      <td>115656 . 84</td>\n",
       "      <td></td>\n",
       "      <td>67 - 70</td>\n",
       "    </tr>\n",
       "    <tr>\n",
       "      <th>26</th>\n",
       "      <td>MINISTRY OF CORPORATE AFFAIRS</td>\n",
       "      <td></td>\n",
       "      <td>22 . 76</td>\n",
       "      <td>1 . 24</td>\n",
       "      <td>24 . 00</td>\n",
       "      <td>208 . 75</td>\n",
       "      <td>22 . 50</td>\n",
       "      <td>231 . 25</td>\n",
       "      <td>255 . 25</td>\n",
       "      <td>None</td>\n",
       "      <td>None</td>\n",
       "    </tr>\n",
       "    <tr>\n",
       "      <th>27</th>\n",
       "      <td>Ministry of Corporate Affairs</td>\n",
       "      <td></td>\n",
       "      <td>22 . 76</td>\n",
       "      <td>1 . 24</td>\n",
       "      <td>24 . 00</td>\n",
       "      <td>208 . 75</td>\n",
       "      <td>22 . 50</td>\n",
       "      <td>231 . 25</td>\n",
       "      <td>255 . 25</td>\n",
       "      <td></td>\n",
       "      <td>71 - 72</td>\n",
       "    </tr>\n",
       "    <tr>\n",
       "      <th>28</th>\n",
       "      <td>MINISTRY OF CULTURE</td>\n",
       "      <td></td>\n",
       "      <td>1767 . 00</td>\n",
       "      <td>68 . 00</td>\n",
       "      <td>1835 . 00</td>\n",
       "      <td>676 . 00</td>\n",
       "      <td>. . .</td>\n",
       "      <td>676 . 00</td>\n",
       "      <td>2511 . 00</td>\n",
       "      <td>None</td>\n",
       "      <td>None</td>\n",
       "    </tr>\n",
       "    <tr>\n",
       "      <th>29</th>\n",
       "      <td>Ministry of Culture</td>\n",
       "      <td></td>\n",
       "      <td>1767 . 00</td>\n",
       "      <td>68 . 00</td>\n",
       "      <td>1835 . 00</td>\n",
       "      <td>676 . 00</td>\n",
       "      <td>. . .</td>\n",
       "      <td>676 . 00</td>\n",
       "      <td>2511 . 00</td>\n",
       "      <td></td>\n",
       "      <td>73 - 78</td>\n",
       "    </tr>\n",
       "    <tr>\n",
       "      <th>30</th>\n",
       "      <td>MINISTRY OF DEFENCE</td>\n",
       "      <td></td>\n",
       "      <td>. . .</td>\n",
       "      <td>. . .</td>\n",
       "      <td>. . .</td>\n",
       "      <td>188994 . 20</td>\n",
       "      <td>96208 . 67</td>\n",
       "      <td>285202 . 87</td>\n",
       "      <td>285202 . 87</td>\n",
       "      <td>None</td>\n",
       "      <td>None</td>\n",
       "    </tr>\n",
       "    <tr>\n",
       "      <th>31</th>\n",
       "      <td>Ministry of Defence</td>\n",
       "      <td></td>\n",
       "      <td>. . .</td>\n",
       "      <td>. . .</td>\n",
       "      <td>. . .</td>\n",
       "      <td>3582 . 15</td>\n",
       "      <td>1620 . 72</td>\n",
       "      <td>5202 . 87</td>\n",
       "      <td>5202 . 87</td>\n",
       "      <td></td>\n",
       "      <td>79 - 80</td>\n",
       "    </tr>\n",
       "    <tr>\n",
       "      <th>32</th>\n",
       "      <td>Defence Pensions</td>\n",
       "      <td></td>\n",
       "      <td>. . .</td>\n",
       "      <td>. . .</td>\n",
       "      <td>. . .</td>\n",
       "      <td>51000 . 00</td>\n",
       "      <td>. . .</td>\n",
       "      <td>51000 . 00</td>\n",
       "      <td>51000 . 00</td>\n",
       "      <td></td>\n",
       "      <td>81 - 81</td>\n",
       "    </tr>\n",
       "    <tr>\n",
       "      <th>33</th>\n",
       "      <td>Defence Services - Army</td>\n",
       "      <td></td>\n",
       "      <td>. . .</td>\n",
       "      <td>. . .</td>\n",
       "      <td>. . .</td>\n",
       "      <td>92669 . 32</td>\n",
       "      <td>. . .</td>\n",
       "      <td>92669 . 32</td>\n",
       "      <td>92669 . 32</td>\n",
       "      <td></td>\n",
       "      <td>82 - 82</td>\n",
       "    </tr>\n",
       "    <tr>\n",
       "      <th>34</th>\n",
       "      <td>Defence Services - Navy</td>\n",
       "      <td></td>\n",
       "      <td>. . .</td>\n",
       "      <td>. . .</td>\n",
       "      <td>. . .</td>\n",
       "      <td>13975 . 79</td>\n",
       "      <td>. . .</td>\n",
       "      <td>13975 . 79</td>\n",
       "      <td>13975 . 79</td>\n",
       "      <td></td>\n",
       "      <td>83 - 83</td>\n",
       "    </tr>\n",
       "    <tr>\n",
       "      <th>35</th>\n",
       "      <td>Defence Services - Air Force</td>\n",
       "      <td></td>\n",
       "      <td>. . .</td>\n",
       "      <td>. . .</td>\n",
       "      <td>. . .</td>\n",
       "      <td>20506 . 84</td>\n",
       "      <td>. . .</td>\n",
       "      <td>20506 . 84</td>\n",
       "      <td>20506 . 84</td>\n",
       "      <td></td>\n",
       "      <td>84 - 84</td>\n",
       "    </tr>\n",
       "    <tr>\n",
       "      <th>36</th>\n",
       "      <td>Defence Ordnance Factories</td>\n",
       "      <td></td>\n",
       "      <td>. . .</td>\n",
       "      <td>. . .</td>\n",
       "      <td>. . .</td>\n",
       "      <td>1275 . 43</td>\n",
       "      <td>. . .</td>\n",
       "      <td>1275 . 43</td>\n",
       "      <td>1275 . 43</td>\n",
       "      <td></td>\n",
       "      <td>85 - 85</td>\n",
       "    </tr>\n",
       "    <tr>\n",
       "      <th>37</th>\n",
       "      <td>Defence Services – Research and Development</td>\n",
       "      <td></td>\n",
       "      <td>. . .</td>\n",
       "      <td>. . .</td>\n",
       "      <td>. . .</td>\n",
       "      <td>5984 . 67</td>\n",
       "      <td>. . .</td>\n",
       "      <td>5984 . 67</td>\n",
       "      <td>5984 . 67</td>\n",
       "      <td></td>\n",
       "      <td>86 - 86</td>\n",
       "    </tr>\n",
       "    <tr>\n",
       "      <th>38</th>\n",
       "      <td>Capital Outlay on Defence Services</td>\n",
       "      <td></td>\n",
       "      <td>. . .</td>\n",
       "      <td>. . .</td>\n",
       "      <td>. . .</td>\n",
       "      <td>. . .</td>\n",
       "      <td>94587 . 95</td>\n",
       "      <td>94587 . 95</td>\n",
       "      <td>94587 . 95</td>\n",
       "      <td></td>\n",
       "      <td>87 - 88</td>\n",
       "    </tr>\n",
       "  </tbody>\n",
       "</table>\n",
       "</div>"
      ],
      "text/plain": [
       "                                                 col0                col1  \\\n",
       "0                                                       Ministry / Demand   \n",
       "1                             MINISTRY OF AGRICULTURE                       \n",
       "2           Department of Agriculture and Cooperation                       \n",
       "3   Department of Agricultural Research and Education                       \n",
       "4   Department of Animal Husbandry , Dairying and ...                       \n",
       "5                         DEPARTMENT OF ATOMIC ENERGY                       \n",
       "6                                       Atomic Energy                       \n",
       "7                               Nuclear Power Schemes                       \n",
       "8               MINISTRY OF CHEMICALS AND FERTILISERS                       \n",
       "9          Department of Chemicals and Petrochemicals                       \n",
       "10                          Department of Fertilisers                       \n",
       "11                      Department of Pharmaceuticals                       \n",
       "12                         MINISTRY OF CIVIL AVIATION                       \n",
       "13                         Ministry of Civil Aviation                       \n",
       "14                                   MINISTRY OF COAL                       \n",
       "15                                   Ministry of Coal                       \n",
       "16                  MINISTRY OF COMMERCE AND INDUSTRY                       \n",
       "17                             Department of Commerce                       \n",
       "18      Department of Industrial Policy and Promotion                       \n",
       "19  MINISTRY OF COMMUNICATIONS AND INFORMATION TEC...                       \n",
       "20                                Department of Posts                       \n",
       "21                   Department of Telecommunications                       \n",
       "22  Department of Electronics and Information Tech...                       \n",
       "23  MINISTRY OF CONSUMER AFFAIRS , FOOD AND PUBLIC...                       \n",
       "24                     Department of Consumer Affairs                       \n",
       "25         Department of Food and Public Distribution                       \n",
       "26                      MINISTRY OF CORPORATE AFFAIRS                       \n",
       "27                      Ministry of Corporate Affairs                       \n",
       "28                                MINISTRY OF CULTURE                       \n",
       "29                                Ministry of Culture                       \n",
       "30                                MINISTRY OF DEFENCE                       \n",
       "31                                Ministry of Defence                       \n",
       "32                                   Defence Pensions                       \n",
       "33                            Defence Services - Army                       \n",
       "34                            Defence Services - Navy                       \n",
       "35                       Defence Services - Air Force                       \n",
       "36                         Defence Ordnance Factories                       \n",
       "37        Defence Services – Research and Development                       \n",
       "38                 Capital Outlay on Defence Services                       \n",
       "\n",
       "          col2          col3        col4         col5                col6  \\\n",
       "0      Revenue  Plan Capital       Total      Revenue  Non - Plan Capital   \n",
       "1   28130 . 48       67 . 52  28198 . 00    2863 . 09              1 . 85   \n",
       "2   22260 . 55       48 . 45  22309 . 00     342 . 51              0 . 74   \n",
       "3    3715 . 00         . . .   3715 . 00    2429 . 39               . . .   \n",
       "4    2154 . 93       19 . 07   2174 . 00      91 . 19              1 . 11   \n",
       "5    1779 . 00     4101 . 00   5880 . 00    3710 . 84            855 . 75   \n",
       "6    1483 . 00     3427 . 00   4910 . 00    2971 . 25            855 . 75   \n",
       "7     296 . 00      674 . 00    970 . 00     739 . 59               . . .   \n",
       "8     360 . 83      153 . 17    514 . 00   73104 . 46              0 . 09   \n",
       "9     171 . 49       35 . 51    207 . 00      63 . 67              0 . 01   \n",
       "10     12 . 34       87 . 66    100 . 00   72999 . 96              0 . 04   \n",
       "11    177 . 00       30 . 00    207 . 00      40 . 83              0 . 04   \n",
       "12    179 . 90     6540 . 10   6720 . 00     657 . 98               . . .   \n",
       "13    179 . 90     6540 . 10   6720 . 00     657 . 98               . . .   \n",
       "14    550 . 00         . . .    550 . 00      50 . 00               . . .   \n",
       "15    550 . 00         . . .    550 . 00      50 . 00               . . .   \n",
       "16   3515 . 75      410 . 25   3926 . 00    3873 . 02               . . .   \n",
       "17   1921 . 50      304 . 50   2226 . 00    3628 . 00               . . .   \n",
       "18   1594 . 25      105 . 75   1700 . 00     245 . 02               . . .   \n",
       "19   7704 . 70     4410 . 30  12115 . 00   13953 . 92            101 . 00   \n",
       "20    286 . 70      513 . 30    800 . 00    6907 . 76              5 . 00   \n",
       "21   3798 . 00     3702 . 00   7500 . 00    6932 . 06             96 . 00   \n",
       "22   3620 . 00      195 . 00   3815 . 00     114 . 10               . . .   \n",
       "23    344 . 45      205 . 55    550 . 00  115402 . 63               . . .   \n",
       "24    192 . 70       27 . 30    220 . 00      75 . 79               . . .   \n",
       "25    151 . 75      178 . 25    330 . 00  115326 . 84               . . .   \n",
       "26     22 . 76        1 . 24     24 . 00     208 . 75             22 . 50   \n",
       "27     22 . 76        1 . 24     24 . 00     208 . 75             22 . 50   \n",
       "28   1767 . 00       68 . 00   1835 . 00     676 . 00               . . .   \n",
       "29   1767 . 00       68 . 00   1835 . 00     676 . 00               . . .   \n",
       "30       . . .         . . .       . . .  188994 . 20          96208 . 67   \n",
       "31       . . .         . . .       . . .    3582 . 15           1620 . 72   \n",
       "32       . . .         . . .       . . .   51000 . 00               . . .   \n",
       "33       . . .         . . .       . . .   92669 . 32               . . .   \n",
       "34       . . .         . . .       . . .   13975 . 79               . . .   \n",
       "35       . . .         . . .       . . .   20506 . 84               . . .   \n",
       "36       . . .         . . .       . . .    1275 . 43               . . .   \n",
       "37       . . .         . . .       . . .    5984 . 67               . . .   \n",
       "38       . . .         . . .       . . .        . . .          94587 . 95   \n",
       "\n",
       "           col7                     col8       col9    col10  \n",
       "0         Total  Total Plan & Non - Plan  Page No .           \n",
       "1     2864 . 94               31062 . 94       None     None  \n",
       "2      343 . 25               22652 . 25              1 - 10  \n",
       "3     2429 . 39                6144 . 39             11 - 13  \n",
       "4       92 . 30                2266 . 30             14 - 19  \n",
       "5     4566 . 59               10446 . 59       None     None  \n",
       "6     3827 . 00                8737 . 00             20 - 25  \n",
       "7      739 . 59                1709 . 59             26 - 27  \n",
       "8    73104 . 55               73618 . 55       None     None  \n",
       "9       63 . 68                 270 . 68             28 - 30  \n",
       "10   73000 . 00               73100 . 00             31 - 33  \n",
       "11      40 . 87                 247 . 87             34 - 36  \n",
       "12     657 . 98                7377 . 98       None     None  \n",
       "13     657 . 98                7377 . 98             37 - 39  \n",
       "14      50 . 00                 600 . 00       None     None  \n",
       "15      50 . 00                 600 . 00             40 - 41  \n",
       "16    3873 . 02                7799 . 02       None     None  \n",
       "17    3628 . 00                5854 . 00             42 - 47  \n",
       "18     245 . 02                1945 . 02             48 - 52  \n",
       "19   14054 . 92               26169 . 92       None     None  \n",
       "20    6912 . 76                7712 . 76             53 - 54  \n",
       "21    7028 . 06               14528 . 06             55 - 58  \n",
       "22     114 . 10                3929 . 10             59 - 63  \n",
       "23  115402 . 63              115952 . 63       None     None  \n",
       "24      75 . 79                 295 . 79             64 - 66  \n",
       "25  115326 . 84              115656 . 84             67 - 70  \n",
       "26     231 . 25                 255 . 25       None     None  \n",
       "27     231 . 25                 255 . 25             71 - 72  \n",
       "28     676 . 00                2511 . 00       None     None  \n",
       "29     676 . 00                2511 . 00             73 - 78  \n",
       "30  285202 . 87              285202 . 87       None     None  \n",
       "31    5202 . 87                5202 . 87             79 - 80  \n",
       "32   51000 . 00               51000 . 00             81 - 81  \n",
       "33   92669 . 32               92669 . 32             82 - 82  \n",
       "34   13975 . 79               13975 . 79             83 - 83  \n",
       "35   20506 . 84               20506 . 84             84 - 84  \n",
       "36    1275 . 43                1275 . 43             85 - 85  \n",
       "37    5984 . 67                5984 . 67             86 - 86  \n",
       "38   94587 . 95               94587 . 95             87 - 88  "
      ]
     },
     "metadata": {},
     "output_type": "display_data"
    }
   ],
   "source": [
    "from sparkocr.utils import display_tables\n",
    "result = digital_pdf_table_extractor.transform(df)\n",
    "display_tables(result, table_col = \"tables\", table_index_col = \"table_index\")"
   ]
  }
 ],
 "metadata": {
  "colab": {
   "provenance": []
  },
  "kernelspec": {
   "display_name": "Python 3 (ipykernel)",
   "language": "python",
   "name": "python3"
  },
  "language_info": {
   "codemirror_mode": {
    "name": "ipython",
    "version": 3
   },
   "file_extension": ".py",
   "mimetype": "text/x-python",
   "name": "python",
   "nbconvert_exporter": "python",
   "pygments_lexer": "ipython3",
   "version": "3.8.10"
  }
 },
 "nbformat": 4,
 "nbformat_minor": 0
}
