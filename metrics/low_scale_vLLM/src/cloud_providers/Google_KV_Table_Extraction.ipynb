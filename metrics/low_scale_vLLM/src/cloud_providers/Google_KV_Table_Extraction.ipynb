{
 "cells": [
  {
   "cell_type": "code",
   "execution_count": 7,
   "id": "52cddd09",
   "metadata": {},
   "outputs": [],
   "source": [
    "from google.api_core.client_options import ClientOptions\n",
    "from google.cloud import documentai\n",
    "from google.protobuf.json_format import MessageToJson\n",
    "from google.cloud.documentai_toolbox import document\n",
    "\n",
    "import json\n",
    "import os\n",
    "import time"
   ]
  },
  {
   "cell_type": "code",
   "execution_count": 2,
   "id": "85085f6f",
   "metadata": {},
   "outputs": [
    {
     "name": "stdout",
     "output_type": "stream",
     "text": [
      "dict_keys(['access_id', 'secret_key', 'region', 'mfa', 'role_arn', 'azure_vision_key', 'azure_vision_endpoint', 'google_document_location', 'google_document_id', 'google_project_name'])\n"
     ]
    }
   ],
   "source": [
    "with open(\"./credentials.json\",\"r\") as file:\n",
    "    creds = json.loads(file.read())\n",
    "    \n",
    "print(creds.keys())"
   ]
  },
  {
   "cell_type": "code",
   "execution_count": null,
   "id": "359761e3",
   "metadata": {},
   "outputs": [],
   "source": [
    "root_path = \"/\".join(os.getcwd().split(\"/\")[:-1])\n",
    "\n",
    "google_root_path = os.path.join(root_path,\"googleOutput\")\n",
    "\n",
    "images_root_path = os.path.join(root_path,\"imagesPerPage\")"
   ]
  },
  {
   "cell_type": "markdown",
   "id": "6bf07530",
   "metadata": {},
   "source": [
    "<h2>Call Google Document AI Service</h2>"
   ]
  },
  {
   "cell_type": "code",
   "execution_count": 3,
   "id": "0159d995",
   "metadata": {},
   "outputs": [],
   "source": [
    "def create_client_process(creds):\n",
    "    opts = ClientOptions(api_endpoint=f\"{creds['google_document_location']}-documentai.googleapis.com\")\n",
    "    \n",
    "    client = documentai.DocumentProcessorServiceClient(client_options=opts)\n",
    "    \n",
    "    parent = client.common_location_path(creds[\"google_document_id\"], creds[\"google_document_location\"])\n",
    "    \n",
    "    processor = client.create_processor(\n",
    "        parent=parent,\n",
    "        processor=documentai.Processor(\n",
    "            type_=\"FORM_PARSER_PROCESSOR\",display_name=creds[\"google_project_name\"]),\n",
    "    )\n",
    "    \n",
    "    return processor,client"
   ]
  },
  {
   "cell_type": "code",
   "execution_count": null,
   "id": "6fd04384",
   "metadata": {},
   "outputs": [],
   "source": [
    "processor,client = create_client_process(creds)"
   ]
  },
  {
   "cell_type": "code",
   "execution_count": 6,
   "id": "198bd7da",
   "metadata": {},
   "outputs": [
    {
     "name": "stdout",
     "output_type": "stream",
     "text": [
      "Processing Folder --> oncoextra-tnbc-ntrk-wm-sample-report_pdf\n",
      "Processing Folder --> .DS_Store\n",
      "Processing Folder --> Caris-Molecular-Intelligence_MI-Profile_Breast_NOS_WEBchanged_pdf\n",
      "Processing Folder --> F1CDx Sample Report (Lung) (copy)_pdf\n",
      "Processing Folder --> F1CDx Sample Report (Lung) changed_pdf\n",
      "Processing Folder --> CarisReport_2023_NSCLC_KRAS_G12C_PD-L1-unlocked_pdf\n",
      "Processing Folder --> Sample-NGS-Thyroid-MTC-report_changed_pdf\n",
      "Processing Folder --> Tempus-Onco_Clinical-Report-Sample_pdf\n",
      "Processing Folder --> Positive-Report_pdf\n"
     ]
    }
   ],
   "source": [
    "for folder in os.listdir(images_root_path):\n",
    "    print(f\"Processing Folder --> {folder}\", end=\"\\n\")\n",
    "    \n",
    "    folder_dir = os.path.join(images_root_path,folder)\n",
    "    google_dir = os.path.join(google_root_path,folder,\"annotation\")\n",
    "    \n",
    "    os.makedirs(google_dir,exist_ok=True)\n",
    "    \n",
    "    for image_file in os.listdir(folder_dir):\n",
    "        image_file_dir = os.path.join(folder_dir,image_file)\n",
    "        result_save_dir = os.path.join(google_dir,image_file.replace(\".png\",\".json\"))\n",
    "        \n",
    "        with open(image_file_dir,\"rb\") as load_file:\n",
    "            doc_bytes = load_file.read()\n",
    "        \n",
    "        raw_document = documentai.RawDocument(content=image_bytes,mime_type=\"image/png\")\n",
    "        \n",
    "        request = documentai.ProcessRequest(name=processor.name, raw_document=raw_document)\n",
    "        \n",
    "        result = client.process_document(request=request)\n",
    "        \n",
    "        document = result.document\n",
    "        \n",
    "        serializedDocument = MessageToJson(document.__dict__[\"_pb\"])\n",
    "        \n",
    "        jsonPayload = json.loads(serializedDocument)\n",
    "        \n",
    "        with open(result_save_dir,\"w\") as write_file:\n",
    "            write_file.write(json.dumps(jsonPayload))"
   ]
  },
  {
   "cell_type": "markdown",
   "id": "9992b08d",
   "metadata": {},
   "source": [
    "<h2>Extract Google Document AI Response</h2>"
   ]
  },
  {
   "cell_type": "code",
   "execution_count": 147,
   "id": "5ea8913f",
   "metadata": {},
   "outputs": [],
   "source": [
    "def extract_table_kv_from_path(path,filename,save_dir):\n",
    "    out = {}\n",
    "    wrapped_document = document.Document.from_document_path(document_path=path)\n",
    "    \n",
    "    for page in wrapped_document.pages:\n",
    "        for table_index, table in enumerate(page.tables):\n",
    "            df = table.to_dataframe()\n",
    "            \n",
    "            output_filename = f\"{filename}-{table_index}.csv\"\n",
    "            table_save_dir = os.path.join(save_dir,output_filename)\n",
    "            df.to_csv(table_save_dir, index=False)\n",
    "            \n",
    "            headers = [i[0] for i in df.columns]\n",
    "            for header in headers:\n",
    "                if header != \"\":\n",
    "                    values = [i[0] for i in df[header].values if i[0] != \"\"]\n",
    "                    if header not in out.keys():\n",
    "                        out[header] = []\n",
    "                        out[header].extend(values)\n",
    "                    else:\n",
    "                        out[header].extend(values)\n",
    "        \n",
    "    for page in wrapped_document.pages:\n",
    "        for field in page.form_fields:\n",
    "            name = field.field_name\n",
    "            value = field.field_value\n",
    "            \n",
    "            if name not in out.keys():\n",
    "                out[name] = []\n",
    "                out[name].append(value)\n",
    "            else:\n",
    "                out[name].append(value)\n",
    "    \n",
    "    return out"
   ]
  },
  {
   "cell_type": "code",
   "execution_count": 149,
   "id": "7060fb94",
   "metadata": {},
   "outputs": [],
   "source": [
    "for folder in os.listdir(google_root_path):\n",
    "    if folder != \".DS_Store\":\n",
    "        annotation_dir = os.path.join(google_root_path,folder,\"annotation\")\n",
    "        results_dir = os.path.join(google_root_path,folder,\"results\")\n",
    "        \n",
    "        os.makedirs(results_dir,exist_ok=True)\n",
    "        \n",
    "        for jsonFile in os.listdir(annotation_dir):\n",
    "            payload_dir = os.path.join(annotation_dir,jsonFile)\n",
    "            json_table_save_dir = os.path.join(results_dir,jsonFile.split(\".json\")[0] + \"_json_result.json\")\n",
    "\n",
    "            master = extract_table_kv_from_path(payload_dir,jsonFile,results_dir)\n",
    "            \n",
    "            with open(json_table_save_dir, \"w\") as json_save_file:\n",
    "                json_save_file.write(json.dumps(master))"
   ]
  }
 ],
 "metadata": {
  "kernelspec": {
   "display_name": "Python 3 (ipykernel)",
   "language": "python",
   "name": "python3"
  },
  "language_info": {
   "codemirror_mode": {
    "name": "ipython",
    "version": 3
   },
   "file_extension": ".py",
   "mimetype": "text/x-python",
   "name": "python",
   "nbconvert_exporter": "python",
   "pygments_lexer": "ipython3",
   "version": "3.9.18"
  }
 },
 "nbformat": 4,
 "nbformat_minor": 5
}
