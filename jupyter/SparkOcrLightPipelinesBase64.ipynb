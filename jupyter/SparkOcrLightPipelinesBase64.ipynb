{
 "cells": [
  {
   "cell_type": "markdown",
   "metadata": {},
   "source": [
    "# Example of using Base64ToImage Transformer on Spark OCR\n",
    "## Install spark-ocr python packge\n",
    "Need specify path to `spark-ocr-assembly-[version].jar` or `secret`"
   ]
  },
  {
   "cell_type": "code",
   "execution_count": 1,
   "metadata": {
    "ExecuteTime": {
     "end_time": "2024-04-09T13:24:12.696788579Z",
     "start_time": "2024-04-09T13:24:12.682014512Z"
    }
   },
   "outputs": [],
   "source": [
    "license = \"\"\n",
    "secret = \"\"\n",
    "nlp_secret = \"\"\n",
    "aws_access_key = \"\"\n",
    "aws_secret_key = \"\"\n",
    "\n",
    "version = secret.split(\"-\")[0]\n",
    "spark_ocr_jar_path = \"../../target/scala-2.12\""
   ]
  },
  {
   "cell_type": "code",
   "execution_count": 2,
   "metadata": {},
   "outputs": [],
   "source": [
    "%%bash\n",
    "if python -c 'import google.colab' &> /dev/null; then\n",
    "    echo \"Run on Google Colab!\"\n",
    "    echo \"Install Open JDK\"\n",
    "    apt-get install -y openjdk-8-jdk-headless -qq > /dev/null\n",
    "    java -version\n",
    "fi"
   ]
  },
  {
   "cell_type": "code",
   "execution_count": 3,
   "metadata": {},
   "outputs": [],
   "source": [
    "import sys\n",
    "import os\n",
    "\n",
    "if 'google.colab' in sys.modules:\n",
    "  os.environ[\"JAVA_HOME\"] = \"/usr/lib/jvm/java-8-openjdk-amd64\"\n",
    "  os.environ[\"PATH\"] = os.environ[\"JAVA_HOME\"] + \"/bin:\" + os.environ[\"PATH\"]"
   ]
  },
  {
   "cell_type": "markdown",
   "metadata": {},
   "source": [
    "## Initialization of spark session"
   ]
  },
  {
   "cell_type": "code",
   "execution_count": null,
   "metadata": {},
   "outputs": [],
   "source": [
    "from pyspark.sql import SparkSession\n",
    "from sparkocr import start\n",
    "\n",
    "if license:\n",
    "    os.environ['JSL_OCR_LICENSE'] = license\n",
    "    \n",
    "# Pass nlp_secret=nlp_secret, if you don't have a jar\n",
    "spark = start(jar_path=spark_ocr_jar_path)"
   ]
  },
  {
   "cell_type": "code",
   "execution_count": 3,
   "metadata": {
    "scrolled": true,
    "ExecuteTime": {
     "end_time": "2024-04-09T13:24:35.934294269Z",
     "start_time": "2024-04-09T13:24:34.902577120Z"
    }
   },
   "outputs": [],
   "source": [
    "from pyspark.ml import PipelineModel\n",
    "from pyspark.sql.functions import *\n",
    "from sparkocr.transformers import *"
   ]
  },
  {
   "cell_type": "markdown",
   "metadata": {},
   "source": [
    "## Images\n",
    "### Convert to Base64"
   ]
  },
  {
   "cell_type": "code",
   "execution_count": 4,
   "metadata": {
    "ExecuteTime": {
     "end_time": "2024-04-09T13:24:35.937308895Z",
     "start_time": "2024-04-09T13:24:35.935525426Z"
    }
   },
   "outputs": [],
   "source": [
    "import pkg_resources\n",
    "img_path = pkg_resources.resource_filename('sparkocr', 'resources/ocr/images/check.jpg')"
   ]
  },
  {
   "cell_type": "code",
   "execution_count": 7,
   "metadata": {},
   "outputs": [],
   "source": [
    "import base64\n",
    "with open(img_path, 'rb') as f:\n",
    "    base64_img = base64.b64encode(f.read()).decode('ascii')"
   ]
  },
  {
   "cell_type": "markdown",
   "metadata": {},
   "source": [
    "## Define OCR pipeline"
   ]
  },
  {
   "cell_type": "code",
   "execution_count": 8,
   "metadata": {},
   "outputs": [],
   "source": [
    "# Transform base64 to image\n",
    "base64_to_image = Base64ToImage()\n",
    "base64_to_image.setOutputCol(\"image\")\n",
    "\n",
    "# Run OCR for each region\n",
    "ocr = ImageToText()\n",
    "ocr.setInputCol(\"image\")\n",
    "ocr.setOutputCol(\"text\")\n",
    "ocr.setConfidenceThreshold(60)\n",
    "\n",
    "# OCR pipeline\n",
    "pipeline = PipelineModel(stages=[\n",
    "    base64_to_image,\n",
    "    ocr\n",
    "])"
   ]
  },
  {
   "cell_type": "markdown",
   "metadata": {},
   "source": [
    "## Create LightPipeline"
   ]
  },
  {
   "cell_type": "code",
   "execution_count": 8,
   "metadata": {
    "ExecuteTime": {
     "end_time": "2024-04-09T13:25:17.430605090Z",
     "start_time": "2024-04-09T13:25:17.382046095Z"
    }
   },
   "outputs": [],
   "source": [
    "from sparkocr.base import LightPipeline"
   ]
  },
  {
   "cell_type": "code",
   "execution_count": 10,
   "metadata": {},
   "outputs": [],
   "source": [
    "lp = LightPipeline(pipeline)"
   ]
  },
  {
   "cell_type": "code",
   "execution_count": 11,
   "metadata": {},
   "outputs": [
    {
     "name": "stdout",
     "output_type": "stream",
     "text": [
      "CPU times: user 3.78 ms, sys: 3.96 ms, total: 7.73 ms\n",
      "Wall time: 742 ms\n"
     ]
    },
    {
     "data": {
      "text/plain": [
       "[{'image': ImageOutput(path: base64_in_memory, exception: None),\n",
       "  'exception': Light Pipeline Exception(message: [ocr_pipeline_exception::]),\n",
       "  'text': Annotation(image_to_text, 0, 324, STARBUCKS Store #19208\n",
       "  11902 Euclid Avenue\n",
       "  Cleveland, OH (216) 229-U749\n",
       "  \n",
       "  CHK 664250\n",
       "  12/07/2014 06:43 PM\n",
       "  112003. Drawer: 2. Reg: 2\n",
       "  \n",
       "  ¥t Pep Mocha 4.95\n",
       "  \n",
       "  Sbux Card 4.95\n",
       "  \n",
       "  AXKANRKAXERAK, 3228\n",
       "  \n",
       "  Subtotal $4.95\n",
       "  \n",
       "  Total $4.95\n",
       "  Change Cue BOC\n",
       "  \n",
       "  - Check Closed ~\n",
       "  “12/01/2014 06:43 py\n",
       "  \n",
       "  oBUX Card «3228 New Balance: 37.45\n",
       "  Card is registertd\n",
       "  , Map(confidence -> 73.70487899780274, exception -> , sourcePath -> base64_in_memory), []),\n",
       "  'positions': PositionsOutput(mappings: [{'c': 'STARBUCKS Store #19208\\n11902 Euclid Avenue\\nCleveland, OH (216) 229-U749\\n\\n', 'x': 103.0, 'width': 371.0, 'y': 32.0, 'fontSize': 11, 'source': 'ocr', 'height': 92.0}, {'c': 'CHK 664250\\n12/07/2014 06:43 PM\\n112003. Drawer: 2. Reg: 2\\n\\n', 'x': 108.0, 'width': 352.0, 'y': 164.0, 'fontSize': 10, 'source': 'ocr', 'height': 92.0}, {'c': '¥t Pep Mocha 4.95\\n\\nSbux Card 4.95\\n\\nAXKANRKAXERAK, 3228\\n\\nSubtotal $4.95\\n\\nTotal $4.95\\nChange Cue BOC\\n\\n', 'x': 23.0, 'width': 490.0, 'y': 295.0, 'fontSize': 10, 'source': 'ocr', 'height': 223.0}, {'c': '- Check Closed ~\\n“12/01/2014 06:43 py\\n\\n', 'x': 130.0, 'width': 298.0, 'y': 558.0, 'fontSize': 11, 'source': 'ocr', 'height': 59.0}, {'c': 'oBUX Card «3228 New Balance: 37.45\\nCard is registertd\\n', 'x': 22.0, 'width': 464.0, 'y': 657.0, 'fontSize': 10, 'source': 'ocr', 'height': 58.0}]),\n",
       "  'content': source base64 file buffer, of len: 20. First 20 chars: /9j/4AAQSkZJRgABAQEA}]"
      ]
     },
     "execution_count": 11,
     "metadata": {},
     "output_type": "execute_result"
    }
   ],
   "source": [
    "%%time\n",
    "result = lp.fromString(base64_img)\n",
    "result"
   ]
  },
  {
   "cell_type": "markdown",
   "metadata": {},
   "source": [
    "## PDFs\n",
    "### Convert to Base64"
   ]
  },
  {
   "cell_type": "code",
   "execution_count": 12,
   "metadata": {},
   "outputs": [],
   "source": [
    "import pkg_resources\n",
    "img_path = pkg_resources.resource_filename('sparkocr', 'resources/ocr/pdfs/four_pages_clinical_note/4_pages_clinical_note.pdf')"
   ]
  },
  {
   "cell_type": "code",
   "execution_count": 17,
   "metadata": {},
   "outputs": [],
   "source": [
    "import base64\n",
    "with open(img_path, 'rb') as f:\n",
    "    base64_pdf = base64.b64encode(f.read()).decode('ascii')"
   ]
  },
  {
   "cell_type": "code",
   "execution_count": 19,
   "metadata": {},
   "outputs": [],
   "source": [
    "from sparkocr.enums import ImageType\n",
    "# Transform base64 to binary\n",
    "base64_to_bin = Base64ToBinary()\n",
    "base64_to_bin.setOutputCol(\"content\")\n",
    "\n",
    "pdf_to_image = PdfToImage()\n",
    "pdf_to_image.setInputCol(\"content\")\n",
    "pdf_to_image.setOutputCol(\"image\")\n",
    "pdf_to_image.setImageType(ImageType.TYPE_3BYTE_BGR)\n",
    "pdf_to_image.setResolution(72)\n",
    "\n",
    "# Run OCR for each region\n",
    "ocr = ImageToText()\n",
    "ocr.setInputCol(\"image\")\n",
    "ocr.setOutputCol(\"text\")\n",
    "ocr.setConfidenceThreshold(60)\n",
    "\n",
    "# OCR pipeline\n",
    "pipeline = PipelineModel(stages=[\n",
    "    base64_to_bin,\n",
    "    pdf_to_image,\n",
    "    ocr\n",
    "])"
   ]
  },
  {
   "cell_type": "code",
   "execution_count": 20,
   "metadata": {},
   "outputs": [],
   "source": [
    "lp = LightPipeline(pipeline)"
   ]
  },
  {
   "cell_type": "code",
   "execution_count": 22,
   "metadata": {},
   "outputs": [
    {
     "data": {
      "text/plain": [
       "[{'image': ImageOutput(path: base64_in_memory:JVBERi0xLjUKJbXtrvsK, exception: ),\n",
       "  'exception': [Light Pipeline Exception(message: [ocr_pipeline_exception::]),\n",
       "   Light Pipeline Exception(message: [ocr_pipeline_exception::])],\n",
       "  'text': Annotation(image_to_text, 0, 476, Result Information\n",
       "  ‘Status Provider Status\n",
       "  \n",
       "  Entry Date\n",
       "  \n",
       "   \n",
       "  \n",
       "   \n",
       "  \n",
       "   \n",
       "  \n",
       "   \n",
       "  \n",
       "  Component Results\n",
       "  ‘Component ta\n",
       "  Surgical Pathology\n",
       "  \n",
       "   \n",
       "  \n",
       "  ©. Loft intemal and extemal tae lymph node, resection:\n",
       "  Single lymph node with metastatic yrothesal carcinoma, 1.8 cm largest dametor\n",
       "  ony\n",
       "  \n",
       "  Left obturator mph node, resection:\n",
       "  “Three benign lymph nodes and flrcadipose tssue, negative for tunar (0/3)\n",
       "  \n",
       "  G. Let common tac mph, resection:\n",
       "  One benign lym nodes and Rorozdpose tissue, negate for tumor (0/1)\n",
       "  \n",
       "   \n",
       "  , Map(confidence -> 61.55688985188802, exception -> , sourcePath -> base64_in_memory:JVBERi0xLjUKJbXtrvsK), []),\n",
       "  'b64string': source base64 file buffer, of len: 20. First 20 chars: JVBERi0xLjUKJbXtrvsK,\n",
       "  'pagenum': 0,\n",
       "  'positions': PositionsOutput(mappings: [{'c': 'Result Information\\n‘Status Provider Status\\n\\n', 'x': 55.0, 'width': 250.0, 'y': 164.0, 'fontSize': 20, 'source': 'ocr', 'height': 31.0}, {'c': 'Entry Date\\n\\n', 'x': 55.0, 'width': 48.0, 'y': 207.0, 'fontSize': 20, 'source': 'ocr', 'height': 7.0}, {'c': ' \\n\\n', 'x': 330.0, 'width': 25.0, 'y': 57.0, 'fontSize': 20, 'source': 'ocr', 'height': 9.0}, {'c': ' \\n\\n', 'x': 54.0, 'width': 488.0, 'y': 112.0, 'fontSize': 5, 'source': 'ocr', 'height': 9.0}, {'c': ' \\n\\n', 'x': 53.0, 'width': 489.0, 'y': 171.0, 'fontSize': 5, 'source': 'ocr', 'height': 9.0}, {'c': ' \\n\\n', 'x': 128.0, 'width': 413.0, 'y': 214.0, 'fontSize': 5, 'source': 'ocr', 'height': 10.0}, {'c': 'Component Results\\n‘Component ta\\nSurgical Pathology\\n\\n', 'x': 54.0, 'width': 443.0, 'y': 236.0, 'fontSize': 20, 'source': 'ocr', 'height': 36.0}, {'c': ' \\n\\n', 'x': 53.0, 'width': 488.0, 'y': 243.0, 'fontSize': 5, 'source': 'ocr', 'height': 9.0}, {'c': '©. Loft intemal and extemal tae lymph node, resection:\\nSingle lymph node with metastatic yrothesal carcinoma, 1.8 cm largest dametor\\nony\\n\\n', 'x': 65.0, 'width': 345.0, 'y': 487.0, 'fontSize': 20, 'source': 'ocr', 'height': 31.0}, {'c': 'Left obturator mph node, resection:\\n“Three benign lymph nodes and flrcadipose tssue, negative for tunar (0/3)\\n\\n', 'x': 64.0, 'width': 326.0, 'y': 563.0, 'fontSize': 20, 'source': 'ocr', 'height': 22.0}, {'c': 'G. Let common tac mph, resection:\\nOne benign lym nodes and Rorozdpose tissue, negate for tumor (0/1)\\n\\n', 'x': 63.0, 'width': 319.0, 'y': 595.0, 'fontSize': 20, 'source': 'ocr', 'height': 22.0}, {'c': ' \\n', 'x': 391.0, 'width': 189.0, 'y': 702.0, 'fontSize': 39, 'source': 'ocr', 'height': 92.0}]),\n",
       "  'content': source file base64_in_memory:JVBERi0xLjUKJbXtrvsK, 426742 bytes.},\n",
       " {'image': ImageOutput(path: base64_in_memory:JVBERi0xLjUKJbXtrvsK, exception: ),\n",
       "  'exception': [Light Pipeline Exception(message: [ocr_pipeline_exception::]),\n",
       "   Light Pipeline Exception(message: [ocr_pipeline_exception::])],\n",
       "  'text': Annotation(image_to_text, 0, 539,  \n",
       "  \n",
       "   \n",
       "  \n",
       "  Surgical resecton margins are negative for tumor\n",
       "  “Incidental prostatic adenocarcinoma, Gleason grade 2+3=6, organ confined (p72a)\n",
       "  and negatve surgical margins\n",
       "  \n",
       "  -See CAP cancer template fr futher detais\n",
       "  \n",
       "  Specimen\n",
       "  Bladder and prostate\n",
       "  \n",
       "  Histologic Grade\n",
       "  High grade\n",
       "  \n",
       "  Margins\n",
       "  Margins uninvolved by invasive carcinoma\n",
       "  \n",
       "  ‘Addiional Pathologic Findings\n",
       "  Evidence of previous biopsy\n",
       "  Incidental adenocarcinoma of prostate (see CAP template below)\n",
       "  \n",
       "  Anciary Studies:\n",
       "  ‘lock J18 has been sent for ancilary studies, see separate report,\n",
       "  \n",
       "  Page 2 of 8\n",
       "  , Map(confidence -> 61.146457290649415, exception -> , sourcePath -> base64_in_memory:JVBERi0xLjUKJbXtrvsK), []),\n",
       "  'b64string': source base64 file buffer, of len: 20. First 20 chars: JVBERi0xLjUKJbXtrvsK,\n",
       "  'pagenum': 1,\n",
       "  'positions': PositionsOutput(mappings: [{'c': ' \\n\\n', 'x': 7.0, 'width': 578.0, 'y': 55.0, 'fontSize': 7, 'source': 'ocr', 'height': 13.0}, {'c': ' \\n\\n', 'x': 74.0, 'width': 57.0, 'y': 57.0, 'fontSize': 20, 'source': 'ocr', 'height': 10.0}, {'c': 'Surgical resecton margins are negative for tumor\\n“Incidental prostatic adenocarcinoma, Gleason grade 2+3=6, organ confined (p72a)\\nand negatve surgical margins\\n\\n-See CAP cancer template fr futher detais\\n\\n', 'x': 70.0, 'width': 356.0, 'y': 87.0, 'fontSize': 20, 'source': 'ocr', 'height': 43.0}, {'c': 'Specimen\\nBladder and prostate\\n\\n', 'x': 70.0, 'width': 89.0, 'y': 142.0, 'fontSize': 20, 'source': 'ocr', 'height': 20.0}, {'c': 'Histologic Grade\\nHigh grade\\n\\n', 'x': 68.0, 'width': 71.0, 'y': 369.0, 'fontSize': 20, 'source': 'ocr', 'height': 20.0}, {'c': 'Margins\\nMargins uninvolved by invasive carcinoma\\n\\n', 'x': 67.0, 'width': 180.0, 'y': 465.0, 'fontSize': 20, 'source': 'ocr', 'height': 20.0}, {'c': '‘Addiional Pathologic Findings\\nEvidence of previous biopsy\\nIncidental adenocarcinoma of prostate (see CAP template below)\\n\\n', 'x': 65.0, 'width': 278.0, 'y': 669.0, 'fontSize': 20, 'source': 'ocr', 'height': 33.0}, {'c': 'Anciary Studies:\\n‘lock J18 has been sent for ancilary studies, see separate report,\\n\\n', 'x': 65.0, 'width': 279.0, 'y': 713.0, 'fontSize': 20, 'source': 'ocr', 'height': 22.0}, {'c': 'Page 2 of 8\\n', 'x': 478.0, 'width': 58.0, 'y': 779.0, 'fontSize': 20, 'source': 'ocr', 'height': 10.0}]),\n",
       "  'content': source file base64_in_memory:JVBERi0xLjUKJbXtrvsK, 426742 bytes.},\n",
       " {'image': ImageOutput(path: base64_in_memory:JVBERi0xLjUKJbXtrvsK, exception: ),\n",
       "  'exception': [Light Pipeline Exception(message: [ocr_pipeline_exception::]),\n",
       "   Light Pipeline Exception(message: [ocr_pipeline_exception::])],\n",
       "  'text': Annotation(image_to_text, 0, 342,  \n",
       "  \n",
       "  CCAP cancer template for prostate cancer:\n",
       "  Procedure\n",
       "  Racal cystoprostatectomy\n",
       "  \n",
       "  Lymph Node Sampling\n",
       "  Poi mph nade alssecton (see specimens C through })\n",
       "  \n",
       "  Seminal Vesicle Invasion\n",
       "  Not identined\n",
       "  \n",
       "  Margins\n",
       "  Margins uninvolved by invasive carcinoma\n",
       "  ‘Treatment Effect on Carcinoma:\n",
       "  Notidentieg\n",
       "  \n",
       "  Distant Metastasis (pM)\n",
       "  Not applicable\n",
       "  \n",
       "   \n",
       "  \n",
       "  Page 3 of 8\n",
       "  , Map(confidence -> 56.52958297729492, exception -> , sourcePath -> base64_in_memory:JVBERi0xLjUKJbXtrvsK), []),\n",
       "  'b64string': source base64 file buffer, of len: 20. First 20 chars: JVBERi0xLjUKJbXtrvsK,\n",
       "  'pagenum': 2,\n",
       "  'positions': PositionsOutput(mappings: [{'c': ' \\n\\n', 'x': 7.0, 'width': 578.0, 'y': 55.0, 'fontSize': 6, 'source': 'ocr', 'height': 11.0}, {'c': 'CCAP cancer template for prostate cancer:\\nProcedure\\nRacal cystoprostatectomy\\n\\n', 'x': 70.0, 'width': 176.0, 'y': 87.0, 'fontSize': 20, 'source': 'ocr', 'height': 32.0}, {'c': 'Lymph Node Sampling\\nPoi mph nade alssecton (see specimens C through })\\n\\n', 'x': 69.0, 'width': 248.0, 'y': 175.0, 'fontSize': 20, 'source': 'ocr', 'height': 21.0}, {'c': 'Seminal Vesicle Invasion\\nNot identined\\n\\n', 'x': 68.0, 'width': 107.0, 'y': 380.0, 'fontSize': 20, 'source': 'ocr', 'height': 18.0}, {'c': 'Margins\\nMargins uninvolved by invasive carcinoma\\n‘Treatment Effect on Carcinoma:\\nNotidentieg\\n\\n', 'x': 67.0, 'width': 181.0, 'y': 412.0, 'fontSize': 20, 'source': 'ocr', 'height': 40.0}, {'c': 'Distant Metastasis (pM)\\nNot applicable\\n\\n', 'x': 66.0, 'width': 101.0, 'y': 627.0, 'fontSize': 20, 'source': 'ocr', 'height': 20.0}, {'c': ' \\n\\n', 'x': 314.0, 'width': 65.0, 'y': 56.0, 'fontSize': 20, 'source': 'ocr', 'height': 10.0}, {'c': 'Page 3 of 8\\n', 'x': 479.0, 'width': 58.0, 'y': 779.0, 'fontSize': 20, 'source': 'ocr', 'height': 10.0}]),\n",
       "  'content': source file base64_in_memory:JVBERi0xLjUKJbXtrvsK, 426742 bytes.},\n",
       " {'image': ImageOutput(path: base64_in_memory:JVBERi0xLjUKJbXtrvsK, exception: ),\n",
       "  'exception': [Light Pipeline Exception(message: [ocr_pipeline_exception::]),\n",
       "   Light Pipeline Exception(message: [ocr_pipeline_exception::])],\n",
       "  'text': Annotation(image_to_text, 0, 430,  \n",
       "  \n",
       "   \n",
       "  \n",
       "  ‘The above pathology diagnosis incorporates data elements as cutined inthe CAP\n",
       "  ‘Cancer Protocols and Checkisis which are basad on the AJGC/UICC TNM, Tth\n",
       "  eation\n",
       "  \n",
       "  Clinical History\n",
       "  \n",
       "  ‘Specimen A, received fresh labeled wih he paions name and designated \"ight\n",
       "  ureter, sik suture dita ends tubular segment of tasue 1 2 em in length\n",
       "  ‘and 0.5 em in diameter. The proximal margin i submited frozen sacton\n",
       "  ‘agnosis as At\n",
       "  \n",
       "  Page 4 of 8\n",
       "  , Map(confidence -> 65.35867544320914, exception -> , sourcePath -> base64_in_memory:JVBERi0xLjUKJbXtrvsK), []),\n",
       "  'b64string': source base64 file buffer, of len: 20. First 20 chars: JVBERi0xLjUKJbXtrvsK,\n",
       "  'pagenum': 3,\n",
       "  'positions': PositionsOutput(mappings: [{'c': ' \\n\\n', 'x': 7.0, 'width': 578.0, 'y': 54.0, 'fontSize': 7, 'source': 'ocr', 'height': 13.0}, {'c': ' \\n\\n', 'x': 84.0, 'width': 40.0, 'y': 56.0, 'fontSize': 20, 'source': 'ocr', 'height': 10.0}, {'c': '‘The above pathology diagnosis incorporates data elements as cutined inthe CAP\\n‘Cancer Protocols and Checkisis which are basad on the AJGC/UICC TNM, Tth\\neation\\n\\n', 'x': 69.0, 'width': 351.0, 'y': 152.0, 'fontSize': 20, 'source': 'ocr', 'height': 29.0}, {'c': 'Clinical History\\n\\n', 'x': 69.0, 'width': 64.0, 'y': 260.0, 'fontSize': 20, 'source': 'ocr', 'height': 10.0}, {'c': '‘Specimen A, received fresh labeled wih he paions name and designated \"ight\\nureter, sik suture dita ends tubular segment of tasue 1 2 em in length\\n‘and 0.5 em in diameter. The proximal margin i submited frozen sacton\\n‘agnosis as At\\n\\n', 'x': 66.0, 'width': 346.0, 'y': 497.0, 'fontSize': 20, 'source': 'ocr', 'height': 42.0}, {'c': 'Page 4 of 8\\n', 'x': 477.0, 'width': 58.0, 'y': 780.0, 'fontSize': 20, 'source': 'ocr', 'height': 9.0}]),\n",
       "  'content': source file base64_in_memory:JVBERi0xLjUKJbXtrvsK, 426742 bytes.}]"
      ]
     },
     "execution_count": 22,
     "metadata": {},
     "output_type": "execute_result"
    }
   ],
   "source": [
    "r = lp.fromString(base64_pdf)\n",
    "r"
   ]
  },
  {
   "cell_type": "code",
   "execution_count": 25,
   "metadata": {},
   "outputs": [
    {
     "data": {
      "text/plain": [
       "(Annotation(image_to_text, 0, 539,  \n",
       " \n",
       "  \n",
       " \n",
       " Surgical resecton margins are negative for tumor\n",
       " “Incidental prostatic adenocarcinoma, Gleason grade 2+3=6, organ confined (p72a)\n",
       " and negatve surgical margins\n",
       " \n",
       " -See CAP cancer template fr futher detais\n",
       " \n",
       " Specimen\n",
       " Bladder and prostate\n",
       " \n",
       " Histologic Grade\n",
       " High grade\n",
       " \n",
       " Margins\n",
       " Margins uninvolved by invasive carcinoma\n",
       " \n",
       " ‘Addiional Pathologic Findings\n",
       " Evidence of previous biopsy\n",
       " Incidental adenocarcinoma of prostate (see CAP template below)\n",
       " \n",
       " Anciary Studies:\n",
       " ‘lock J18 has been sent for ancilary studies, see separate report,\n",
       " \n",
       " Page 2 of 8\n",
       " , Map(confidence -> 61.146457290649415, exception -> , sourcePath -> base64_in_memory:JVBERi0xLjUKJbXtrvsK), []),\n",
       " PositionsOutput(mappings: [{'c': ' \\n\\n', 'x': 7.0, 'width': 578.0, 'y': 55.0, 'fontSize': 7, 'source': 'ocr', 'height': 13.0}, {'c': ' \\n\\n', 'x': 74.0, 'width': 57.0, 'y': 57.0, 'fontSize': 20, 'source': 'ocr', 'height': 10.0}, {'c': 'Surgical resecton margins are negative for tumor\\n“Incidental prostatic adenocarcinoma, Gleason grade 2+3=6, organ confined (p72a)\\nand negatve surgical margins\\n\\n-See CAP cancer template fr futher detais\\n\\n', 'x': 70.0, 'width': 356.0, 'y': 87.0, 'fontSize': 20, 'source': 'ocr', 'height': 43.0}, {'c': 'Specimen\\nBladder and prostate\\n\\n', 'x': 70.0, 'width': 89.0, 'y': 142.0, 'fontSize': 20, 'source': 'ocr', 'height': 20.0}, {'c': 'Histologic Grade\\nHigh grade\\n\\n', 'x': 68.0, 'width': 71.0, 'y': 369.0, 'fontSize': 20, 'source': 'ocr', 'height': 20.0}, {'c': 'Margins\\nMargins uninvolved by invasive carcinoma\\n\\n', 'x': 67.0, 'width': 180.0, 'y': 465.0, 'fontSize': 20, 'source': 'ocr', 'height': 20.0}, {'c': '‘Addiional Pathologic Findings\\nEvidence of previous biopsy\\nIncidental adenocarcinoma of prostate (see CAP template below)\\n\\n', 'x': 65.0, 'width': 278.0, 'y': 669.0, 'fontSize': 20, 'source': 'ocr', 'height': 33.0}, {'c': 'Anciary Studies:\\n‘lock J18 has been sent for ancilary studies, see separate report,\\n\\n', 'x': 65.0, 'width': 279.0, 'y': 713.0, 'fontSize': 20, 'source': 'ocr', 'height': 22.0}, {'c': 'Page 2 of 8\\n', 'x': 478.0, 'width': 58.0, 'y': 779.0, 'fontSize': 20, 'source': 'ocr', 'height': 10.0}]))"
      ]
     },
     "execution_count": 25,
     "metadata": {},
     "output_type": "execute_result"
    }
   ],
   "source": [
    "(r[1]['text'], r[1]['positions'])"
   ]
  },
  {
   "cell_type": "markdown",
   "source": [
    "## Examle of call Light Pipeline with fromBinary method"
   ],
   "metadata": {
    "collapsed": false
   }
  },
  {
   "cell_type": "markdown",
   "source": [
    "### Define pipeline"
   ],
   "metadata": {
    "collapsed": false
   }
  },
  {
   "cell_type": "code",
   "execution_count": 5,
   "outputs": [],
   "source": [
    "binary_to_image = BinaryToImage()\n",
    "binary_to_image.setOutputCol(\"image\")\n",
    "\n",
    "# Run OCR for each region\n",
    "ocr = ImageToText()\n",
    "ocr.setInputCol(\"image\")\n",
    "ocr.setOutputCol(\"text\")\n",
    "ocr.setConfidenceThreshold(60)\n",
    "\n",
    "# OCR pipeline\n",
    "pipeline = PipelineModel(stages=[\n",
    "    binary_to_image,\n",
    "    ocr\n",
    "])\n"
   ],
   "metadata": {
    "collapsed": false,
    "ExecuteTime": {
     "end_time": "2024-04-09T13:24:40.078115006Z",
     "start_time": "2024-04-09T13:24:39.997388109Z"
    }
   }
  },
  {
   "cell_type": "markdown",
   "source": [
    "### Call pipeline"
   ],
   "metadata": {
    "collapsed": false
   }
  },
  {
   "cell_type": "code",
   "execution_count": 10,
   "outputs": [
    {
     "name": "stderr",
     "output_type": "stream",
     "text": [
      "Detected 82 diacritics\n"
     ]
    },
    {
     "name": "stdout",
     "output_type": "stream",
     "text": [
      "[{'image': ImageOutput(path: memory, exception: None), 'text': Annotation(image_to_text, 0, 324, STARBUCKS Store #19208\n",
      "11902 Euclid Avenue\n",
      "Cleveland, OH (216) 229-U749\n",
      "\n",
      "CHK 664250\n",
      "12/07/2014 06:43 PM\n",
      "112003. Drawer: 2. Reg: 2\n",
      "\n",
      "¥t Pep Mocha 4.95\n",
      "\n",
      "Sbux Card 4.95\n",
      "\n",
      "AXKANRKAXERAK, 3228\n",
      "\n",
      "Subtotal $4.95\n",
      "\n",
      "Total $4.95\n",
      "Change Cue BOC\n",
      "\n",
      "- Check Closed ~\n",
      "“12/01/2014 06:43 py\n",
      "\n",
      "oBUX Card «3228 New Balance: 37.45\n",
      "Card is registertd\n",
      ", Map(confidence -> 73.70487899780274, exception -> , sourcePath -> memory), []), 'positions': PositionsOutput(mappings: [{'c': 'STARBUCKS Store #19208\\n11902 Euclid Avenue\\nCleveland, OH (216) 229-U749\\n\\n', 'x': 103.0, 'width': 371.0, 'y': 32.0, 'fontSize': 11, 'source': 'ocr', 'height': 92.0}, {'c': 'CHK 664250\\n12/07/2014 06:43 PM\\n112003. Drawer: 2. Reg: 2\\n\\n', 'x': 108.0, 'width': 352.0, 'y': 164.0, 'fontSize': 10, 'source': 'ocr', 'height': 92.0}, {'c': '¥t Pep Mocha 4.95\\n\\nSbux Card 4.95\\n\\nAXKANRKAXERAK, 3228\\n\\nSubtotal $4.95\\n\\nTotal $4.95\\nChange Cue BOC\\n\\n', 'x': 23.0, 'width': 490.0, 'y': 295.0, 'fontSize': 10, 'source': 'ocr', 'height': 223.0}, {'c': '- Check Closed ~\\n“12/01/2014 06:43 py\\n\\n', 'x': 130.0, 'width': 298.0, 'y': 558.0, 'fontSize': 11, 'source': 'ocr', 'height': 59.0}, {'c': 'oBUX Card «3228 New Balance: 37.45\\nCard is registertd\\n', 'x': 22.0, 'width': 464.0, 'y': 657.0, 'fontSize': 10, 'source': 'ocr', 'height': 58.0}]), 'exception': Light Pipeline Exception(message: [ocr_pipeline_exception::])}]\n"
     ]
    }
   ],
   "source": [
    "with open(img_path, 'rb') as f:\n",
    "    image = f.read()\n",
    "    \n",
    "lp = LightPipeline(pipeline)\n",
    "result = lp.fromBinary(image)\n",
    "print(result)"
   ],
   "metadata": {
    "collapsed": false,
    "ExecuteTime": {
     "end_time": "2024-04-09T13:26:23.467700153Z",
     "start_time": "2024-04-09T13:26:22.879652512Z"
    }
   }
  }
 ],
 "metadata": {
  "kernelspec": {
   "display_name": "Python 3 (ipykernel)",
   "language": "python",
   "name": "python3"
  },
  "language_info": {
   "codemirror_mode": {
    "name": "ipython",
    "version": 3
   },
   "file_extension": ".py",
   "mimetype": "text/x-python",
   "name": "python",
   "nbconvert_exporter": "python",
   "pygments_lexer": "ipython3",
   "version": "3.8.10"
  }
 },
 "nbformat": 4,
 "nbformat_minor": 4
}
