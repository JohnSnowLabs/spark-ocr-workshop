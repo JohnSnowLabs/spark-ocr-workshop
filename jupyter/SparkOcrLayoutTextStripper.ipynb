{
 "cells": [
  {
   "cell_type": "markdown",
   "metadata": {},
   "source": [
    "# Example of usage Spark OCR layout text stripper"
   ]
  },
  {
   "cell_type": "markdown",
   "metadata": {},
   "source": [
    "## Install spark-ocr python packge\n",
    "Need specify license and path to `spark-ocr-assembly-[version].jar` or `secret`"
   ]
  },
  {
   "cell_type": "code",
   "execution_count": 1,
   "metadata": {},
   "outputs": [],
   "source": [
    "secret = \"\"\n",
    "license = \"\"\n",
    "AWS_ACCESS_KEY_ID = \"\"\n",
    "AWS_SECRET_ACCESS_KEY = \"\"\n",
    "\n",
    "version = secret.split(\"-\")[0]\n",
    "spark_ocr_jar_path = \"../../target/scala-2.12/\"\n",
    "imagePath = \"./data/tab_images/*.jpg\""
   ]
  },
  {
   "cell_type": "code",
   "execution_count": 2,
   "metadata": {},
   "outputs": [],
   "source": [
    "%%bash\n",
    "if python -c 'import google.colab' &> /dev/null; then\n",
    "    echo \"Run on Google Colab!\"\n",
    "    echo \"Install Open JDK\"\n",
    "    apt-get install -y openjdk-8-jdk-headless -qq > /dev/null\n",
    "    java -version\n",
    "fi"
   ]
  },
  {
   "cell_type": "code",
   "execution_count": 3,
   "metadata": {},
   "outputs": [],
   "source": [
    "import sys\n",
    "import os\n",
    "\n",
    "if 'google.colab' in sys.modules:\n",
    "  os.environ[\"JAVA_HOME\"] = \"/usr/lib/jvm/java-8-openjdk-amd64\"\n",
    "  os.environ[\"PATH\"] = os.environ[\"JAVA_HOME\"] + \"/bin:\" + os.environ[\"PATH\"]"
   ]
  },
  {
   "cell_type": "code",
   "execution_count": 4,
   "metadata": {},
   "outputs": [],
   "source": [
    "# install from PYPI using secret\n",
    "#%pip install spark-ocr==$version+spark30 --extra-index-url=https://pypi.johnsnowlabs.com/$secret --upgrade"
   ]
  },
  {
   "cell_type": "code",
   "execution_count": 5,
   "metadata": {},
   "outputs": [],
   "source": [
    "import os\n",
    "\n",
    "if AWS_ACCESS_KEY_ID != \"\":\n",
    "    os.environ[\"AWS_ACCESS_KEY_ID\"] = AWS_ACCESS_KEY_ID\n",
    "    os.environ[\"AWS_SECRET_ACCESS_KEY\"] = AWS_SECRET_ACCESS_KEY\n",
    "    \n",
    "if license:\n",
    "    os.environ['JSL_OCR_LICENSE'] = license\n",
    "    \n",
    "if 'google.colab' in sys.modules:\n",
    "  os.environ[\"JAVA_HOME\"] = \"/usr/lib/jvm/java-8-openjdk-amd64\"\n",
    "  os.environ[\"PATH\"] = os.environ[\"JAVA_HOME\"] + \"/bin:\" + os.environ[\"PATH\"]"
   ]
  },
  {
   "cell_type": "markdown",
   "metadata": {},
   "source": [
    "## Initialization of spark session"
   ]
  },
  {
   "cell_type": "code",
   "execution_count": 6,
   "metadata": {},
   "outputs": [
    {
     "name": "stdout",
     "output_type": "stream",
     "text": [
      "Spark version: 3.0.2\n",
      "Spark NLP version: 3.3.2\n",
      "Spark OCR version: 3.9.0\n",
      "\n"
     ]
    },
    {
     "data": {
      "text/html": [
       "\n",
       "            <div>\n",
       "                <p><b>SparkSession - in-memory</b></p>\n",
       "                \n",
       "        <div>\n",
       "            <p><b>SparkContext</b></p>\n",
       "\n",
       "            <p><a href=\"http://192.168.31.94:4040\">Spark UI</a></p>\n",
       "\n",
       "            <dl>\n",
       "              <dt>Version</dt>\n",
       "                <dd><code>v3.0.2</code></dd>\n",
       "              <dt>Master</dt>\n",
       "                <dd><code>local[*]</code></dd>\n",
       "              <dt>AppName</dt>\n",
       "                <dd><code>Spark OCR</code></dd>\n",
       "            </dl>\n",
       "        </div>\n",
       "        \n",
       "            </div>\n",
       "        "
      ],
      "text/plain": [
       "<pyspark.sql.session.SparkSession at 0x7f1c2b8ac1c0>"
      ]
     },
     "execution_count": 6,
     "metadata": {},
     "output_type": "execute_result"
    }
   ],
   "source": [
    "from pyspark import SparkConf\n",
    "from sparkocr import start\n",
    "\n",
    "if license:\n",
    "    os.environ['SPARK_OCR_LICENSE'] = license\n",
    "\n",
    "spark = start(jar_path = spark_ocr_jar_path, nlp_version=\"3.2.3\")\n",
    "\n",
    "spark"
   ]
  },
  {
   "cell_type": "markdown",
   "metadata": {},
   "source": [
    "## Import OCR transformers"
   ]
  },
  {
   "cell_type": "code",
   "execution_count": 7,
   "metadata": {},
   "outputs": [],
   "source": [
    "from sparkocr.transformers import *\n",
    "from sparkocr.enums import *\n",
    "from pyspark.ml import PipelineModel\n",
    "from sparkocr.utils import *"
   ]
  },
  {
   "cell_type": "markdown",
   "metadata": {},
   "source": [
    "## Sample of keeping layout during OCR on pdf"
   ]
  },
  {
   "cell_type": "code",
   "execution_count": 8,
   "metadata": {},
   "outputs": [
    {
     "data": {
      "text/html": [
       "<style type='text/css'>\n",
       ".CodeMirror{\n",
       "font-size: 15px;\n",
       "}\n",
       "\n",
       "div.output_area pre {\n",
       "    font-size: 9px;\n",
       "\n",
       "</style>\n"
      ],
      "text/plain": [
       "<IPython.core.display.HTML object>"
      ]
     },
     "metadata": {},
     "output_type": "display_data"
    }
   ],
   "source": [
    "%%html\n",
    "<style type='text/css'>\n",
    ".CodeMirror{\n",
    "font-size: 15px;\n",
    "}\n",
    "\n",
    "div.output_area pre {\n",
    "    font-size: 9px;\n",
    "\n",
    "</style>"
   ]
  },
  {
   "cell_type": "code",
   "execution_count": 9,
   "metadata": {},
   "outputs": [
    {
     "name": "stdout",
     "output_type": "stream",
     "text": [
      "                                                                                                                                                    \n",
      "              PDF      Form       Example                                                                                                           \n",
      "                                                                                                                                                    \n",
      "                                                                                                                                                    \n",
      "                                                                                                                                                    \n",
      "              This is an example of a user fillable       PDF form.    Normally PDF is used as a        final publishing format.                    \n",
      "              However PDF has an option to be used as an entry form that can                  be edited and saved      by the user.                 \n",
      "                                                                                                                                                    \n",
      "                                                                                                                                                    \n",
      "                                                                                                                                                    \n",
      "              The fields of this form have been selected to demonstrate as many as possible of the common                                           \n",
      "              entry fields.                                                                                                                         \n",
      "                                                                                                                                                    \n",
      "                                                                                                                                                    \n",
      "                                                                                                                                                    \n",
      "              This document and       PDF form     have been created with       OpenOffice (version 3.4.0).                                         \n",
      "                                                                                                                                                    \n",
      "                                                                                                                                                    \n",
      "                                                                                                                                                    \n",
      "              To fill out the form,  make sure the PDF file is not read-only.         If the file is read-only save it first to a                   \n",
      "              folder or computer desktop.       Close this file and open the saved file.                                                            \n",
      "                                                                                                                                                    \n",
      "                                                                                                                                                    \n",
      "                                                                                                                                                    \n",
      "              Please fill out the following fields.    Important fields are marked yellow.                                                          \n",
      "                                                                                                                                                    \n",
      "                                                                                                                                                    \n",
      "                                                                                                                                                    \n",
      "                                                                                                                                                    \n",
      "              Family Name                                                                                                                           \n",
      "                                                                                                                                                    \n",
      "              Address    1:                                                      House nr:   |                                                      \n",
      "                                                                                                                                                    \n",
      "                                                                                                                                                    \n",
      "              Address 2:                                                                                                                            \n",
      "                                                                                                                                                    \n",
      "              Postcode:                                            City:                                                                            \n",
      "                                                                                                                                                    \n",
      "                                                                                                                                                    \n",
      "                                                                                                                                                    \n",
      "                                                                                                                                                    \n",
      "              Heat ems                                                                                                                              \n",
      "                                                                                                                                                    \n",
      "              Driving  License:         C]                                                                                                          \n",
      "                                                                                                                                                    \n",
      "                                                                                                                                                    \n",
      "                                                                                                                                                    \n",
      "              |  speak and   understand (tick all that apply):                                                                                      \n",
      "              [_] Deutsch                 English                  Francais          [_] Esperanto           [_]  Latin                             \n",
      "                                                                                                                                                    \n",
      "                                                                                                                                                    \n",
      "                                                                                                                                                    \n",
      "                                                                                                                                                    \n",
      "                                                                                                                                                    \n",
      "                                                                                                                                                    \n",
      "                                                                                                                                                    \n",
      "                                                                                                                                                    \n",
      "                                                                                                                                                    \n",
      "                                                                                                                                                    \n",
      "                                                                                                                                                    \n",
      "                                                                                                                                                    \n",
      "                                                                                                                                                    \n",
      "                                                                                                                                                    \n",
      "                                                                                                                                                    \n",
      "              Important:    Save the completed       PDF form (use menu         File - Save).                                                       \n",
      "\n"
     ]
    }
   ],
   "source": [
    "def pipeline():\n",
    "    # Transforrm PDF document to images per page\n",
    "    # Convert to images\n",
    "    pdf_to_image = PdfToImage() \\\n",
    "        .setInputCol(\"content\") \\\n",
    "        .setOutputCol(\"image\")\n",
    "    \n",
    "    skew =  ImageSkewCorrector() \\\n",
    "        .setInputCol(\"image\") \\\n",
    "        .setOutputCol(\"corrected_image\") \\\n",
    "        .setAutomaticSkewCorrection(True)\n",
    "    \n",
    "    # Run OCR and render results to PDF\n",
    "    ocr = ImageToTextPdf() \\\n",
    "        .setInputCol(\"corrected_image\") \\\n",
    "        .setOutputCol(\"pdf_page\")\n",
    "    \n",
    "    pdf = PdfToText() \\\n",
    "        .setInputCol(\"pdf_page\") \\\n",
    "        .setTextStripper(\"PDFLayoutTextStripper\") \\\n",
    "        .setPageNumCol(\"page1\") \\\n",
    "        .setOutputCol(\"text\")\n",
    "\n",
    "\n",
    "    pipeline = PipelineModel(stages=[\n",
    "        pdf_to_image,\n",
    "        skew,\n",
    "        ocr,\n",
    "        pdf\n",
    "    ])\n",
    "    \n",
    "    return pipeline\n",
    "\n",
    "pdf_example_df = spark.read.format(\"binaryFile\").load(\"data/keeplayout/formLayoutText.pdf\").cache()\n",
    "result = pipeline().transform(pdf_example_df).cache()\n",
    "print(result.select(\"text\").collect()[0].text)"
   ]
  },
  {
   "cell_type": "markdown",
   "metadata": {},
   "source": [
    "## Sample of missing layout during OCR on image"
   ]
  },
  {
   "cell_type": "code",
   "execution_count": 10,
   "metadata": {},
   "outputs": [
    {
     "name": "stdout",
     "output_type": "stream",
     "text": [
      "Foersom\n",
      "\n",
      "PDF Form Example\n",
      "\n",
      "This is an example of a user fillable PDF form. Normally PDF is used as a final publishing format.\n",
      "However PDF has an option to be used as an entry form that can be edited and saved by the user.\n",
      "\n",
      "The fields of this form have been selected to demonstrate as many as possible of the common\n",
      "entry fields.\n",
      "\n",
      "This document and PDF form have been created with OpenOffice (version 3.4.0).\n",
      "\n",
      "To fill out the form, make sure the PDF file is not read-only. If the file is read-only save it first to a\n",
      "folder or computer desktop. Close this file and open the saved file.\n",
      "\n",
      "Please fill out the following fields. Important fields are marked yellow.\n",
      "\n",
      " \n",
      "\n",
      " \n",
      "\n",
      " \n",
      "\n",
      " \n",
      "\n",
      " \n",
      "\n",
      " \n",
      "\n",
      " \n",
      "\n",
      " \n",
      "\n",
      " \n",
      "\n",
      " \n",
      "\n",
      " \n",
      "\n",
      " \n",
      "\n",
      " \n",
      "\n",
      " \n",
      "\n",
      " \n",
      "\n",
      " \n",
      "\n",
      " \n",
      "\n",
      " \n",
      "\n",
      " \n",
      "\n",
      " \n",
      "\n",
      " \n",
      "\n",
      " \n",
      "\n",
      " \n",
      "\n",
      " \n",
      "\n",
      " \n",
      "\n",
      "Given Name: Jonathan\n",
      "\n",
      "Family Name: Link\n",
      "\n",
      "Address 1: House nr:\n",
      "Address 2:\n",
      "\n",
      "Postcode: City:\n",
      "\n",
      "Country: Germany\n",
      "\n",
      "Gender: Man\n",
      "\n",
      "Height (cm): 150\n",
      "\n",
      "Driving License: []\n",
      "\n",
      "| speak and understand (tick all that apply):\n",
      "\n",
      "[_] Deutsch [¥] English Francais [_] Esperanto [_] Latin\n",
      "Favourite colour: Red\n",
      "\n",
      " \n",
      "\n",
      " \n",
      "\n",
      " \n",
      "\n",
      "Important: Save the completed PDF form (use menu File - Save).\n",
      "\n"
     ]
    }
   ],
   "source": [
    "def pipeline_nolayout():\n",
    "    bin_to_image = BinaryToImage() \\\n",
    "        .setInputCol(\"content\") \\\n",
    "        .setOutputCol(\"image\")\n",
    "    \n",
    "    skew =  ImageSkewCorrector() \\\n",
    "        .setInputCol(\"image\") \\\n",
    "        .setOutputCol(\"corrected_image\") \\\n",
    "        .setAutomaticSkewCorrection(True)\n",
    "    \n",
    "    ocr = ImageToText() \\\n",
    "        .setInputCol(\"corrected_image\") \\\n",
    "        .setOutputCol(\"text\")\n",
    "    \n",
    "    pipeline = PipelineModel(stages=[\n",
    "        bin_to_image,\n",
    "        skew,\n",
    "        ocr\n",
    "    ])\n",
    "    \n",
    "    return pipeline\n",
    "\n",
    "bin_example_df = spark.read.format(\"binaryFile\").load(\"data/keeplayout/formLayoutText.jpg\").cache()\n",
    "result_bin = pipeline_nolayout().transform(bin_example_df).cache()\n",
    "print(result_bin.select(\"text\").collect()[0].text)"
   ]
  },
  {
   "cell_type": "markdown",
   "metadata": {},
   "source": [
    "## Sample of keeping layout during OCR on image"
   ]
  },
  {
   "cell_type": "code",
   "execution_count": 13,
   "metadata": {},
   "outputs": [
    {
     "name": "stdout",
     "output_type": "stream",
     "text": [
      "                  Foersom                                                                                                                                                                                                                                                                                                                                                                                                                                                                                                                                                                                                                   \n",
      "               PDF      Form        Example                                                                                                                                                                                                                                                                                                                                                                                                                                                                                                                                                                                                 \n",
      "              This   is an  example    of a  user  fillable PDF   form.   Normally    PDF    is used  as a  final  publishing   format.                                                                                                                                                                                                                                                                                                                                                                                                                                                                                                     \n",
      "               However     PDF   has  an  option   to be  used   as  an  entry  form   that can   be  edited  and   saved   by  the  user.                                                                                                                                                                                                                                                                                                                                                                                                                                                                                                  \n",
      "              The   fields  of this form   have   been   selected   to demonstrate      as  many    as  possible   of the  common                                                                                                                                                                                                                                                                                                                                                                                                                                                                                                           \n",
      "              entry  fields.                                                                                                                                                                                                                                                                                                                                                                                                                                                                                                                                                                                                                \n",
      "              This   document     and   PDF   form   have   been   created   with  OpenOffice     (version   3.4.0).                                                                                                                                                                                                                                                                                                                                                                                                                                                                                                                        \n",
      "              To  fill out the form,   make   sure   the  PDF   file is not               If the file is             save   it first to a                                                                                                                                                                                                                                                                                                                                                                                                                                                                                                   \n",
      "                                                                            read-only.                  read-only                                                                                                                                                                                                                                                                                                                                                                                                                                                                                                                           \n",
      "              folder  or  computer     desktop.   Close   this file and   open   the saved    file.                                                                                                                                                                                                                                                                                                                                                                                                                                                                                                                                         \n",
      "               Please   fill out the following   fields. Important    fields  are  marked    yellow.                                                                                                                                                                                                                                                                                                                                                                                                                                                                                                                                        \n",
      "                                                                                                                                                                                                                                                                                                                                                                                                                                                                                                                                                                                                                                            \n",
      "              Given    Name:                                                                                                                                                                                                                                                                                                                                                                                                                                                                                                                                                                                                                \n",
      "                                           Jonathan                                                                                                                                                                                                                                                                                                                                                                                                                                                                                                                                                                                         \n",
      "                                                                                                                                                                                                                                                                                                                                                                                                                                                                                                                                                                                                                                            \n",
      "               Family   Name:              Link                                                                                                                                                                                                                                                                                                                                                                                                                                                                                                                                                                                             \n",
      "                                                                                                                                                                                                                                                                                                                                                                                                                                                                                                                                                                                                                                            \n",
      "                                                                                                                                                                                                                                                                                                                                                                                                                                                                                                                                                                                                                                            \n",
      "              Address     1:                                                        House    nr:                                                                                                                                                                                                                                                                                                                                                                                                                                                                                                                                            \n",
      "                                                                                                                                                                                                                                                                                                                                                                                                                                                                                                                                                                                                                                            \n",
      "                                                                                    Address2:                                                                                                                                                                                                                                                                                                                                                                                                                                                                                                                                               \n",
      "                                                                                                                          Postcode:City:                                                                                                                                                                                                                                                                                                                                                                                                                                                                                                    \n",
      "                                                                                                                                                                                                                                                                                                                                                                                                                                                                                                                                                                                                                                            \n",
      "              Country:                     Germany                                                                                                                                                                                                                                                                                                                                                                                                                                                                                                                                                                                          \n",
      "                                                                                                                                                                                                                                                                                                                                                                                                                                                                                                                                                                                                                                            \n",
      "                                                                                                                                                                                                                                                                                                                                                                                                                                                                                                                                                                                                                                            \n",
      "                                           Man                                                                                                                                                                                                                                                                                                                                                                                                                                                                                                                                                                                              \n",
      "                                                                Gender:                                                                                                                                                                                                                                                                                                                                                                                                                                                                                                                                                                     \n",
      "                                                                                                                                                                                                                                                                                                                                                                                                                                                                                                                                                                                                                                            \n",
      "                                                                Height(cm):150                                                                                                                                                                                                                                                                                                                                                                                                                                                                                                                                                              \n",
      "               Driving  License:                                                                                                                                                                                                                                                                                                                                                                                                                                                                                                                                                                                                            \n",
      "               | speak   and  understand     (tick all that apply):                                                                                                                                                                                                                                                                                                                                                                                                                                                                                                                                                                         \n",
      "              [_]  Deutsch              [¥] English                  Francais            [_] Esperanto            [_] Latin                                                                                                                                                                                                                                                                                                                                                                                                                                                                                                                 \n",
      "                                                                                                                                                                                                                                                                                                                                                                                                                                                                                                                                                                                                                                            \n",
      "               Favourite   colour:         Red                                                                                                                                                                                                                                                                                                                                                                                                                                                                                                                                                                                              \n",
      "                                                                                                                                                                                                                                                                                                                                                                                                                                                                                                                                                                                                                                            \n",
      "                                                                                        -                                                                                                                                                                                                                                                                                                                                                                                                                                                                                                                                                   \n",
      "               Important:    Save    the  completed     PDF   form   (use  menu    File   Save).                                                                                                                                                                                                                                                                                                                                                                                                                                                                                                                                            \n",
      "\n"
     ]
    }
   ],
   "source": [
    "def pipeline_keeplayout():\n",
    "    bin_to_image = BinaryToImage() \\\n",
    "        .setInputCol(\"content\") \\\n",
    "        .setOutputCol(\"image\")\n",
    "\n",
    "    ocr = ImageToText() \\\n",
    "        .setInputCol(\"image\") \\\n",
    "        .setOutputCol(\"text\") \\\n",
    "        .setOcrParams([\"preserve_interword_spaces=1\", ]) \\\n",
    "        .setKeepLayout(True)\n",
    "    \n",
    "    pipeline = PipelineModel(stages=[\n",
    "        bin_to_image,\n",
    "        ocr\n",
    "    ])\n",
    "    \n",
    "    return pipeline\n",
    "\n",
    "example2_df = spark.read.format(\"binaryFile\").load(\"data/keeplayout/formLayoutText.jpg\").cache()\n",
    "result2 = pipeline_keeplayout().transform(example2_df).cache()\n",
    "print(result2.select(\"text\").collect()[0].text)\n"
   ]
  },
  {
   "cell_type": "code",
   "execution_count": null,
   "metadata": {},
   "outputs": [],
   "source": []
  }
 ],
 "metadata": {
  "kernelspec": {
   "display_name": "Python 3",
   "language": "python",
   "name": "python3"
  },
  "language_info": {
   "codemirror_mode": {
    "name": "ipython",
    "version": 3
   },
   "file_extension": ".py",
   "mimetype": "text/x-python",
   "name": "python",
   "nbconvert_exporter": "python",
   "pygments_lexer": "ipython3",
   "version": "3.8.8"
  }
 },
 "nbformat": 4,
 "nbformat_minor": 2
}
