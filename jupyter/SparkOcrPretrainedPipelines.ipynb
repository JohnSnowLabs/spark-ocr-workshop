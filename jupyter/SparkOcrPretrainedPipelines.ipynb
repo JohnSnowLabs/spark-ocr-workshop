{
 "cells": [
  {
   "cell_type": "markdown",
   "metadata": {
    "id": "lS_nUbuJKS-S"
   },
   "source": [
    "# Example of Pretrained Pipelines\n",
    "Pretrained Pipelines can be considered predefined recipes in the form of Visual NLP pipelines, these recipes come with a set of stages and parameters that help to accomplish specific tasks."
   ]
  },
  {
   "cell_type": "markdown",
   "metadata": {
    "id": "TionG_3fKS-U"
   },
   "source": [
    "## Install spark-ocr python packge\n",
    "Need specify path to `spark-ocr-assembly-[version].jar` or `secret`"
   ]
  },
  {
   "cell_type": "code",
   "execution_count": 5,
   "metadata": {
    "id": "8wXCorTNKS-V"
   },
   "outputs": [],
   "source": [
    "secret = \"\"\n",
    "license = \"\"\n",
    "version = secret.split(\"-\")[0]\n",
    "spark_ocr_jar_path = \"../target/scala-2.12/\""
   ]
  },
  {
   "cell_type": "markdown",
   "metadata": {
    "id": "V0gOldUCKS-W"
   },
   "source": [
    "## Initialization of spark session"
   ]
  },
  {
   "cell_type": "code",
   "execution_count": 6,
   "metadata": {
    "colab": {
     "base_uri": "https://localhost:8080/",
     "height": 289
    },
    "id": "T5JcRWb2KS-X",
    "outputId": "250d0adb-427e-40cc-ebf3-f17025c9a445"
   },
   "outputs": [
    {
     "name": "stdout",
     "output_type": "stream",
     "text": [
      "Spark version: 3.1.2\n",
      "Spark NLP version: 5.1.1\n",
      "Spark OCR version: 5.1.0rc3\n",
      "\n"
     ]
    },
    {
     "data": {
      "text/html": [
       "\n",
       "            <div>\n",
       "                <p><b>SparkSession - in-memory</b></p>\n",
       "                \n",
       "        <div>\n",
       "            <p><b>SparkContext</b></p>\n",
       "\n",
       "            <p><a href=\"http://192.168.0.17:4040\">Spark UI</a></p>\n",
       "\n",
       "            <dl>\n",
       "              <dt>Version</dt>\n",
       "                <dd><code>v3.1.2</code></dd>\n",
       "              <dt>Master</dt>\n",
       "                <dd><code>local[*]</code></dd>\n",
       "              <dt>AppName</dt>\n",
       "                <dd><code>Spark OCR</code></dd>\n",
       "            </dl>\n",
       "        </div>\n",
       "        \n",
       "            </div>\n",
       "        "
      ],
      "text/plain": [
       "<pyspark.sql.session.SparkSession at 0x7f0efc358a30>"
      ]
     },
     "execution_count": 6,
     "metadata": {},
     "output_type": "execute_result"
    }
   ],
   "source": [
    "from pyspark.sql import SparkSession\n",
    "from sparkocr import start\n",
    "import sys\n",
    "import os\n",
    "\n",
    "if license:\n",
    "    os.environ['JSL_OCR_LICENSE'] = license\n",
    "\n",
    "spark = start(secret=secret, jar_path=spark_ocr_jar_path)\n",
    "spark"
   ]
  },
  {
   "cell_type": "markdown",
   "metadata": {
    "id": "t-XtrWSDKS-X"
   },
   "source": [
    "## Load Pretrained Pipelines"
   ]
  },
  {
   "cell_type": "markdown",
   "metadata": {},
   "source": [
    "### mixed_scanned_digital_pdf\n",
    "In this simple pipeline we can use the predefined pipeline to handle a mix of scanned(containing images) and digital PDFs(containing digital text). The output is going to be returned in a Dataframe column, and it will contain texts coming from both sources.</br>\n",
    "You could even have a single PDF file with a mix of digital and scanned pages.</br>\n",
    "Other Options:</br>\n",
    "* __mixed_scanned_digital_pdf_image_cleaner__: same as above but cleaning noise from images.</br>\n",
    "* __mixed_scanned_digital_pdf_skew_correction__: same as above but with page rotation correction."
   ]
  },
  {
   "cell_type": "code",
   "execution_count": 7,
   "metadata": {
    "id": "J1Css1dlKS-Y"
   },
   "outputs": [
    {
     "name": "stdout",
     "output_type": "stream",
     "text": [
      "mixed_scanned_digital_pdf download started this may take some time.\n",
      "Approx size to download 6.7 KB\n",
      "[OK!]\n"
     ]
    }
   ],
   "source": [
    "from pyspark.ml import PipelineModel\n",
    "from sparkocr.pretrained import *\n",
    "\n",
    "mixed_pdf_pipeline = PretrainedPipeline('mixed_scanned_digital_pdf', 'en', 'clinical/ocr')"
   ]
  },
  {
   "cell_type": "markdown",
   "metadata": {
    "id": "RRlw0XvRKS-Y"
   },
   "source": [
    "### Call the pipeline\n",
    "We are listing the 'mixed_pdfs' folder, that one contains two PDF files, one is scanned and the other is digital. You can open them yourself and verify."
   ]
  },
  {
   "cell_type": "code",
   "execution_count": 4,
   "metadata": {},
   "outputs": [
    {
     "name": "stdout",
     "output_type": "stream",
     "text": [
      "immortal_image.pdf  immortal_text.pdf\r\n"
     ]
    }
   ],
   "source": [
    "pdf_path = './mixed_pdfs'\n",
    "!ls mixed_pdfs"
   ]
  },
  {
   "cell_type": "markdown",
   "metadata": {},
   "source": [
    "We will display using the dataframe"
   ]
  },
  {
   "cell_type": "code",
   "execution_count": 5,
   "metadata": {
    "id": "pTwlFOQCKS-Y"
   },
   "outputs": [
    {
     "data": {
      "text/html": [
       "<table border='1'>\n",
       "<tr><th>path</th><th>modificationTime</th><th>length</th><th>text</th><th>positions</th><th>height_dimension</th><th>width_dimension</th><th>content</th><th>image</th><th>total_pages</th><th>pagenum</th><th>documentnum</th><th>confidence</th><th>exception</th></tr>\n",
       "<tr><td>file:/home/jose/s...</td><td>2023-04-13 11:12:...</td><td>243543</td><td>                 ...</td><td>[{[{w, 0, 14.4, 3...</td><td>383.0</td><td>284.0</td><td>[25 50 44 46 2D 3...</td><td>null</td><td>0</td><td>0</td><td>0</td><td>-1.79769313486231...</td><td>null</td></tr>\n",
       "<tr><td>file:/home/jose/s...</td><td>2023-04-13 11:12:...</td><td>90047</td><td>would have been a...</td><td>[{[{would have be...</td><td>841.8897705078125</td><td>595.2755737304688</td><td>[25 50 44 46 2D 3...</td><td>{file:/home/jose/...</td><td>1</td><td>0</td><td>0</td><td>95.82769730511833</td><td>null</td></tr>\n",
       "</table>\n"
      ],
      "text/plain": [
       "+--------------------+--------------------+------+--------------------+--------------------+-----------------+-----------------+--------------------+--------------------+-----------+-------+-----------+--------------------+---------+\n",
       "|                path|    modificationTime|length|                text|           positions| height_dimension|  width_dimension|             content|               image|total_pages|pagenum|documentnum|          confidence|exception|\n",
       "+--------------------+--------------------+------+--------------------+--------------------+-----------------+-----------------+--------------------+--------------------+-----------+-------+-----------+--------------------+---------+\n",
       "|file:/home/jose/s...|2023-04-13 11:12:...|243543|                 ...|[{[{w, 0, 14.4, 3...|            383.0|            284.0|[25 50 44 46 2D 3...|                null|          0|      0|          0|-1.79769313486231...|     null|\n",
       "|file:/home/jose/s...|2023-04-13 11:12:...| 90047|would have been a...|[{[{would have be...|841.8897705078125|595.2755737304688|[25 50 44 46 2D 3...|{file:/home/jose/...|          1|      0|          0|   95.82769730511833|     null|\n",
       "+--------------------+--------------------+------+--------------------+--------------------+-----------------+-----------------+--------------------+--------------------+-----------+-------+-----------+--------------------+---------+"
      ]
     },
     "execution_count": 5,
     "metadata": {},
     "output_type": "execute_result"
    }
   ],
   "source": [
    "pdf_example_df = spark.read.format(\"binaryFile\").load(pdf_path).cache()\n",
    "result = mixed_pdf_pipeline.transform(pdf_example_df)\n",
    "result"
   ]
  },
  {
   "cell_type": "markdown",
   "metadata": {},
   "source": [
    "And to avoid truncation, using collect() on just the text column,"
   ]
  },
  {
   "cell_type": "code",
   "execution_count": 6,
   "metadata": {},
   "outputs": [
    {
     "data": {
      "text/plain": [
       "[Row(text='                                                                       \\n   would    have   been   a liberation,    a joy,  and   a fiesta.     \\n   He sensed that had he been able to choose or                        \\n   dream     his death    that  night,   this  is the  death   he      \\n   would    have   dreamed     or  chosen.                             \\n       Dahlmann firmly grips the knife, which he                       \\n   may    have   no  idea  how   to  manage,     and   steps  out      \\n   into  the  plains.                                                  \\n                                                                       \\n                                                                       \\n                                                                       \\n   The     Aleph                                                       \\n   (1949)                                                              \\n                                                                       \\n                                                                       \\n   The    Immortal                                                     \\n                                                                       \\n       Solomon     saith: There      is no   new   thing    upon       \\n   the  earth.    So  that  as  Plato   had   an  imagination,         \\n   that   all knowledge       was   but   remembrance;          so     \\n   Solomon      giveth   his sentence, that      all  novelty   is     \\n   but  oblivion.                                                      \\n                           Francis    Bacon:    Essays,     LVIII      \\n                                                                       \\n       In London, in early June of the year 1929,                      \\n'),\n",
       " Row(text='would have been a liberation, a joy, and a fiesta.\\n\\nHe sensed that had he been able to choose or\\n\\ndream his death that night, this is the death he\\n\\nwould have dreamed or chosen.\\n\\nDahlmann firmly grips the knife, which he\\n\\nmay have no idea how to manage, and steps out\\n\\ninto the plains.\\n\\nThe Aleph\\n\\n(1949)\\n\\nThe Immortal\\n\\nSolomon saith: There is no new thing upon\\n\\nthe earth. So that as Plato had an imagination,\\n\\nthat all knowledge was but remembrance; so\\n\\nSolomon giveth his sentence, that all novelty is\\n\\nbut oblivion.\\n\\nFrancis Bacon: Essays, LVIII\\n\\nIn London, in early June of the year 1929,\\n')]"
      ]
     },
     "execution_count": 6,
     "metadata": {},
     "output_type": "execute_result"
    }
   ],
   "source": [
    "result.select(\"text\").collect()"
   ]
  },
  {
   "cell_type": "markdown",
   "metadata": {},
   "source": [
    "### image_handwritten_transformer_extraction\n",
    "Let's use another example, this time for doing transformer based OCR on handwritten texts. </br>\n",
    "Other similar options are,\n",
    "\n",
    "* __image_printed_transformer_extraction__: OCR printed texts contained on images.\n",
    "* __pdf_printed_transformer_extraction__: OCR printed texts contained in PDFs.\n",
    "* __pdf_handwritten_transformer_extraction__: OCR handwritten texts contained in PDFs."
   ]
  },
  {
   "cell_type": "code",
   "execution_count": null,
   "metadata": {},
   "outputs": [],
   "source": [
    "from pyspark.ml import PipelineModel\n",
    "from sparkocr.pretrained import *\n",
    "\n",
    "image_handwritten_transformer_extraction = PretrainedPipeline('image_handwritten_transformer_extraction', 'en', 'clinical/ocr')"
   ]
  },
  {
   "cell_type": "markdown",
   "metadata": {},
   "source": [
    "### Load image and display it"
   ]
  },
  {
   "cell_type": "code",
   "execution_count": null,
   "metadata": {},
   "outputs": [],
   "source": [
    "from pyspark.ml import PipelineModel\n",
    "import pyspark.sql.functions as f\n",
    "from sparkocr.transformers import *\n",
    "from sparkocr.enums import *\n",
    "from sparkocr.utils import display_images\n",
    "\n",
    "imagePath = \"./data/handwritten/handwritten_example.jpg\"\n",
    "image_df = spark.read.format(\"binaryFile\").load(imagePath)\n",
    "display_images(BinaryToImage().transform(image_df), \"image\")"
   ]
  },
  {
   "cell_type": "markdown",
   "metadata": {},
   "source": [
    "### display results"
   ]
  },
  {
   "cell_type": "code",
   "execution_count": 5,
   "metadata": {},
   "outputs": [
    {
     "ename": "NameError",
     "evalue": "name 'image_handwritten_transformer_extraction' is not defined",
     "output_type": "error",
     "traceback": [
      "\u001b[0;31m---------------------------------------------------------------------------\u001b[0m",
      "\u001b[0;31mNameError\u001b[0m                                 Traceback (most recent call last)",
      "Cell \u001b[0;32mIn[5], line 1\u001b[0m\n\u001b[0;32m----> 1\u001b[0m result \u001b[38;5;241m=\u001b[39m \u001b[43mimage_handwritten_transformer_extraction\u001b[49m\u001b[38;5;241m.\u001b[39mtransform(image_df)\u001b[38;5;241m.\u001b[39mcache()\n\u001b[1;32m      2\u001b[0m \u001b[38;5;28mprint\u001b[39m((\u001b[38;5;124m\"\u001b[39m\u001b[38;5;124m\"\u001b[39m)\u001b[38;5;241m.\u001b[39mjoin([x\u001b[38;5;241m.\u001b[39mtext \u001b[38;5;28;01mfor\u001b[39;00m x \u001b[38;5;129;01min\u001b[39;00m result\u001b[38;5;241m.\u001b[39mselect(\u001b[38;5;124m\"\u001b[39m\u001b[38;5;124mtext\u001b[39m\u001b[38;5;124m\"\u001b[39m)\u001b[38;5;241m.\u001b[39mcollect()]))\n",
      "\u001b[0;31mNameError\u001b[0m: name 'image_handwritten_transformer_extraction' is not defined"
     ]
    }
   ],
   "source": [
    "result = image_handwritten_transformer_extraction.transform(image_df).cache()\n",
    "print((\"\").join([x.text for x in result.select(\"text\").collect()]))"
   ]
  },
  {
   "cell_type": "markdown",
   "metadata": {},
   "source": [
    "### digital_pdf_table_extractor"
   ]
  },
  {
   "cell_type": "code",
   "execution_count": 9,
   "metadata": {},
   "outputs": [
    {
     "name": "stdout",
     "output_type": "stream",
     "text": [
      "digital_pdf_table_extractor download started this may take some time.\n",
      "Approx size to download 267.1 MB\n",
      "[OK!]\n"
     ]
    }
   ],
   "source": [
    "from pyspark.ml import PipelineModel\n",
    "from sparkocr.pretrained import *\n",
    "\n",
    "digital_pdf_table_extractor = PretrainedPipeline('digital_pdf_table_extractor', 'en', 'clinical/ocr')"
   ]
  },
  {
   "cell_type": "code",
   "execution_count": 11,
   "metadata": {},
   "outputs": [],
   "source": [
    "pdfPath = \"/home/jose/spark-ocr/python/sparkocr/resources/ocr/pdfs/tabular-pdf/f1120.pdf\"\n",
    "df = spark.read.format(\"binaryFile\").load(pdfPath)"
   ]
  },
  {
   "cell_type": "code",
   "execution_count": 5,
   "metadata": {},
   "outputs": [
    {
     "data": {
      "text/html": [
       "<iframe src=./tmp/pdf.pdf width=600 height=500></iframe>"
      ],
      "text/latex": [
       "\\includegraphics[width=1.0\\textwidth]{./tmp/pdf.pdf}"
      ],
      "text/plain": [
       "<sparkocr.utils.display_pdf_file at 0x7ff4f5c30c40>"
      ]
     },
     "execution_count": 5,
     "metadata": {},
     "output_type": "execute_result"
    }
   ],
   "source": [
    "from sparkocr.utils import display_pdf_file\n",
    "display_pdf_file(pdfPath)"
   ]
  },
  {
   "cell_type": "code",
   "execution_count": 12,
   "metadata": {},
   "outputs": [
    {
     "name": "stdout",
     "output_type": "stream",
     "text": [
      "Filename: f1120.pdf\n",
      "Page: 0\n",
      "Table: 0\n",
      "Number of Columns: 18\n"
     ]
    },
    {
     "data": {
      "text/html": [
       "<table><tr><th>col0</th><th>col1</th><th>col2</th><th>col3</th><th>col4</th><th>col5</th><th>col6</th><th>col7</th><th>col8</th><th>col9</th><th>col10</th><th>col11</th><th>col12</th><th>col13</th><th>col14</th><th>col15</th><th>col16</th><th>col17</th></tr><tr><td>Form 1120</td><td>Empty</td><td>Empty</td><td>Empty</td><td>Empty</td><td>Empty</td><td>Empty</td><td>Empty</td><td>Empty</td><td>For calendar year 2019 U . S or . tax Corporation year beginning Income , 2019 Tax , ending Return</td><td>Empty</td><td>Empty</td><td>Empty</td><td>, 20</td><td>Empty</td><td>Empty</td><td>OMB No . 1545 - 0123</td><td>Empty</td></tr><tr><td>Form Department of the Treasury</td><td>Empty</td><td>Empty</td><td>Empty</td><td>Empty</td><td>Empty</td><td>Empty</td><td>Empty</td><td>Empty</td><td>For calendar ▶ year Go to 2019 www or . irs tax . gov year / Form1120 beginning for instructions , and 2019 the , ending latest information . , 20</td><td>Empty</td><td>Empty</td><td>Empty</td><td>Empty</td><td>Empty</td><td>Empty</td><td>2019</td><td>None</td></tr><tr><td>Internal Revenue Service</td><td>Empty</td><td>Empty</td><td>Empty</td><td>Empty</td><td>Empty</td><td>Empty</td><td>Empty</td><td>Empty</td><td>▶ Go to www . irs . gov / Form1120 for instructions and the latest information .</td><td>None</td><td>None</td><td>None</td><td>None</td><td>None</td><td>None</td><td>None</td><td>None</td></tr><tr><td>A Check if :</td><td>Empty</td><td>Empty</td><td>Empty</td><td>Empty</td><td>Empty</td><td>Empty</td><td>Empty</td><td>Empty</td><td>Name</td><td>Empty</td><td>Empty</td><td>Empty</td><td>Empty</td><td>Empty</td><td>Empty</td><td>B Employer identification number</td><td>None</td></tr><tr><td>1a Consolidated ( attach Form 851 return ) .</td><td>Empty</td><td>TYPE</td><td>None</td><td>None</td><td>None</td><td>None</td><td>None</td><td>None</td><td>None</td><td>None</td><td>None</td><td>None</td><td>None</td><td>None</td><td>None</td><td>None</td><td>None</td></tr><tr><td>b Life dated / nonlife return consoli . . - .</td><td>Empty</td><td>OR</td><td>Empty</td><td>Empty</td><td>Empty</td><td>Empty</td><td>Empty</td><td>Empty</td><td>Number , street , and room or suite no . If a P . O . box , see instructions .</td><td>Empty</td><td>Empty</td><td>Empty</td><td>Empty</td><td>C Date incorporated</td><td>None</td><td>None</td><td>None</td></tr><tr><td>2 Personal ( attach Sch holding . PH ) co . . .</td><td>Empty</td><td>PRINT</td><td>Empty</td><td>Empty</td><td>Empty</td><td>Empty</td><td>Empty</td><td>Empty</td><td>City or town , state or province , country , and ZIP or foreign postal code</td><td>Empty</td><td>Empty</td><td>Empty</td><td>Empty</td><td>D Total assets ( see instructions )</td><td>None</td><td>None</td><td>None</td></tr><tr><td>3 Personal ( see instructions service ) corp . . .</td><td>Empty</td><td>Empty</td><td>Empty</td><td>Empty</td><td>Empty</td><td>Empty</td><td>Empty</td><td>Empty</td><td>Empty</td><td>Empty</td><td>Empty</td><td>Empty</td><td>Empty</td><td>$</td><td>None</td><td>None</td><td>None</td></tr><tr><td>4 Schedule M - 3 attached</td><td>Empty</td><td>Empty</td><td>E Check if : ( 1 )</td><td>Initial return</td><td>Empty</td><td>( 2 )</td><td>Empty</td><td>Empty</td><td>( 4 )</td><td>Empty</td><td>Empty</td><td>Empty</td><td>Empty</td><td>Address change</td><td>None</td><td>None</td><td>None</td></tr><tr><td>1a</td><td>Gross receipts or sales .</td><td>Empty</td><td>Empty</td><td>Empty</td><td>Empty</td><td>Empty</td><td>Empty</td><td>1a</td><td>Empty</td><td>50000.00</td><td>None</td><td>None</td><td>None</td><td>None</td><td>None</td><td>None</td><td>None</td></tr><tr><td>b</td><td>Returns and allowances .</td><td>Empty</td><td>Empty</td><td>Empty</td><td>Empty</td><td>Empty</td><td>Empty</td><td>1b</td><td>Empty</td><td>1000.00</td><td>None</td><td>None</td><td>None</td><td>None</td><td>None</td><td>None</td><td>None</td></tr><tr><td>c</td><td>Empty</td><td>Empty</td><td>Empty</td><td>Empty</td><td>Empty</td><td>Empty</td><td>Empty</td><td>Empty</td><td>Balance . Subtract line 1b from line 1a</td><td>Empty</td><td>Empty</td><td>Empty</td><td>Empty</td><td>1c</td><td>49000.00</td><td>None</td><td>None</td></tr><tr><td>2</td><td>Empty</td><td>Empty</td><td>Empty</td><td>Empty</td><td>Empty</td><td>Empty</td><td>Empty</td><td>Empty</td><td>Cost of goods sold ( attach Form 1125 - A ) .</td><td>Empty</td><td>Empty</td><td>Empty</td><td>Empty</td><td>2</td><td>20000.00</td><td>None</td><td>None</td></tr><tr><td>3</td><td>Empty</td><td>Empty</td><td>Empty</td><td>Empty</td><td>Empty</td><td>Empty</td><td>Empty</td><td>Empty</td><td>Gross profit . Subtract line 2 from line 1c .</td><td>Empty</td><td>Empty</td><td>Empty</td><td>Empty</td><td>Empty</td><td>Empty</td><td>3</td><td>29000.00</td></tr><tr><td>4</td><td>Empty</td><td>Empty</td><td>Empty</td><td>Empty</td><td>Empty</td><td>Empty</td><td>Empty</td><td>Empty</td><td>Dividends and inclusions ( Schedule C , line 23 )</td><td>Empty</td><td>Empty</td><td>Empty</td><td>Empty</td><td>Empty</td><td>Empty</td><td>4</td><td>0</td></tr><tr><td>5</td><td>Empty</td><td>Empty</td><td>Empty</td><td>Empty</td><td>Empty</td><td>Empty</td><td>Empty</td><td>Empty</td><td>Interest</td><td>Empty</td><td>Empty</td><td>Empty</td><td>Empty</td><td>Empty</td><td>Empty</td><td>5</td><td>500.00</td></tr><tr><td>6</td><td>Empty</td><td>Empty</td><td>Empty</td><td>Empty</td><td>Empty</td><td>Empty</td><td>Empty</td><td>Empty</td><td>Gross rents</td><td>Empty</td><td>Empty</td><td>Empty</td><td>Empty</td><td>Empty</td><td>Empty</td><td>6</td><td>1232.10</td></tr><tr><td>7</td><td>Empty</td><td>Empty</td><td>Empty</td><td>Empty</td><td>Empty</td><td>Empty</td><td>Empty</td><td>Empty</td><td>Gross royalties</td><td>Empty</td><td>Empty</td><td>Empty</td><td>Empty</td><td>Empty</td><td>Empty</td><td>7</td><td>9876.50</td></tr><tr><td>8</td><td>Empty</td><td>Empty</td><td>Empty</td><td>Empty</td><td>Empty</td><td>Empty</td><td>Empty</td><td>Empty</td><td>Capital gain net income ( attach Schedule D ( Form 1120 ) ) .</td><td>Empty</td><td>Empty</td><td>Empty</td><td>Empty</td><td>Empty</td><td>Empty</td><td>8</td><td>9876657.85</td></tr><tr><td>9</td><td>Empty</td><td>Empty</td><td>Empty</td><td>Empty</td><td>Empty</td><td>Empty</td><td>Empty</td><td>Empty</td><td>Net gain or ( loss ) from Form 4797 , Part II , line 17 ( attach Form 4797 )</td><td>Empty</td><td>Empty</td><td>Empty</td><td>Empty</td><td>Empty</td><td>Empty</td><td>9</td><td>67.85</td></tr><tr><td>10</td><td>Empty</td><td>Empty</td><td>Empty</td><td>Empty</td><td>Empty</td><td>Empty</td><td>Empty</td><td>Empty</td><td>Other income ( see instructions—attach statement ) .</td><td>Empty</td><td>Empty</td><td>Empty</td><td>Empty</td><td>Empty</td><td>Empty</td><td>10</td><td>6798.57</td></tr><tr><td>11</td><td>Empty</td><td>Empty</td><td>Empty</td><td>Empty</td><td>Empty</td><td>Empty</td><td>Empty</td><td>Empty</td><td>Total income . Add lines 3 through 10</td><td>Empty</td><td>Empty</td><td>Empty</td><td>▶</td><td>Empty</td><td>Empty</td><td>11</td><td>28500.00</td></tr><tr><td>12</td><td>Empty</td><td>Empty</td><td>Empty</td><td>Empty</td><td>Empty</td><td>Empty</td><td>Empty</td><td>Empty</td><td>Compensation of officers ( see instructions—attach Form 1125 - E )</td><td>Empty</td><td>Empty</td><td>Empty</td><td>▶</td><td>Empty</td><td>Empty</td><td>12</td><td>5000.00</td></tr><tr><td>13</td><td>Empty</td><td>Empty</td><td>Empty</td><td>Empty</td><td>Empty</td><td>Empty</td><td>Empty</td><td>Empty</td><td>Salaries and wages ( less employment credits )</td><td>Empty</td><td>Empty</td><td>Empty</td><td>Empty</td><td>Empty</td><td>Empty</td><td>13</td><td>5000.00</td></tr><tr><td>14</td><td>Empty</td><td>Empty</td><td>Empty</td><td>Empty</td><td>Empty</td><td>Empty</td><td>Empty</td><td>Empty</td><td>Repairs and maintenance</td><td>Empty</td><td>Empty</td><td>Empty</td><td>Empty</td><td>Empty</td><td>Empty</td><td>14</td><td>0</td></tr><tr><td>15</td><td>Empty</td><td>Empty</td><td>Empty</td><td>Empty</td><td>Empty</td><td>Empty</td><td>Empty</td><td>Empty</td><td>Bad debts .</td><td>Empty</td><td>Empty</td><td>Empty</td><td>Empty</td><td>Empty</td><td>Empty</td><td>15</td><td>500.00</td></tr><tr><td>16</td><td>Empty</td><td>Empty</td><td>Empty</td><td>Empty</td><td>Empty</td><td>Empty</td><td>Empty</td><td>Empty</td><td>Rents</td><td>Empty</td><td>Empty</td><td>Empty</td><td>Empty</td><td>Empty</td><td>Empty</td><td>16</td><td>1000.00</td></tr><tr><td>17</td><td>Empty</td><td>Empty</td><td>Empty</td><td>Empty</td><td>Empty</td><td>Empty</td><td>Empty</td><td>Empty</td><td>Taxes and licenses</td><td>Empty</td><td>Empty</td><td>Empty</td><td>Empty</td><td>Empty</td><td>Empty</td><td>17</td><td>0</td></tr><tr><td>18</td><td>Empty</td><td>Empty</td><td>Empty</td><td>Empty</td><td>Empty</td><td>Empty</td><td>Empty</td><td>Empty</td><td>Interest ( see instructions )</td><td>Empty</td><td>Empty</td><td>Empty</td><td>Empty</td><td>Empty</td><td>Empty</td><td>18</td><td>500.00</td></tr><tr><td>19</td><td>Empty</td><td>Empty</td><td>Empty</td><td>Empty</td><td>Empty</td><td>Empty</td><td>Empty</td><td>Empty</td><td>Charitable contributions .</td><td>Empty</td><td>Empty</td><td>Empty</td><td>Empty</td><td>Empty</td><td>Empty</td><td>19</td><td>0</td></tr><tr><td>20</td><td>Empty</td><td>Empty</td><td>Empty</td><td>Empty</td><td>Empty</td><td>Empty</td><td>Empty</td><td>Empty</td><td>Depreciation from Form 4562 not claimed on Form 1125 - A or elsewhere on return ( attach Form 4562 ) .</td><td>Empty</td><td>Empty</td><td>Empty</td><td>Empty</td><td>Empty</td><td>Empty</td><td>20</td><td>1000.00</td></tr><tr><td>21</td><td>Empty</td><td>Empty</td><td>Empty</td><td>Empty</td><td>Empty</td><td>Empty</td><td>Empty</td><td>Empty</td><td>Depletion .</td><td>Empty</td><td>Empty</td><td>Empty</td><td>Empty</td><td>Empty</td><td>Empty</td><td>21</td><td>0</td></tr><tr><td>22</td><td>Empty</td><td>Empty</td><td>Empty</td><td>Empty</td><td>Empty</td><td>Empty</td><td>Empty</td><td>Empty</td><td>Advertising</td><td>Empty</td><td>Empty</td><td>Empty</td><td>Empty</td><td>Empty</td><td>Empty</td><td>22</td><td>0</td></tr><tr><td>23</td><td>Empty</td><td>Empty</td><td>Empty</td><td>Empty</td><td>Empty</td><td>Empty</td><td>Empty</td><td>Empty</td><td>Pension , profit - sharing , etc . , plans</td><td>Empty</td><td>Empty</td><td>Empty</td><td>Empty</td><td>Empty</td><td>Empty</td><td>23</td><td>0</td></tr><tr><td>24</td><td>Empty</td><td>Empty</td><td>Empty</td><td>Empty</td><td>Empty</td><td>Empty</td><td>Empty</td><td>Empty</td><td>Employee benefit programs</td><td>Empty</td><td>Empty</td><td>Empty</td><td>Empty</td><td>Empty</td><td>Empty</td><td>24</td><td>0</td></tr><tr><td>25</td><td>Empty</td><td>Empty</td><td>Empty</td><td>Empty</td><td>Empty</td><td>Empty</td><td>Empty</td><td>Empty</td><td>Reserved for future use .</td><td>Empty</td><td>Empty</td><td>Empty</td><td>Empty</td><td>Empty</td><td>Empty</td><td>25</td><td>None</td></tr><tr><td>26</td><td>Empty</td><td>Empty</td><td>Empty</td><td>Empty</td><td>Empty</td><td>Empty</td><td>Empty</td><td>Empty</td><td>Other deductions ( attach statement )</td><td>Empty</td><td>Empty</td><td>Empty</td><td>Empty</td><td>Empty</td><td>Empty</td><td>26</td><td>None</td></tr><tr><td>27</td><td>Empty</td><td>Empty</td><td>Empty</td><td>Empty</td><td>Empty</td><td>Empty</td><td>Empty</td><td>Empty</td><td>▶</td><td>Empty</td><td>Empty</td><td>Empty</td><td>Empty</td><td>Empty</td><td>Empty</td><td>27</td><td>13000.00</td></tr><tr><td>28</td><td>Empty</td><td>Empty</td><td>Empty</td><td>Empty</td><td>Empty</td><td>Empty</td><td>Empty</td><td>Empty</td><td>Taxable income before net operating loss deduction and special deductions . Subtract line 27 from line 11 .</td><td>Empty</td><td>Empty</td><td>Empty</td><td>Empty</td><td>Empty</td><td>Empty</td><td>28</td><td>15500.00</td></tr><tr><td>29a</td><td>Empty</td><td>Empty</td><td>Empty</td><td>Empty</td><td>Empty</td><td>Empty</td><td>Empty</td><td>Empty</td><td>29a</td><td>0</td><td>None</td><td>None</td><td>None</td><td>None</td><td>None</td><td>None</td><td>None</td></tr><tr><td>b</td><td>Empty</td><td>Empty</td><td>Empty</td><td>Empty</td><td>Empty</td><td>Empty</td><td>Empty</td><td>Empty</td><td>29b</td><td>0</td><td>None</td><td>None</td><td>None</td><td>None</td><td>None</td><td>None</td><td>None</td></tr><tr><td>c</td><td>Empty</td><td>Empty</td><td>Empty</td><td>Empty</td><td>Empty</td><td>Empty</td><td>Empty</td><td>Empty</td><td>Add lines 29a and 29b</td><td>Empty</td><td>Empty</td><td>Empty</td><td>Empty</td><td>Empty</td><td>Empty</td><td>29c</td><td>0</td></tr><tr><td>30</td><td>Empty</td><td>Empty</td><td>Empty</td><td>Empty</td><td>Empty</td><td>Empty</td><td>Empty</td><td>Empty</td><td>Taxable income . Subtract line 29c from line 28 . See instructions</td><td>Empty</td><td>Empty</td><td>Empty</td><td>Empty</td><td>Empty</td><td>Empty</td><td>30</td><td>15500.00</td></tr><tr><td>31</td><td>Empty</td><td>Empty</td><td>Empty</td><td>Empty</td><td>Empty</td><td>Empty</td><td>Empty</td><td>Empty</td><td>Total tax ( Schedule J , Part I , line 11 ) .</td><td>Empty</td><td>Empty</td><td>Empty</td><td>Empty</td><td>Empty</td><td>Empty</td><td>31</td><td>2500.00</td></tr><tr><td>32</td><td>Empty</td><td>Empty</td><td>Empty</td><td>Empty</td><td>Empty</td><td>Empty</td><td>Empty</td><td>Empty</td><td>2019 net 965 tax liability paid ( Schedule J , Part II , line 12 ) .</td><td>Empty</td><td>Empty</td><td>Empty</td><td>Empty</td><td>Empty</td><td>Empty</td><td>32</td><td>0</td></tr><tr><td>33</td><td>Empty</td><td>Empty</td><td>Empty</td><td>Empty</td><td>Empty</td><td>Empty</td><td>Empty</td><td>Empty</td><td>Total payments , credits , and section 965 net tax liability ( Schedule J , Part III , line 23 ) .</td><td>Empty</td><td>Empty</td><td>Empty</td><td>Empty</td><td>Empty</td><td>Empty</td><td>33</td><td>0</td></tr><tr><td>34</td><td>Empty</td><td>Empty</td><td>Empty</td><td>Empty</td><td>Empty</td><td>Empty</td><td>Empty</td><td>Empty</td><td>Estimated tax penalty . See instructions . Check if Form 2220 is attached</td><td>Empty</td><td>Empty</td><td>. ▶</td><td>Empty</td><td>Empty</td><td>Empty</td><td>34</td><td>0</td></tr><tr><td>35</td><td>Empty</td><td>Empty</td><td>Empty</td><td>Empty</td><td>Empty</td><td>Empty</td><td>Empty</td><td>Empty</td><td>Amount owed . If line 33 is smaller than the total of lines 31 , 32 , and 34 , enter amount owed</td><td>Empty</td><td>Empty</td><td>Empty</td><td>Empty</td><td>Empty</td><td>Empty</td><td>35</td><td>0</td></tr><tr><td>36</td><td>Empty</td><td>Empty</td><td>Empty</td><td>Empty</td><td>Empty</td><td>Empty</td><td>Empty</td><td>Empty</td><td>Overpayment . If line 33 is larger than the total of lines 31 , 32 , and 34 , enter amount overpaid .</td><td>Empty</td><td>Empty</td><td>Empty</td><td>Empty</td><td>Empty</td><td>Empty</td><td>36</td><td>0</td></tr><tr><td>37</td><td>Empty</td><td>Empty</td><td>Empty</td><td>Empty</td><td>Empty</td><td>Empty</td><td>Empty</td><td>Empty</td><td>Enter amount from line 36 you want : Credited to 2020 estimated tax ▶</td><td>Empty</td><td>Refunded ▶</td><td>Empty</td><td>Empty</td><td>Empty</td><td>Empty</td><td>37</td><td>None</td></tr><tr><td>Sign</td><td>Empty</td><td>Empty</td><td>Empty</td><td>Empty</td><td>Empty</td><td>Empty</td><td>Empty</td><td>Empty</td><td>Under and complete penalties . Declaration of perjury , of I declare preparer that ( other I have than examined taxpayer this ) is based return , on including all information accompanying of which schedules preparer has and any statements knowledge , and . to the best of my knowledge May the IRS and discuss belief , it this is true return , correct ,</td><td>None</td><td>None</td><td>None</td><td>None</td><td>None</td><td>None</td><td>None</td><td>None</td></tr><tr><td>Here</td><td>Empty</td><td>Empty</td><td>Empty</td><td>Empty</td><td>Empty</td><td>Empty</td><td>Empty</td><td>Empty</td><td>Empty</td><td>Empty</td><td>Empty</td><td>Empty</td><td>Empty</td><td>Empty</td><td>Empty</td><td>with See the instructions preparer . shown Yes below ? No</td><td>None</td></tr><tr><td>Signature of officer</td><td>Empty</td><td>Empty</td><td>Empty</td><td>Empty</td><td>Empty</td><td>Empty</td><td>Date</td><td>Empty</td><td>Title</td><td>None</td><td>None</td><td>None</td><td>None</td><td>None</td><td>None</td><td>None</td><td>None</td></tr><tr><td>Print / Type preparer’s name</td><td>Empty</td><td>Empty</td><td>Empty</td><td>Empty</td><td>Preparer’s signature</td><td>Empty</td><td>Empty</td><td>Empty</td><td>Date</td><td>Empty</td><td>Empty</td><td>Empty</td><td>Check</td><td>Empty</td><td>Empty</td><td>PTIN</td><td>None</td></tr><tr><td>Preparer</td><td>Empty</td><td>Empty</td><td>Empty</td><td>Empty</td><td>Empty</td><td>Empty</td><td>Empty</td><td>Empty</td><td>Empty</td><td>Empty</td><td>Empty</td><td>Empty</td><td>Empty</td><td>self - employed</td><td>None</td><td>None</td><td>None</td></tr><tr><td>▶</td><td>Empty</td><td>Empty</td><td>Empty</td><td>Empty</td><td>Empty</td><td>Empty</td><td>Empty</td><td>Empty</td><td>Empty</td><td>Empty</td><td>Firm’s EIN ▶</td><td>None</td><td>None</td><td>None</td><td>None</td><td>None</td><td>None</td></tr><tr><td>Firm’s address ▶</td><td>Empty</td><td>Empty</td><td>Empty</td><td>Empty</td><td>Empty</td><td>Empty</td><td>Empty</td><td>Empty</td><td>Empty</td><td>Empty</td><td>Phone no .</td><td>None</td><td>None</td><td>None</td><td>None</td><td>None</td><td>None</td></tr></table>"
      ],
      "text/plain": [
       "<IPython.core.display.HTML object>"
      ]
     },
     "metadata": {},
     "output_type": "display_data"
    },
    {
     "name": "stdout",
     "output_type": "stream",
     "text": [
      "Filename: f1120.pdf\n",
      "Page: 1\n",
      "Table: 0\n",
      "Number of Columns: 5\n"
     ]
    },
    {
     "data": {
      "text/html": [
       "<table><tr><th>col0</th><th>col1</th><th>col2</th><th>col3</th><th>col4</th></tr><tr><td>Schedule C</td><td>Dividends instructions , ) Inclusions , and Special Deductions ( see</td><td>( a ) Dividends inclusions and</td><td>( b ) %</td><td>( c ) Special ( a ) × deductions ( b )</td></tr><tr><td>1 </td><td>Dividends from less - than - 20 % - owned domestic corporations ( other than debt - financed stock )</td><td>234</td><td>50</td><td>None</td></tr><tr><td>2 </td><td>Dividends from 20 % - or - more - owned domestic corporations ( other than debt - financed stock )</td><td>324123</td><td>65</td><td>None</td></tr><tr><td>3</td><td>Dividends on certain debt - financed stock of domestic and foreign corporations</td><td>324</td><td>instructions see</td><td>None</td></tr><tr><td>4</td><td>Dividends on certain preferred stock of less - than - 20 % - owned public utilities</td><td>234</td><td>23 . 3</td><td>None</td></tr><tr><td>5</td><td>Dividends on certain preferred stock of 20 % - or - more - owned public utilities .</td><td>42134</td><td>26 . 7</td><td>None</td></tr><tr><td>6</td><td>Dividends from less - than - 20 % - owned foreign corporations and certain FSCs</td><td>4234</td><td>50</td><td>None</td></tr><tr><td>7</td><td>Dividends from 20 % - or - more - owned foreign corporations and certain FSCs</td><td>4234</td><td>65</td><td>None</td></tr><tr><td>8</td><td>Dividends from wholly owned foreign subsidiaries</td><td>42348987</td><td>100</td><td>None</td></tr><tr><td>9</td><td>Subtotal . Add lines 1 through 8 . See instructions for limitations .</td><td>987</td><td>instructions see</td><td>None</td></tr><tr><td>10 </td><td>Dividends from domestic corporations received by a small business investment company operating under the Small Business Investment Act of 1958</td><td>9786</td><td>100</td><td>None</td></tr><tr><td>11</td><td>Dividends from affiliated group members .</td><td>789</td><td>100</td><td>None</td></tr><tr><td>12</td><td>Dividends from certain FSCs</td><td>0.00</td><td>100</td><td>None</td></tr><tr><td>13 </td><td>Foreign - source portion of dividends received from a specified 10 % - owned foreign corporation ( excluding hybrid dividends ) ( see instructions ) .</td><td>421.34</td><td>100</td><td>None</td></tr><tr><td>14 </td><td>Dividends from foreign corporations not included on line 3 , 6 , 7 , 8 , 11 , 12 , or 13 ( including any hybrid dividends ) .</td><td>2341.23</td><td>None</td><td>None</td></tr><tr><td>15</td><td>Section 965 ( a ) inclusion .</td><td>1234.14</td><td>instructions see</td><td>None</td></tr><tr><td>16a </td><td>Subpart F inclusions derived from the sale by a controlled foreign corporation ( CFC ) of the ( see stock instructions of a lower ) . - tier . foreign . . . corporation . . . treated . . . as a . dividend . . . ( attach . . Form . . ( s ) . 5471 . )</td><td>46.54</td><td>100</td><td>None</td></tr><tr><td>b </td><td>Subpart F inclusions derived from hybrid dividends of tiered corporations ( attach Form ( s ) 5471 ) ( see instructions ) .</td><td>6453.65</td><td>None</td><td>None</td></tr><tr><td>c </td><td>Other inclusions from CFCs under subpart F not included on line 15 , 16a , 16b , or 17 ( attach Form ( s ) 5471 ) ( see instructions ) .</td><td>985.76</td><td>None</td><td>None</td></tr><tr><td>17</td><td>Global Intangible Low - Taxed Income ( GILTI ) ( attach Form ( s ) 5471 and Form 8992 ) .</td><td>23.41</td><td>None</td><td>None</td></tr><tr><td>18</td><td>Gross - up for foreign taxes deemed paid</td><td>1.01</td><td>None</td><td>None</td></tr><tr><td>19</td><td>IC - DISC and former DISC dividends not included on line 1 , 2 , or 3</td><td>3123.91</td><td>None</td><td>None</td></tr><tr><td>20</td><td>Other dividends</td><td>12.23</td><td>None</td><td>None</td></tr><tr><td>21</td><td>Deduction for dividends paid on certain preferred stock of public utilities</td><td>Empty</td><td>Empty</td><td>1.23</td></tr><tr><td>22</td><td>Section 250 deduction ( attach Form 8993 )</td><td>Empty</td><td>Empty</td><td>3.41</td></tr><tr><td>23 </td><td>Total dividends and inclusions . Add column ( a ) , lines 9 through 20 . Enter here and on page 1 , line 4 .</td><td>2341.23</td><td>None</td><td>None</td></tr><tr><td>24</td><td>Total special deductions . Add column ( c ) , lines 9 through 22 . Enter here and on page 1 , line 29b .</td><td>None</td><td>None</td><td>None</td></tr></table>"
      ],
      "text/plain": [
       "<IPython.core.display.HTML object>"
      ]
     },
     "metadata": {},
     "output_type": "display_data"
    },
    {
     "name": "stdout",
     "output_type": "stream",
     "text": [
      "Filename: f1120.pdf\n",
      "Page: 2\n",
      "Table: 0\n",
      "Number of Columns: 11\n"
     ]
    },
    {
     "data": {
      "text/html": [
       "<table><tr><th>col0</th><th>col1</th><th>col2</th><th>col3</th><th>col4</th><th>col5</th><th>col6</th><th>col7</th><th>col8</th><th>col9</th><th>col10</th></tr><tr><td>1</td><td>Check if the corporation is a member of a controlled group ( attach Schedule O ( Form 1120 ) ) . See instructions ▶</td><td>Empty</td><td>Empty</td><td>Empty</td><td>Empty</td><td>Empty</td><td>Empty</td><td>Empty</td><td>Empty</td><td>Empty</td></tr><tr><td>2</td><td>Income tax . See instructions</td><td>Empty</td><td>Empty</td><td>Empty</td><td>2</td><td>Empty</td><td>Empty</td><td>432.13</td><td>None</td><td>None</td></tr><tr><td>3</td><td>Base erosion minimum tax amount ( attach Form 8991 ) .</td><td>Empty</td><td>Empty</td><td>Empty</td><td>Empty</td><td>3</td><td>Empty</td><td>Empty</td><td>34.32</td><td>None</td></tr><tr><td>4</td><td>Add lines 2 and 3 .</td><td>Empty</td><td>Empty</td><td>Empty</td><td>Empty</td><td>Empty</td><td>4</td><td>Empty</td><td>Empty</td><td>4.23</td></tr><tr><td>5 a</td><td>5a</td><td>3.21</td><td>None</td><td>None</td><td>None</td><td>None</td><td>None</td><td>None</td><td>None</td><td>None</td></tr><tr><td>b</td><td>5b</td><td>3.12</td><td>None</td><td>None</td><td>None</td><td>None</td><td>None</td><td>None</td><td>None</td><td>None</td></tr><tr><td>c</td><td>5c</td><td>2.13</td><td>None</td><td>None</td><td>None</td><td>None</td><td>None</td><td>None</td><td>None</td><td>None</td></tr><tr><td>d</td><td>5d</td><td>3.24</td><td>None</td><td>None</td><td>None</td><td>None</td><td>None</td><td>None</td><td>None</td><td>None</td></tr><tr><td>e</td><td>5e</td><td>5.11</td><td>None</td><td>None</td><td>None</td><td>None</td><td>None</td><td>None</td><td>None</td><td>None</td></tr><tr><td>6</td><td>Total credits . Add lines 5a through 5e</td><td>Empty</td><td>6</td><td>Empty</td><td>Empty</td><td>Empty</td><td>Empty</td><td>Empty</td><td>Empty</td><td>23.41</td></tr><tr><td>7</td><td>Subtract line 6 from line 4</td><td>Empty</td><td>7</td><td>Empty</td><td>Empty</td><td>Empty</td><td>Empty</td><td>Empty</td><td>Empty</td><td>9.78</td></tr><tr><td>8</td><td>Personal holding company tax ( attach Schedule PH ( Form 1120 ) ) .</td><td>Empty</td><td>8</td><td>Empty</td><td>Empty</td><td>Empty</td><td>Empty</td><td>Empty</td><td>Empty</td><td>3.12</td></tr><tr><td>9 a</td><td>9a</td><td>31.23</td><td>None</td><td>None</td><td>None</td><td>None</td><td>None</td><td>None</td><td>None</td><td>None</td></tr><tr><td>b</td><td>9b</td><td>41.32</td><td>None</td><td>None</td><td>None</td><td>None</td><td>None</td><td>None</td><td>None</td><td>None</td></tr><tr><td>c </td><td>Interest due under the look - back method—completed long - term contracts ( attach 9c</td><td>5.43</td><td>None</td><td>None</td><td>None</td><td>None</td><td>None</td><td>None</td><td>None</td><td>None</td></tr><tr><td>d</td><td>9d</td><td>64.56</td><td>None</td><td>None</td><td>None</td><td>None</td><td>None</td><td>None</td><td>None</td><td>None</td></tr><tr><td>e</td><td>9e</td><td>5.34</td><td>None</td><td>None</td><td>None</td><td>None</td><td>None</td><td>None</td><td>None</td><td>None</td></tr><tr><td>f</td><td>9f</td><td>87.56</td><td>None</td><td>None</td><td>None</td><td>None</td><td>None</td><td>None</td><td>None</td><td>None</td></tr><tr><td>10</td><td>Total . Add lines 9a through 9f .</td><td>Empty</td><td>10</td><td>Empty</td><td>Empty</td><td>Empty</td><td>Empty</td><td>Empty</td><td>Empty</td><td>123.12</td></tr><tr><td>11 </td><td>Total tax . Add lines 7 , 8 , and 10 . Enter here and on page 1 , line 31 . Part II–Section 965 Payments ( see instructions )</td><td>Empty</td><td>11</td><td>Empty</td><td>Empty</td><td>Empty</td><td>Empty</td><td>Empty</td><td>Empty</td><td>3241.23</td></tr><tr><td>12 </td><td>2019 net 965 tax liability paid from Form 965 - B , Part II , column ( k ) , line 3 . Enter here and on page 1 , line 32 Part III–Payments , Refundable Credits , and Section 965 Net Tax Liability</td><td>Empty</td><td>12</td><td>Empty</td><td>Empty</td><td>Empty</td><td>Empty</td><td>Empty</td><td>Empty</td><td>32.41</td></tr><tr><td>13</td><td>2018 overpayment credited to 2019</td><td>Empty</td><td>13</td><td>Empty</td><td>Empty</td><td>Empty</td><td>Empty</td><td>Empty</td><td>Empty</td><td>345.43</td></tr><tr><td>14</td><td>2019 estimated tax payments</td><td>Empty</td><td>14</td><td>Empty</td><td>Empty</td><td>Empty</td><td>Empty</td><td>Empty</td><td>Empty</td><td>41.23</td></tr><tr><td>15</td><td>2019 refund applied for on Form 4466 .</td><td>Empty</td><td>Empty</td><td>15 (</td><td>Empty</td><td>Empty</td><td>Empty</td><td>)</td><td>Empty</td><td>13412</td></tr><tr><td>16</td><td>Combine lines 13 , 14 , and 15</td><td>Empty</td><td>16</td><td>Empty</td><td>Empty</td><td>Empty</td><td>Empty</td><td>Empty</td><td>Empty</td><td>435.34</td></tr><tr><td>17</td><td>Tax deposited with Form 7004 .</td><td>Empty</td><td>17</td><td>Empty</td><td>Empty</td><td>Empty</td><td>Empty</td><td>Empty</td><td>Empty</td><td>23.41</td></tr><tr><td>18</td><td>Withholding ( see instructions )</td><td>Empty</td><td>18</td><td>Empty</td><td>Empty</td><td>Empty</td><td>Empty</td><td>Empty</td><td>Empty</td><td>423.76</td></tr><tr><td>19</td><td>Total payments . Add lines 16 , 17 , and 18</td><td>Empty</td><td>19</td><td>Empty</td><td>Empty</td><td>Empty</td><td>Empty</td><td>Empty</td><td>Empty</td><td>432.14</td></tr><tr><td>20</td><td>Refundable credits from :</td><td>None</td><td>None</td><td>None</td><td>None</td><td>None</td><td>None</td><td>None</td><td>None</td><td>None</td></tr><tr><td>a</td><td>20a</td><td>21.43</td><td>None</td><td>None</td><td>None</td><td>None</td><td>None</td><td>None</td><td>None</td><td>None</td></tr><tr><td>b</td><td>20b</td><td>76.35</td><td>None</td><td>None</td><td>None</td><td>None</td><td>None</td><td>None</td><td>None</td><td>None</td></tr><tr><td>c</td><td>20c</td><td>14.32</td><td>None</td><td>None</td><td>None</td><td>None</td><td>None</td><td>None</td><td>None</td><td>None</td></tr><tr><td>d</td><td>20d</td><td>14.31</td><td>None</td><td>None</td><td>None</td><td>None</td><td>None</td><td>None</td><td>None</td><td>None</td></tr><tr><td>21</td><td>Total credits . Add lines 20a through 20d .</td><td>Empty</td><td>21</td><td>Empty</td><td>Empty</td><td>Empty</td><td>Empty</td><td>Empty</td><td>Empty</td><td>1254.32</td></tr><tr><td>22</td><td>2019 net 965 tax liability from Form 965 - B , Part I , column ( d ) , line 3 . See instructions .</td><td>Empty</td><td>22</td><td>Empty</td><td>Empty</td><td>Empty</td><td>Empty</td><td>Empty</td><td>Empty</td><td>412.34</td></tr><tr><td>23 </td><td>Total payments , credits , and section 965 net tax liability . Add lines 19 , 21 , and 22 . Enter here and on page 1 , line 33 .</td><td>Empty</td><td>23</td><td>Empty</td><td>Empty</td><td>Empty</td><td>Empty</td><td>Empty</td><td>Empty</td><td>123.41</td></tr></table>"
      ],
      "text/plain": [
       "<IPython.core.display.HTML object>"
      ]
     },
     "metadata": {},
     "output_type": "display_data"
    },
    {
     "name": "stdout",
     "output_type": "stream",
     "text": [
      "Filename: f1120.pdf\n",
      "Page: 3\n",
      "Table: 0\n",
      "Number of Columns: 4\n"
     ]
    },
    {
     "data": {
      "text/html": [
       "<table><tr><th>col0</th><th>col1</th><th>col2</th><th>col3</th></tr><tr><td>( i ) Name of Entity </td><td>Identification ( ii ) Employer Number ( if any )</td><td>( iii Organization ) Country of </td><td>Percentage ( iv ) Maximum Owned in Profit , Loss , or Capital</td></tr></table>"
      ],
      "text/plain": [
       "<IPython.core.display.HTML object>"
      ]
     },
     "metadata": {},
     "output_type": "display_data"
    },
    {
     "name": "stdout",
     "output_type": "stream",
     "text": [
      "Filename: f1120.pdf\n",
      "Page: 3\n",
      "Table: 1\n",
      "Number of Columns: 4\n"
     ]
    },
    {
     "data": {
      "text/html": [
       "<table><tr><th>col0</th><th>col1</th><th>col2</th><th>col3</th></tr><tr><td>( i ) Name of Corporation </td><td>Identification ( ii ) Employer Number ( if any )</td><td>( iii Incorporation ) Country of </td><td>Owned ( iv ) Percentage in Voting Stock</td></tr></table>"
      ],
      "text/plain": [
       "<IPython.core.display.HTML object>"
      ]
     },
     "metadata": {},
     "output_type": "display_data"
    },
    {
     "name": "stdout",
     "output_type": "stream",
     "text": [
      "Filename: f1120.pdf\n",
      "Page: 4\n",
      "Table: 0\n",
      "Number of Columns: 8\n"
     ]
    },
    {
     "data": {
      "text/html": [
       "<table><tr><th>col0</th><th>col1</th><th>col2</th><th>col3</th><th>col4</th><th>col5</th><th>col6</th><th>col7</th></tr><tr><td>13   </td><td>   </td><td>Are the corporation’s total receipts ( page 1 , line 1a , plus lines 4 through 10 ) for the tax year and its total assets at the end of the tax year less than $ 250 , 000 ? If “Yes , ” the corporation is not required to complete Schedules L , M - 1 , and M - 2 . Instead , enter the total amount of cash distributions and the book value of property distributions ( other than cash ) made during the tax year ▶ $</td><td> </td><td> 43214.32</td><td>Empty</td><td>Yes</td><td>No</td></tr><tr><td>14 </td><td> </td><td>Is the corporation required to file Schedule UTP ( Form 1120 ) , Uncertain Tax Position Statement ? See instructions If “Yes , ” complete and attach Schedule UTP .</td><td>None</td><td>None</td><td>None</td><td>None</td><td>None</td></tr><tr><td>15a</td><td>Empty</td><td>Did the corporation make any payments in 2019 that would require it to file Form ( s ) 1099 ?</td><td>None</td><td>None</td><td>None</td><td>None</td><td>None</td></tr><tr><td>b</td><td>Empty</td><td>If “Yes , ” did or will the corporation file required Form ( s ) 1099 ? .</td><td>None</td><td>None</td><td>None</td><td>None</td><td>None</td></tr><tr><td>16 </td><td> </td><td>During this tax year , did the corporation have an 80 % - or - more change in ownership , including a change due to redemption of its own stock ?</td><td>None</td><td>None</td><td>None</td><td>None</td><td>None</td></tr><tr><td>17 </td><td> </td><td>During or subsequent to this tax year , but before the filing of this return , did the corporation dispose of more than 65 % ( by value ) of its assets in a taxable , non - taxable , or tax deferred transaction ?</td><td>None</td><td>None</td><td>None</td><td>None</td><td>None</td></tr><tr><td>18 </td><td> </td><td>Did the corporation receive assets in a section 351 transfer in which any of the transferred assets had a fair market basis or fair market value of more than $ 1 million ? .</td><td>None</td><td>None</td><td>None</td><td>None</td><td>None</td></tr><tr><td>19 </td><td> </td><td>During the corporation’s tax year , did the corporation make any payments that would require it to file Forms 1042 and 1042 - S under chapter 3 ( sections 1441 through 1464 ) or chapter 4 ( sections 1471 through 1474 ) of the Code ? .</td><td>None</td><td>None</td><td>None</td><td>None</td><td>None</td></tr><tr><td>20</td><td>Empty</td><td>Is the corporation operating on a cooperative basis ? .</td><td>None</td><td>None</td><td>None</td><td>None</td><td>None</td></tr><tr><td>21  </td><td>  </td><td>During the tax year , did the corporation pay or accrue any interest or royalty for which the deduction is not allowed under section 267A ? See instructions If “Yes , ” enter the total amount of the disallowed deductions ▶ $</td><td>8576857</td><td>None</td><td>None</td><td>None</td><td>None</td></tr><tr><td>22  </td><td>  </td><td>Does the corporation have gross receipts of at least $ 500 million in any of the 3 preceding tax years ? ( See sections 59A ( e ) ( 2 ) and ( 3 ) ) . If “Yes , ” complete and attach Form 8991 .</td><td>None</td><td>None</td><td>None</td><td>None</td><td>None</td></tr><tr><td>23 </td><td> </td><td>Did the corporation have an election under section 163 ( j ) for any real property trade or business or any farming business in effect during the tax year ? See instructions</td><td>None</td><td>None</td><td>None</td><td>None</td><td>None</td></tr><tr><td>24</td><td>Empty</td><td>Does the corporation satisfy one or more of the following ? See instructions .</td><td>None</td><td>None</td><td>None</td><td>None</td><td>None</td></tr><tr><td>a</td><td>Empty</td><td>The corporation owns a pass - through entity with current , or prior year carryover , excess business interest expense .</td><td>None</td><td>None</td><td>None</td><td>None</td><td>None</td></tr><tr><td>b </td><td> </td><td>The corporation’s aggregate average annual gross receipts ( determined under section 448 ( c ) ) for the 3 tax years preceding the current tax year are more than $ 26 million and the corporation has business interest expense .</td><td>None</td><td>None</td><td>None</td><td>None</td><td>None</td></tr><tr><td>c </td><td> </td><td>The corporation is a tax shelter and the corporation has business interest expense . If “Yes , ” to any , complete and attach Form 8990 .</td><td>None</td><td>None</td><td>None</td><td>None</td><td>None</td></tr><tr><td>25  </td><td> If “Yes , ” enter amount from Form 8996 , line 14 </td><td>Is the corporation attaching Form 8996 to certify as a Qualified Opportunity Fund ? . ▶ $ </td><td>86758 </td><td>Empty</td><td>Form 1120 ( 2019 )</td><td>None</td><td>None</td></tr></table>"
      ],
      "text/plain": [
       "<IPython.core.display.HTML object>"
      ]
     },
     "metadata": {},
     "output_type": "display_data"
    },
    {
     "name": "stdout",
     "output_type": "stream",
     "text": [
      "Filename: f1120.pdf\n",
      "Page: 5\n",
      "Table: 0\n",
      "Number of Columns: 15\n"
     ]
    },
    {
     "data": {
      "text/html": [
       "<table><tr><th>col0</th><th>col1</th><th>col2</th><th>col3</th><th>col4</th><th>col5</th><th>col6</th><th>col7</th><th>col8</th><th>col9</th><th>col10</th><th>col11</th><th>col12</th><th>col13</th><th>col14</th></tr><tr><td>1</td><td>Net income ( loss ) per books . . . . . .</td><td>Empty</td><td>Empty</td><td>Empty</td><td>3242</td><td>Empty</td><td>Empty</td><td>7</td><td>Empty</td><td>Income recorded on books this year</td><td>Empty</td><td>Empty</td><td>Empty</td><td>Empty</td></tr><tr><td>2</td><td>Federal income tax per books . . . . .</td><td>Empty</td><td>Empty</td><td>Empty</td><td>34</td><td>Empty</td><td>Empty</td><td>Empty</td><td>Empty</td><td>not included on this return ( itemize ) :</td><td>None</td><td>None</td><td>None</td><td>None</td></tr><tr><td>3</td><td>Excess of capital losses over capital gains</td><td>Empty</td><td>Empty</td><td>Empty</td><td>42342</td><td>Empty</td><td>Empty</td><td>Empty</td><td>Empty</td><td>Tax - exempt interest $</td><td>Empty</td><td>4353</td><td>None</td><td>None</td></tr><tr><td>4  </td><td>Income subject to tax not recorded on books this year ( itemize ) : </td><td>234 42342</td><td>Empty</td><td>Empty</td><td>Empty</td><td>Empty</td><td>Empty</td><td>8</td><td>Empty</td><td>Deductions on this return not charged</td><td>None</td><td>None</td><td>None</td><td>None</td></tr><tr><td>5     </td><td>Expenses recorded on books this year not deducted on this return ( itemize ) : a Depreciation . . . . $ b Charitable contributions . $ c Travel and entertainment . $ </td><td>  4234 4234 42364536 5426524</td><td>     </td><td>     </td><td>     543</td><td>     </td><td>     </td><td>     9</td><td>     </td><td>against book income this year ( itemize ) : a Depreciation . . $ b Charitable contributions $   Add lines 7 and 8 . . . . . .</td><td>  53425 5345</td><td>5344535 5345 </td><td>5342</td><td>None</td></tr><tr><td>6 </td><td>Add lines 1 through 5 . . . . . . . . Schedule M - 2</td><td> </td><td> </td><td> </td><td> </td><td> </td><td> </td><td>10 </td><td> Analysis of Unappropriated Retained Earnings per Books ( Line 25 , Schedule L )</td><td>Income ( page 1 , line 28 ) —line 6 less line 9</td><td>None</td><td>None</td><td>None</td><td>None</td></tr><tr><td>1</td><td>. . . . .</td><td>Empty</td><td>Empty</td><td>Empty</td><td>Empty</td><td>5</td><td>Empty</td><td>Empty</td><td>Empty</td><td>Distributions : a Cash . . . . .</td><td>Empty</td><td>Empty</td><td>Empty</td><td>5432</td></tr><tr><td>2</td><td>Net income ( loss ) per books . . . . . .</td><td>Empty</td><td>b Stock</td><td>Empty</td><td>Empty</td><td>Empty</td><td>Empty</td><td>Empty</td><td>Empty</td><td>. . . .</td><td>Empty</td><td>Empty</td><td>Empty</td><td>52345</td></tr><tr><td>3  </td><td>Other increases ( itemize ) :  </td><td>  </td><td>  </td><td>54352143  </td><td>  </td><td>  </td><td> 6 7</td><td>  </td><td>  </td><td>c Property . . . . Other decreases ( itemize ) : Add lines 5 and 6 . . . . . .</td><td> </td><td> </td><td> </td><td>2354534 2345</td></tr><tr><td>4</td><td>Add lines 1 , 2 , and 3 . . . . . . . .</td><td>Empty</td><td>Empty</td><td>Empty</td><td>Empty</td><td>Empty</td><td>Empty</td><td>8</td><td>Empty</td><td>Balance at end of year ( line 4 less line 7 )</td><td>None</td><td>None</td><td>None</td><td>None</td></tr></table>"
      ],
      "text/plain": [
       "<IPython.core.display.HTML object>"
      ]
     },
     "metadata": {},
     "output_type": "display_data"
    },
    {
     "name": "stdout",
     "output_type": "stream",
     "text": [
      "Filename: f1120.pdf\n",
      "Page: 5\n",
      "Table: 1\n",
      "Number of Columns: 20\n"
     ]
    },
    {
     "data": {
      "text/html": [
       "<table><tr><th>col0</th><th>col1</th><th>col2</th><th>col3</th><th>col4</th><th>col5</th><th>col6</th><th>col7</th><th>col8</th><th>col9</th><th>col10</th><th>col11</th><th>col12</th><th>col13</th><th>col14</th><th>col15</th><th>col16</th><th>col17</th><th>col18</th><th>col19</th></tr><tr><td>Form 1120 ( 2019 )</td><td>Empty</td><td>Empty</td><td>Empty</td><td>Empty</td><td>Empty</td><td>Empty</td><td>Empty</td><td>Empty</td><td>Empty</td><td>Empty</td><td>Empty</td><td>Empty</td><td>Empty</td><td>Empty</td><td>Empty</td><td>Empty</td><td>Empty</td><td>Page 6</td><td>Empty</td></tr><tr><td>Schedule L </td><td>Balance Sheets per Books Assets</td><td> </td><td> </td><td> </td><td> ( a )</td><td>Beginning of tax year </td><td> </td><td> ( b )</td><td> </td><td> </td><td> </td><td> </td><td> ( c )</td><td>End of tax year </td><td>Empty</td><td>( d )</td><td>None</td><td>None</td><td>None</td></tr><tr><td>1  </td><td>Cash . . . . . . . . . . . . 2a Trade notes and accounts receivable . . . b Less allowance for bad debts . . . . .</td><td> 412.34 (</td><td> </td><td> 534.24</td><td> </td><td> )</td><td>413241.23 43214.3</td><td>Empty</td><td>Empty</td><td>12341234</td><td>(</td><td>Empty</td><td>Empty</td><td>)</td><td>Empty</td><td>Empty</td><td>87.64</td><td>None</td><td>None</td></tr><tr><td>3</td><td>Inventories . . . . . . . . . . .</td><td>Empty</td><td>Empty</td><td>Empty</td><td>Empty</td><td>Empty</td><td>41.32</td><td>Empty</td><td>Empty</td><td>Empty</td><td>Empty</td><td>Empty</td><td>Empty</td><td>Empty</td><td>Empty</td><td>Empty</td><td>34.76</td><td>None</td><td>None</td></tr><tr><td>4</td><td>. . . . .</td><td>Empty</td><td>Empty</td><td>Empty</td><td>Empty</td><td>Empty</td><td>4312</td><td>Empty</td><td>Empty</td><td>Empty</td><td>Empty</td><td>Empty</td><td>Empty</td><td>Empty</td><td>Empty</td><td>Empty</td><td>5697.87</td><td>None</td><td>None</td></tr><tr><td>5</td><td>Tax - exempt securities ( see instructions ) . .</td><td>Empty</td><td>Empty</td><td>Empty</td><td>Empty</td><td>Empty</td><td>432412.34</td><td>Empty</td><td>Empty</td><td>Empty</td><td>Empty</td><td>Empty</td><td>Empty</td><td>Empty</td><td>Empty</td><td>Empty</td><td>0.74</td><td>None</td><td>None</td></tr><tr><td>6</td><td>Other current assets ( attach statement ) . .</td><td>Empty</td><td>Empty</td><td>Empty</td><td>Empty</td><td>Empty</td><td>43.24</td><td>Empty</td><td>Empty</td><td>Empty</td><td>Empty</td><td>Empty</td><td>Empty</td><td>Empty</td><td>Empty</td><td>Empty</td><td>474.76</td><td>None</td><td>None</td></tr><tr><td>7</td><td>Loans to shareholders . . . . . . .</td><td>Empty</td><td>Empty</td><td>Empty</td><td>Empty</td><td>Empty</td><td>421.34</td><td>Empty</td><td>Empty</td><td>Empty</td><td>Empty</td><td>Empty</td><td>Empty</td><td>Empty</td><td>Empty</td><td>Empty</td><td>47.75</td><td>None</td><td>None</td></tr><tr><td>8</td><td>Mortgage and real estate loans . . . . .</td><td>Empty</td><td>Empty</td><td>Empty</td><td>Empty</td><td>Empty</td><td>98.76</td><td>Empty</td><td>Empty</td><td>Empty</td><td>Empty</td><td>Empty</td><td>Empty</td><td>Empty</td><td>Empty</td><td>Empty</td><td>73.56</td><td>None</td><td>None</td></tr><tr><td>9    </td><td>Other investments ( attach statement ) . . . 10a Buildings and other depreciable assets b Less accumulated depreciation . . . . . 11a Depletable assets . . . . . . . . . b Less accumulated depletion . . . . . .</td><td>  (  (</td><td> 345.64 42.14 142985.25 1234</td><td>    </td><td>    </td><td>  )  )</td><td>457  42  2341</td><td>    </td><td>    </td><td> 43.24 476.54 42.34 344.32</td><td>  </td><td> ( (</td><td>  </td><td> ) )</td><td>  </td><td>  </td><td>25.46 57.43 876</td><td>None</td><td>None</td></tr><tr><td>12  </td><td>Land ( net of any amortization ) . . . . . . . . b Less accumulated amortization . . . . .</td><td>  (</td><td> 3245 7653`</td><td>  </td><td>  </td><td>  )</td><td>423  41234</td><td>  </td><td>  </td><td> 43.24 432175.64 </td><td> </td><td> (</td><td> </td><td> )</td><td> </td><td> </td><td>653 243</td><td>None</td><td>None</td></tr><tr><td>14</td><td>Other assets ( attach statement ) . . . . .</td><td>Empty</td><td>Empty</td><td>Empty</td><td>Empty</td><td>Empty</td><td>4123</td><td>Empty</td><td>Empty</td><td>Empty</td><td>Empty</td><td>Empty</td><td>Empty</td><td>Empty</td><td>Empty</td><td>Empty</td><td>5643</td><td>None</td><td>None</td></tr><tr><td>Total assets </td><td>. . . . . . . . . . Liabilities and Shareholders’ Equity</td><td>Empty</td><td>Empty</td><td>Empty</td><td>Empty</td><td>Empty</td><td>1342</td><td>Empty</td><td>Empty</td><td>Empty</td><td>Empty</td><td>Empty</td><td>Empty</td><td>Empty</td><td>Empty</td><td>Empty</td><td>645</td><td>None</td><td>None</td></tr><tr><td>16</td><td>Accounts payable . . . . . . . . .</td><td>Empty</td><td>Empty</td><td>Empty</td><td>Empty</td><td>Empty</td><td>42.31</td><td>Empty</td><td>Empty</td><td>Empty</td><td>Empty</td><td>Empty</td><td>Empty</td><td>Empty</td><td>Empty</td><td>Empty</td><td>5.42</td><td>None</td><td>None</td></tr><tr><td>17</td><td>Mortgages , notes , bonds payable in less than 1 year</td><td>Empty</td><td>Empty</td><td>Empty</td><td>Empty</td><td>Empty</td><td>65.34</td><td>Empty</td><td>Empty</td><td>Empty</td><td>Empty</td><td>Empty</td><td>Empty</td><td>Empty</td><td>Empty</td><td>Empty</td><td>5.43</td><td>None</td><td>None</td></tr><tr><td>18</td><td>Other current liabilities ( attach statement ) . .</td><td>Empty</td><td>Empty</td><td>Empty</td><td>Empty</td><td>Empty</td><td>53252.43</td><td>Empty</td><td>Empty</td><td>Empty</td><td>Empty</td><td>Empty</td><td>Empty</td><td>Empty</td><td>Empty</td><td>Empty</td><td>323.41</td><td>None</td><td>None</td></tr><tr><td>19</td><td>Loans from shareholders . . . . . . .</td><td>Empty</td><td>Empty</td><td>Empty</td><td>Empty</td><td>Empty</td><td>75.64</td><td>Empty</td><td>Empty</td><td>Empty</td><td>Empty</td><td>Empty</td><td>Empty</td><td>Empty</td><td>Empty</td><td>Empty</td><td>234.32</td><td>None</td><td>None</td></tr><tr><td>20</td><td>Mortgages , notes , bonds payable in 1 year or more</td><td>Empty</td><td>Empty</td><td>Empty</td><td>Empty</td><td>Empty</td><td>23456.65</td><td>Empty</td><td>Empty</td><td>Empty</td><td>Empty</td><td>Empty</td><td>Empty</td><td>Empty</td><td>Empty</td><td>Empty</td><td>345</td><td>None</td><td>None</td></tr><tr><td>21</td><td>Other liabilities ( attach statement ) . . . .</td><td>Empty</td><td>Empty</td><td>Empty</td><td>Empty</td><td>Empty</td><td>62.54</td><td>Empty</td><td>Empty</td><td>Empty</td><td>Empty</td><td>Empty</td><td>Empty</td><td>Empty</td><td>Empty</td><td>Empty</td><td>342</td><td>None</td><td>None</td></tr><tr><td>22 </td><td>Capital stock : a Preferred stock . . . . b Common stock . . . .</td><td> </td><td>36.54 6.54</td><td> </td><td> </td><td> </td><td> 34.56</td><td> </td><td> </td><td>323 42</td><td>Empty</td><td>Empty</td><td>Empty</td><td>Empty</td><td>Empty</td><td>Empty</td><td>354</td><td>None</td><td>None</td></tr><tr><td>23</td><td>Additional paid - in capital . . . . . . .</td><td>Empty</td><td>Empty</td><td>Empty</td><td>Empty</td><td>Empty</td><td>89.54</td><td>Empty</td><td>Empty</td><td>Empty</td><td>Empty</td><td>Empty</td><td>Empty</td><td>Empty</td><td>Empty</td><td>Empty</td><td>543</td><td>None</td><td>None</td></tr><tr><td>24</td><td>Retained earnings—Appropriated ( attach statement )</td><td>Empty</td><td>Empty</td><td>Empty</td><td>Empty</td><td>Empty</td><td>4354656.35</td><td>Empty</td><td>Empty</td><td>Empty</td><td>Empty</td><td>Empty</td><td>Empty</td><td>Empty</td><td>Empty</td><td>Empty</td><td>545435455</td><td>None</td><td>None</td></tr><tr><td>25</td><td>Retained earnings—Unappropriated . . .</td><td>Empty</td><td>Empty</td><td>Empty</td><td>Empty</td><td>Empty</td><td>3.45</td><td>Empty</td><td>Empty</td><td>Empty</td><td>Empty</td><td>Empty</td><td>Empty</td><td>Empty</td><td>Empty</td><td>Empty</td><td>534</td><td>None</td><td>None</td></tr><tr><td>26</td><td>Adjustments to shareholders’ equity ( attach statement )</td><td>Empty</td><td>Empty</td><td>Empty</td><td>Empty</td><td>Empty</td><td>4264.54</td><td>Empty</td><td>Empty</td><td>Empty</td><td>Empty</td><td>Empty</td><td>Empty</td><td>Empty</td><td>Empty</td><td>Empty</td><td>43534</td><td>None</td><td>None</td></tr><tr><td>27</td><td>Less cost of treasury stock . . . . . .</td><td>Empty</td><td>Empty</td><td>Empty</td><td>Empty</td><td>(</td><td>5344.53</td><td>Empty</td><td>)</td><td>Empty</td><td>Empty</td><td>Empty</td><td>Empty</td><td>(</td><td>3.45</td><td>Empty</td><td>Empty</td><td>Empty</td><td>)</td></tr><tr><td>28</td><td>Total liabilities and shareholders’ equity . .</td><td>Empty</td><td>Empty</td><td>Empty</td><td>Empty</td><td>Empty</td><td>3.45</td><td>Empty</td><td>Empty</td><td>Empty</td><td>Empty</td><td>Empty</td><td>Empty</td><td>Empty</td><td>Empty</td><td>Empty</td><td>345</td><td>None</td><td>None</td></tr></table>"
      ],
      "text/plain": [
       "<IPython.core.display.HTML object>"
      ]
     },
     "metadata": {},
     "output_type": "display_data"
    }
   ],
   "source": [
    "from sparkocr.utils import display_tables\n",
    "result = digital_pdf_table_extractor.transform(df)\n",
    "display_tables(result, table_col = \"tables\", table_index_col = \"table_index\")"
   ]
  },
  {
   "cell_type": "code",
   "execution_count": null,
   "metadata": {},
   "outputs": [],
   "source": []
  }
 ],
 "metadata": {
  "colab": {
   "collapsed_sections": [],
   "name": "SparkOcrAdaptiveThresholding.ipynb",
   "provenance": []
  },
  "kernelspec": {
   "display_name": "Python 3 (ipykernel)",
   "language": "python",
   "name": "python3"
  },
  "language_info": {
   "codemirror_mode": {
    "name": "ipython",
    "version": 3
   },
   "file_extension": ".py",
   "mimetype": "text/x-python",
   "name": "python",
   "nbconvert_exporter": "python",
   "pygments_lexer": "ipython3",
   "version": "3.8.10"
  }
 },
 "nbformat": 4,
 "nbformat_minor": 4
}
