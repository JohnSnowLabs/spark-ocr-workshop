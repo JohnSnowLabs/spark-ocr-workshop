{
 "cells": [
  {
   "cell_type": "markdown",
   "source": [
    "![JohnSnowLabs](https://nlp.johnsnowlabs.com/assets/images/logo.png)"
   ],
   "metadata": {
    "collapsed": false
   }
  },
  {
   "cell_type": "markdown",
   "source": [
    "[![Open In Colab](https://colab.research.google.com/assets/colab-badge.svg)](https://colab.research.google.com/github/JohnSnowLabs/spark-ocr-workshop/blob/TrainingNotebooks/tutorials/Certification_Trainings/others/SparkOcrImageToTextHandwritten.ipynb)"
   ],
   "metadata": {
    "collapsed": false
   }
  },
  {
   "cell_type": "markdown",
   "source": [
    "## Blogposts and videos\n",
    "\n",
    "- [Text Detection in Spark OCR](https://medium.com/spark-nlp/text-detection-in-spark-ocr-dcd8002bdc97)\n",
    "\n",
    "- [Table Detection & Extraction in Spark OCR](https://medium.com/spark-nlp/table-detection-extraction-in-spark-ocr-50765c6cedc9)\n",
    "\n",
    "- [Extract Tabular Data from PDF in Spark OCR](https://medium.com/spark-nlp/extract-tabular-data-from-pdf-in-spark-ocr-b02136bc0fcb)\n",
    "\n",
    "- [Signature Detection in Spark OCR](https://medium.com/spark-nlp/signature-detection-in-spark-ocr-32f9e6f91e3c)\n",
    "\n",
    "- [GPU image pre-processing in Spark OCR](https://medium.com/spark-nlp/gpu-image-pre-processing-in-spark-ocr-3-1-0-6fc27560a9bb)\n",
    "\n",
    "- [How to Setup Spark OCR on UBUNTU - Video](https://www.youtube.com/watch?v=cmt4WIcL0nI)\n",
    "\n",
    "\n",
    "**More examples here**\n",
    "\n",
    "https://github.com/JohnSnowLabs/spark-ocr-workshop"
   ],
   "metadata": {
    "collapsed": false
   }
  },
  {
   "cell_type": "code",
   "execution_count": null,
   "id": "c0c139a7",
   "metadata": {
    "id": "c0c139a7"
   },
   "outputs": [],
   "source": [
    "import json, os\n",
    "import sys\n",
    "\n",
    "if 'google.colab' in sys.modules:\n",
    "    from google.colab import files\n",
    "\n",
    "    if 'spark_ocr.json' not in os.listdir():\n",
    "      license_keys = files.upload()\n",
    "      os.rename(list(license_keys.keys())[0], 'spark_ocr.json')\n",
    "\n",
    "with open('spark_ocr.json') as f:\n",
    "    license_keys = json.load(f)\n",
    "\n",
    "# Defining license key-value pairs as local variables\n",
    "locals().update(license_keys)"
   ]
  },
  {
   "cell_type": "code",
   "execution_count": null,
   "id": "513bc87e",
   "metadata": {
    "colab": {
     "base_uri": "https://localhost:8080/"
    },
    "id": "513bc87e",
    "executionInfo": {
     "status": "ok",
     "timestamp": 1673278706317,
     "user_tz": -60,
     "elapsed": 17078,
     "user": {
      "displayName": "Emilio Gómez García",
      "userId": "12452742652222446865"
     }
    },
    "outputId": "3c68483e-8560-40cd-bf91-db2df47bf9b7"
   },
   "outputs": [
    {
     "output_type": "stream",
     "name": "stdout",
     "text": [
      "Looking in indexes: https://pypi.org/simple, https://us-python.pkg.dev/colab-wheels/public/simple/\n",
      "Requirement already satisfied: transformers in /usr/local/lib/python3.8/dist-packages (4.25.1)\n",
      "Requirement already satisfied: huggingface-hub<1.0,>=0.10.0 in /usr/local/lib/python3.8/dist-packages (from transformers) (0.11.1)\n",
      "Requirement already satisfied: packaging>=20.0 in /usr/local/lib/python3.8/dist-packages (from transformers) (21.3)\n",
      "Requirement already satisfied: tokenizers!=0.11.3,<0.14,>=0.11.1 in /usr/local/lib/python3.8/dist-packages (from transformers) (0.13.2)\n",
      "Requirement already satisfied: requests in /usr/local/lib/python3.8/dist-packages (from transformers) (2.25.1)\n",
      "Requirement already satisfied: numpy>=1.17 in /usr/local/lib/python3.8/dist-packages (from transformers) (1.21.6)\n",
      "Requirement already satisfied: pyyaml>=5.1 in /usr/local/lib/python3.8/dist-packages (from transformers) (6.0)\n",
      "Requirement already satisfied: regex!=2019.12.17 in /usr/local/lib/python3.8/dist-packages (from transformers) (2022.6.2)\n",
      "Requirement already satisfied: filelock in /usr/local/lib/python3.8/dist-packages (from transformers) (3.8.2)\n",
      "Requirement already satisfied: tqdm>=4.27 in /usr/local/lib/python3.8/dist-packages (from transformers) (4.64.1)\n",
      "Requirement already satisfied: typing-extensions>=3.7.4.3 in /usr/local/lib/python3.8/dist-packages (from huggingface-hub<1.0,>=0.10.0->transformers) (4.4.0)\n",
      "Requirement already satisfied: pyparsing!=3.0.5,>=2.0.2 in /usr/local/lib/python3.8/dist-packages (from packaging>=20.0->transformers) (3.0.9)\n",
      "Requirement already satisfied: urllib3<1.27,>=1.21.1 in /usr/local/lib/python3.8/dist-packages (from requests->transformers) (1.24.3)\n",
      "Requirement already satisfied: idna<3,>=2.5 in /usr/local/lib/python3.8/dist-packages (from requests->transformers) (2.10)\n",
      "Requirement already satisfied: chardet<5,>=3.0.2 in /usr/local/lib/python3.8/dist-packages (from requests->transformers) (4.0.0)\n",
      "Requirement already satisfied: certifi>=2017.4.17 in /usr/local/lib/python3.8/dist-packages (from requests->transformers) (2022.12.7)\n",
      "Looking in indexes: https://pypi.org/simple, https://us-python.pkg.dev/colab-wheels/public/simple/, https://pypi.johnsnowlabs.com/4.1.0-52f8e0a3b8cf4b1b63c864d38b2851b1f5484f25\n",
      "Requirement already satisfied: spark-ocr==4.1.0 in /usr/local/lib/python3.8/dist-packages (4.1.0)\n",
      "Requirement already satisfied: spark-nlp==4.1.0 in /usr/local/lib/python3.8/dist-packages (from spark-ocr==4.1.0) (4.1.0)\n",
      "Requirement already satisfied: scikit-image==0.18.1 in /usr/local/lib/python3.8/dist-packages (from spark-ocr==4.1.0) (0.18.1)\n",
      "Requirement already satisfied: pillow==9.0.1 in /usr/local/lib/python3.8/dist-packages (from spark-ocr==4.1.0) (9.0.1)\n",
      "Requirement already satisfied: py4j>=0.10.9.3 in /usr/local/lib/python3.8/dist-packages (from spark-ocr==4.1.0) (0.10.9.3)\n",
      "Requirement already satisfied: implicits==1.0.2 in /usr/local/lib/python3.8/dist-packages (from spark-ocr==4.1.0) (1.0.2)\n",
      "Requirement already satisfied: craft-text-detector==0.4.2 in /usr/local/lib/python3.8/dist-packages (from spark-ocr==4.1.0) (0.4.2)\n",
      "Requirement already satisfied: pyspark==3.2.1 in /usr/local/lib/python3.8/dist-packages (from spark-ocr==4.1.0) (3.2.1)\n",
      "Requirement already satisfied: numpy==1.21.6 in /usr/local/lib/python3.8/dist-packages (from spark-ocr==4.1.0) (1.21.6)\n",
      "Requirement already satisfied: torchvision>=0.7.0 in /usr/local/lib/python3.8/dist-packages (from craft-text-detector==0.4.2->spark-ocr==4.1.0) (0.14.0+cu116)\n",
      "Requirement already satisfied: torch>=1.6.0 in /usr/local/lib/python3.8/dist-packages (from craft-text-detector==0.4.2->spark-ocr==4.1.0) (1.13.0+cu116)\n",
      "Requirement already satisfied: gdown>=3.10.1 in /usr/local/lib/python3.8/dist-packages (from craft-text-detector==0.4.2->spark-ocr==4.1.0) (4.4.0)\n",
      "Requirement already satisfied: scipy>=1.3.2 in /usr/local/lib/python3.8/dist-packages (from craft-text-detector==0.4.2->spark-ocr==4.1.0) (1.7.3)\n",
      "Requirement already satisfied: opencv-python<4.5.4.62,>=3.4.8.29 in /usr/local/lib/python3.8/dist-packages (from craft-text-detector==0.4.2->spark-ocr==4.1.0) (4.5.4.60)\n",
      "Requirement already satisfied: tifffile>=2019.7.26 in /usr/local/lib/python3.8/dist-packages (from scikit-image==0.18.1->spark-ocr==4.1.0) (2022.10.10)\n",
      "Requirement already satisfied: PyWavelets>=1.1.1 in /usr/local/lib/python3.8/dist-packages (from scikit-image==0.18.1->spark-ocr==4.1.0) (1.4.1)\n",
      "Requirement already satisfied: matplotlib!=3.0.0,>=2.0.0 in /usr/local/lib/python3.8/dist-packages (from scikit-image==0.18.1->spark-ocr==4.1.0) (3.2.2)\n",
      "Requirement already satisfied: imageio>=2.3.0 in /usr/local/lib/python3.8/dist-packages (from scikit-image==0.18.1->spark-ocr==4.1.0) (2.9.0)\n",
      "Requirement already satisfied: networkx>=2.0 in /usr/local/lib/python3.8/dist-packages (from scikit-image==0.18.1->spark-ocr==4.1.0) (2.8.8)\n",
      "Requirement already satisfied: tqdm in /usr/local/lib/python3.8/dist-packages (from gdown>=3.10.1->craft-text-detector==0.4.2->spark-ocr==4.1.0) (4.64.1)\n",
      "Requirement already satisfied: six in /usr/local/lib/python3.8/dist-packages (from gdown>=3.10.1->craft-text-detector==0.4.2->spark-ocr==4.1.0) (1.15.0)\n",
      "Requirement already satisfied: filelock in /usr/local/lib/python3.8/dist-packages (from gdown>=3.10.1->craft-text-detector==0.4.2->spark-ocr==4.1.0) (3.8.2)\n",
      "Requirement already satisfied: requests[socks] in /usr/local/lib/python3.8/dist-packages (from gdown>=3.10.1->craft-text-detector==0.4.2->spark-ocr==4.1.0) (2.25.1)\n",
      "Requirement already satisfied: beautifulsoup4 in /usr/local/lib/python3.8/dist-packages (from gdown>=3.10.1->craft-text-detector==0.4.2->spark-ocr==4.1.0) (4.6.3)\n",
      "Requirement already satisfied: cycler>=0.10 in /usr/local/lib/python3.8/dist-packages (from matplotlib!=3.0.0,>=2.0.0->scikit-image==0.18.1->spark-ocr==4.1.0) (0.11.0)\n",
      "Requirement already satisfied: python-dateutil>=2.1 in /usr/local/lib/python3.8/dist-packages (from matplotlib!=3.0.0,>=2.0.0->scikit-image==0.18.1->spark-ocr==4.1.0) (2.8.2)\n",
      "Requirement already satisfied: pyparsing!=2.0.4,!=2.1.2,!=2.1.6,>=2.0.1 in /usr/local/lib/python3.8/dist-packages (from matplotlib!=3.0.0,>=2.0.0->scikit-image==0.18.1->spark-ocr==4.1.0) (3.0.9)\n",
      "Requirement already satisfied: kiwisolver>=1.0.1 in /usr/local/lib/python3.8/dist-packages (from matplotlib!=3.0.0,>=2.0.0->scikit-image==0.18.1->spark-ocr==4.1.0) (1.4.4)\n",
      "Requirement already satisfied: typing-extensions in /usr/local/lib/python3.8/dist-packages (from torch>=1.6.0->craft-text-detector==0.4.2->spark-ocr==4.1.0) (4.4.0)\n",
      "Requirement already satisfied: urllib3<1.27,>=1.21.1 in /usr/local/lib/python3.8/dist-packages (from requests[socks]->gdown>=3.10.1->craft-text-detector==0.4.2->spark-ocr==4.1.0) (1.24.3)\n",
      "Requirement already satisfied: certifi>=2017.4.17 in /usr/local/lib/python3.8/dist-packages (from requests[socks]->gdown>=3.10.1->craft-text-detector==0.4.2->spark-ocr==4.1.0) (2022.12.7)\n",
      "Requirement already satisfied: chardet<5,>=3.0.2 in /usr/local/lib/python3.8/dist-packages (from requests[socks]->gdown>=3.10.1->craft-text-detector==0.4.2->spark-ocr==4.1.0) (4.0.0)\n",
      "Requirement already satisfied: idna<3,>=2.5 in /usr/local/lib/python3.8/dist-packages (from requests[socks]->gdown>=3.10.1->craft-text-detector==0.4.2->spark-ocr==4.1.0) (2.10)\n",
      "Requirement already satisfied: PySocks!=1.5.7,>=1.5.6 in /usr/local/lib/python3.8/dist-packages (from requests[socks]->gdown>=3.10.1->craft-text-detector==0.4.2->spark-ocr==4.1.0) (1.7.1)\n"
     ]
    }
   ],
   "source": [
    "!pip install transformers\n",
    "\n",
    "# Installing pyspark and spark-nlp\n",
    "%pip install --upgrade -q pyspark==3.2.1 spark-nlp==$PUBLIC_VERSION\n",
    "\n",
    "# Installing Spark OCR\n",
    "#! pip uninstall spark-ocr -Y\n",
    "%pip install spark-ocr==$OCR_VERSION --extra-index-url=https://pypi.johnsnowlabs.com/$SPARK_OCR_SECRET --upgrade"
   ]
  },
  {
   "cell_type": "markdown",
   "source": [
    "<b><h1><font color='darkred'>!!! ATTENTION !!! </font><h1><b>\n",
    "\n",
    "<b>After running previous cell, <font color='darkred'>RESTART the COLAB RUNTIME </font> and go ahead.<b>"
   ],
   "metadata": {
    "collapsed": false
   }
  },
  {
   "cell_type": "code",
   "execution_count": null,
   "id": "1a977b2d",
   "metadata": {
    "id": "1a977b2d"
   },
   "outputs": [],
   "source": [
    "import json, os\n",
    "\n",
    "with open(\"spark_ocr.json\", 'r') as f:\n",
    "  license_keys = json.load(f)\n",
    "\n",
    "# Adding license key-value pairs to environment variables\n",
    "os.environ.update(license_keys)\n",
    "\n",
    "# Defining license key-value pairs as local variables\n",
    "locals().update(license_keys)"
   ]
  },
  {
   "cell_type": "code",
   "execution_count": null,
   "id": "b058327b",
   "metadata": {
    "id": "b058327b"
   },
   "outputs": [],
   "source": [
    "import pkg_resources\n",
    "\n",
    "from pyspark.ml import PipelineModel\n",
    "import pyspark.sql.functions as f\n",
    "\n",
    "from sparkocr import start\n",
    "from sparkocr.transformers import *\n",
    "from sparkocr.enums import *\n",
    "from sparkocr.utils import *\n",
    "from sparkocr.metrics import score"
   ]
  },
  {
   "cell_type": "code",
   "execution_count": null,
   "id": "6e3fe8f4",
   "metadata": {
    "colab": {
     "base_uri": "https://localhost:8080/"
    },
    "id": "6e3fe8f4",
    "executionInfo": {
     "status": "ok",
     "timestamp": 1673278750103,
     "user_tz": -60,
     "elapsed": 25733,
     "user": {
      "displayName": "Emilio Gómez García",
      "userId": "12452742652222446865"
     }
    },
    "outputId": "77458600-0f2c-4d4d-87b6-66bab25495b3"
   },
   "outputs": [
    {
     "output_type": "stream",
     "name": "stdout",
     "text": [
      "Spark version: 3.2.1\n",
      "Spark NLP version: 4.1.0\n",
      "Spark OCR version: 4.1.0\n",
      "\n"
     ]
    }
   ],
   "source": [
    "# Start spark\n",
    "spark = start(secret=SPARK_OCR_SECRET, nlp_version=PUBLIC_VERSION)"
   ]
  },
  {
   "cell_type": "markdown",
   "id": "a4917364",
   "metadata": {
    "id": "a4917364"
   },
   "source": [
    "# Read image and display it"
   ]
  },
  {
   "cell_type": "code",
   "execution_count": null,
   "id": "497c4c65",
   "metadata": {
    "id": "497c4c65"
   },
   "outputs": [],
   "source": [
    "!wget -q https://github.com/JohnSnowLabs/spark-ocr-workshop/raw/4.0.0-release-candidate/jupyter/data/handwritten/handwritten_example.jpg"
   ]
  },
  {
   "cell_type": "code",
   "execution_count": null,
   "id": "1a26ab28",
   "metadata": {
    "colab": {
     "base_uri": "https://localhost:8080/",
     "height": 1000,
     "output_embedded_package_id": "1v3NNMc04v9HS0fSNtLNCKandZFFu_gqR"
    },
    "id": "1a26ab28",
    "executionInfo": {
     "status": "ok",
     "timestamp": 1673278780390,
     "user_tz": -60,
     "elapsed": 29578,
     "user": {
      "displayName": "Emilio Gómez García",
      "userId": "12452742652222446865"
     }
    },
    "outputId": "056ed69b-5f5b-41a4-df7b-68dcb5529b8f"
   },
   "outputs": [
    {
     "output_type": "display_data",
     "data": {
      "text/plain": "Output hidden; open in https://colab.research.google.com to view."
     },
     "metadata": {}
    }
   ],
   "source": [
    "imagePath = 'handwritten_example.jpg'\n",
    "image_df = spark.read.format(\"binaryFile\").load(imagePath)\n",
    "\n",
    "display_images(BinaryToImage().setImageType(ImageType.TYPE_3BYTE_BGR).transform(image_df), \"image\")"
   ]
  },
  {
   "cell_type": "markdown",
   "id": "beb33712",
   "metadata": {
    "id": "beb33712"
   },
   "source": [
    "# Define OCR Pipeline for detect and recognize text "
   ]
  },
  {
   "cell_type": "code",
   "execution_count": null,
   "id": "9fe25c2e",
   "metadata": {
    "colab": {
     "base_uri": "https://localhost:8080/"
    },
    "id": "9fe25c2e",
    "executionInfo": {
     "status": "ok",
     "timestamp": 1673279087945,
     "user_tz": -60,
     "elapsed": 4205,
     "user": {
      "displayName": "Emilio Gómez García",
      "userId": "12452742652222446865"
     }
    },
    "outputId": "2dfa84e0-576a-477a-f20d-7e225f2f37ec"
   },
   "outputs": [
    {
     "output_type": "stream",
     "name": "stdout",
     "text": [
      "image_text_detector_v2 download started this may take some time.\n",
      "Approximate size to download 75.3 MB\n",
      "ocr_small_handwritten download started this may take some time.\n",
      "Approximate size to download 139.9 MB\n"
     ]
    }
   ],
   "source": [
    "binary_to_image = BinaryToImage() \n",
    "binary_to_image.setImageType(ImageType.TYPE_3BYTE_BGR)\n",
    "\n",
    "text_detector = ImageTextDetectorV2 \\\n",
    "    .pretrained(\"image_text_detector_v2\", \"en\", \"clinical/ocr\") \\\n",
    "    .setInputCol(\"image\") \\\n",
    "    .setOutputCol(\"text_regions\") \\\n",
    "    .setWithRefiner(True) \\\n",
    "    .setSizeThreshold(-1) \\\n",
    "    .setLinkThreshold(0.3) \\\n",
    "    .setWidth(500)\n",
    "\n",
    "ocr = ImageToTextV2.pretrained(\"ocr_small_handwritten\", \"en\", \"clinical/ocr\") \\\n",
    "    .setInputCols([\"image\", \"text_regions\"]) \\\n",
    "    .setGroupImages(True) \\\n",
    "    .setOutputCol(\"text\")\n",
    "\n",
    "draw_regions = ImageDrawRegions() \\\n",
    "    .setInputCol(\"image\") \\\n",
    "    .setInputRegionsCol(\"text_regions\") \\\n",
    "    .setOutputCol(\"image_with_regions\") \\\n",
    "    .setRectColor(Color.green) \\\n",
    "    .setRotated(True)\n",
    "\n",
    "pipeline = PipelineModel(stages=[\n",
    "    binary_to_image,\n",
    "    text_detector,\n",
    "    ocr,\n",
    "    draw_regions\n",
    "])"
   ]
  },
  {
   "cell_type": "markdown",
   "id": "8290f690",
   "metadata": {
    "id": "8290f690"
   },
   "source": [
    "# Run pipeline and show results"
   ]
  },
  {
   "cell_type": "code",
   "execution_count": null,
   "id": "320be88c",
   "metadata": {
    "colab": {
     "base_uri": "https://localhost:8080/",
     "height": 1000,
     "output_embedded_package_id": "1D-fgf4JOAdtGJocb2oyG3FFOwy0VEC2j"
    },
    "id": "320be88c",
    "executionInfo": {
     "status": "ok",
     "timestamp": 1673279215031,
     "user_tz": -60,
     "elapsed": 120295,
     "user": {
      "displayName": "Emilio Gómez García",
      "userId": "12452742652222446865"
     }
    },
    "outputId": "a4ba92f2-64e8-48fa-8edd-5085c3268724"
   },
   "outputs": [
    {
     "output_type": "display_data",
     "data": {
      "text/plain": "Output hidden; open in https://colab.research.google.com to view."
     },
     "metadata": {}
    }
   ],
   "source": [
    "result = pipeline.transform(image_df).cache()\n",
    "display_images(result, \"image_with_regions\")\n",
    "print((\"\").join([x.text for x in result.select(\"text\").collect()]))"
   ]
  }
 ],
 "metadata": {
  "kernelspec": {
   "display_name": "Python 3",
   "language": "python",
   "name": "python3"
  },
  "language_info": {
   "codemirror_mode": {
    "name": "ipython",
    "version": 3
   },
   "file_extension": ".py",
   "mimetype": "text/x-python",
   "name": "python",
   "nbconvert_exporter": "python",
   "pygments_lexer": "ipython3",
   "version": "3.9.1 (tags/v3.9.1:1e5d33e, Dec  7 2020, 17:08:21) [MSC v.1927 64 bit (AMD64)]"
  },
  "vscode": {
   "interpreter": {
    "hash": "7631773df7a20f76ce0129852d6286a048d5c426a0098a673052d93f81596669"
   }
  },
  "colab": {
   "provenance": []
  }
 },
 "nbformat": 4,
 "nbformat_minor": 5
}
