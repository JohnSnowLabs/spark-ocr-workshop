{
 "cells": [
  {
   "cell_type": "markdown",
   "metadata": {
    "id": "lS_nUbuJKS-S",
    "pycharm": {
     "name": "#%% md\n"
    }
   },
   "source": [
    "# Example of usage ImageAdaptiveThresholding and  ImageAdaptiveBinarizer transformers"
   ]
  },
  {
   "cell_type": "markdown",
   "metadata": {
    "id": "TionG_3fKS-U",
    "pycharm": {
     "name": "#%% md\n"
    }
   },
   "source": [
    "## Install spark-ocr python packge\n",
    "Need specify path to `spark-ocr-assembly-[version].jar` or `secret`"
   ]
  },
  {
   "cell_type": "code",
   "execution_count": 1,
   "metadata": {
    "id": "8wXCorTNKS-V",
    "pycharm": {
     "name": "#%%\n"
    }
   },
   "outputs": [],
   "source": [
    "secret = \"\"\n",
    "license = \"\"\n",
    "version = secret.split(\"-\")[0]\n",
    "spark_ocr_jar_path = \"../../target/scala-2.11\""
   ]
  },
  {
   "cell_type": "code",
   "execution_count": null,
   "metadata": {
    "colab": {
     "base_uri": "https://localhost:8080/"
    },
    "id": "Q6Dj7PDbKS-V",
    "outputId": "a341f298-3819-40db-81e5-3c3250c410ec",
    "pycharm": {
     "name": "#%%\n"
    }
   },
   "outputs": [],
   "source": [
    "# install from PYPI using secret\n",
    "%pip install spark-ocr==$version+spark32 --extra-index-url=https://pypi.johnsnowlabs.com/$secret --upgrade"
   ]
  },
  {
   "cell_type": "code",
   "execution_count": null,
   "metadata": {
    "pycharm": {
     "name": "#%%\n"
    }
   },
   "outputs": [],
   "source": [
    "%pip install spark-nlp==3.4.0"
   ]
  },
  {
   "cell_type": "code",
   "execution_count": 4,
   "metadata": {
    "id": "e94kMdfqKS-W",
    "pycharm": {
     "name": "#%%\n"
    }
   },
   "outputs": [],
   "source": [
    "#or install from local path\n",
    "#%pip install ../../python/dist/spark-ocr-3.9.0+spark30.tar.gz"
   ]
  },
  {
   "cell_type": "markdown",
   "metadata": {
    "id": "V0gOldUCKS-W",
    "pycharm": {
     "name": "#%% md\n"
    }
   },
   "source": [
    "## Initialization of spark session"
   ]
  },
  {
   "cell_type": "code",
   "execution_count": null,
   "metadata": {
    "colab": {
     "base_uri": "https://localhost:8080/"
    },
    "id": "rKXRWy7OKS-X",
    "outputId": "98ff2382-2c7a-4ec9-ee6f-7e780094fab0",
    "pycharm": {
     "name": "#%%\n"
    }
   },
   "outputs": [],
   "source": [
    "from sparkocr import info\n",
    "info()"
   ]
  },
  {
   "cell_type": "code",
   "execution_count": null,
   "metadata": {
    "colab": {
     "base_uri": "https://localhost:8080/",
     "height": 289
    },
    "id": "T5JcRWb2KS-X",
    "outputId": "250d0adb-427e-40cc-ebf3-f17025c9a445",
    "pycharm": {
     "name": "#%%\n"
    }
   },
   "outputs": [],
   "source": [
    "from pyspark.sql import SparkSession\n",
    "from sparkocr import start\n",
    "import sys\n",
    "import os\n",
    "\n",
    "if license:\n",
    "    os.environ['JSL_OCR_LICENSE'] = license\n",
    "\n",
    "spark = start(secret=secret, jar_path=spark_ocr_jar_path)\n",
    "spark"
   ]
  },
  {
   "cell_type": "markdown",
   "metadata": {
    "id": "t-XtrWSDKS-X",
    "pycharm": {
     "name": "#%% md\n"
    }
   },
   "source": [
    "## Import OCR transformers"
   ]
  },
  {
   "cell_type": "code",
   "execution_count": null,
   "metadata": {
    "id": "J1Css1dlKS-Y",
    "pycharm": {
     "name": "#%%\n"
    }
   },
   "outputs": [],
   "source": [
    "from pyspark.ml import PipelineModel\n",
    "\n",
    "from sparkocr.transformers import *\n",
    "from sparkocr.enums import *\n",
    "from sparkocr.utils import display_image"
   ]
  },
  {
   "cell_type": "markdown",
   "metadata": {
    "id": "oRmR4MusKS-Z",
    "pycharm": {
     "name": "#%% md\n"
    }
   },
   "source": [
    "## Read PDF document as binary file"
   ]
  },
  {
   "cell_type": "code",
   "execution_count": null,
   "metadata": {
    "id": "SIXyJB66KS-Z",
    "pycharm": {
     "name": "#%%\n"
    }
   },
   "outputs": [],
   "source": [
    "!wget -q https://raw.githubusercontent.com/JohnSnowLabs/spark-ocr-workshop/master/jupyter/data/images/text_with_noise.png"
   ]
  },
  {
   "cell_type": "code",
   "execution_count": null,
   "metadata": {
    "id": "0PEOHd9PKS-Z",
    "pycharm": {
     "name": "#%%\n"
    }
   },
   "outputs": [],
   "source": [
    "image_example = \"text_with_noise.png\"\n",
    "image_example_df = spark.read.format(\"binaryFile\").load(image_example).cache()"
   ]
  },
  {
   "cell_type": "markdown",
   "metadata": {
    "pycharm": {
     "name": "#%% md\n"
    }
   },
   "source": [
    "## Define transformers and pipeline"
   ]
  },
  {
   "cell_type": "code",
   "execution_count": null,
   "metadata": {
    "id": "pTwlFOQCKS-Y",
    "pycharm": {
     "name": "#%%\n"
    }
   },
   "outputs": [],
   "source": [
    "illumination_homogenized = DocQualityClassifier() \\\n",
    "    .setInputCol(\"image\") \\\n",
    "    .setOutputCol(\"quality\")\n",
    "\n",
    "pipeline = PipelineModel(stages=[\n",
    "    illumination_homogenized\n",
    "])"
   ]
  },
  {
   "cell_type": "markdown",
   "metadata": {
    "id": "jOCD9jh9KS-Z",
    "pycharm": {
     "name": "#%% md\n"
    }
   },
   "source": [
    "## Execution"
   ]
  },
  {
   "cell_type": "code",
   "execution_count": null,
   "metadata": {
    "colab": {
     "base_uri": "https://localhost:8080/",
     "height": 618
    },
    "id": "UWj890wjKS-Z",
    "outputId": "289b18d3-e93a-4bef-9024-7aafdb7f1d24",
    "pycharm": {
     "name": "#%%\n"
    }
   },
   "outputs": [],
   "source": [
    "for r in pipeline.transform(image_example_df).select(\"image\", \"quality\").collect():\n",
    "    display_image(r.image)\n",
    "    print(f\"Document quality (1/bad - 5/good) = {r.quality}\")"
   ]
  }
 ],
 "metadata": {
  "colab": {
   "collapsed_sections": [],
   "name": "SparkOcrAdaptiveThresholding.ipynb",
   "provenance": []
  },
  "kernelspec": {
   "display_name": "Python 3 (ipykernel)",
   "language": "python",
   "name": "python3"
  },
  "language_info": {
   "codemirror_mode": {
    "name": "ipython",
    "version": 3
   },
   "file_extension": ".py",
   "mimetype": "text/x-python",
   "name": "python",
   "nbconvert_exporter": "python",
   "pygments_lexer": "ipython3",
   "version": "3.9.1"
  },
  "vscode": {
   "interpreter": {
    "hash": "7631773df7a20f76ce0129852d6286a048d5c426a0098a673052d93f81596669"
   }
  }
 },
 "nbformat": 4,
 "nbformat_minor": 1
}