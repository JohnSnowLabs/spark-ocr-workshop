{
 "cells": [
  {
   "cell_type": "markdown",
   "source": [
    "# Example of usage Spark OCR for Handwritten Text Recognition"
   ],
   "metadata": {}
  },
  {
   "cell_type": "markdown",
   "source": [
    "## Install spark-ocr python packge\n",
    "Need to specify:\n",
    "- secret\n",
    "- license\n",
    "- aws credentials"
   ],
   "metadata": {}
  },
  {
   "cell_type": "code",
   "execution_count": 6,
   "source": [
    "secret = \"\"\n",
    "license = \"\"\n",
    "AWS_ACCESS_KEY_ID = \"\"\n",
    "AWS_SECRET_ACCESS_KEY = \"\"\n",
    "\n",
    "version = secret.split(\"-\")[0]\n",
    "spark_ocr_jar_path = \"../../target/scala-2.11\"\n",
    "imagePath = \"./data/handwritten/test_2907.png\""
   ],
   "outputs": [],
   "metadata": {
    "execution": {
     "iopub.execute_input": "2021-06-15T23:51:58.331238Z",
     "iopub.status.busy": "2021-06-15T23:51:58.330333Z",
     "iopub.status.idle": "2021-06-15T23:51:58.332742Z",
     "shell.execute_reply": "2021-06-15T23:51:58.333275Z"
    },
    "pycharm": {
     "name": "#%%\n"
    }
   }
  },
  {
   "cell_type": "code",
   "execution_count": 11,
   "source": [
    "%%bash\n",
    "if python -c 'import google.colab' &> /dev/null; then\n",
    "    echo \"Run on Google Colab!\"\n",
    "    echo \"Install Open JDK\"\n",
    "    apt-get install -y openjdk-8-jdk-headless -qq > /dev/null\n",
    "    java -version\n",
    "fi"
   ],
   "outputs": [],
   "metadata": {
    "execution": {
     "iopub.execute_input": "2021-06-15T23:51:58.340027Z",
     "iopub.status.busy": "2021-06-15T23:51:58.339116Z",
     "iopub.status.idle": "2021-06-15T23:51:58.373715Z",
     "shell.execute_reply": "2021-06-15T23:51:58.374256Z"
    },
    "pycharm": {
     "name": "#%%\n"
    }
   }
  },
  {
   "cell_type": "code",
   "execution_count": null,
   "source": [
    "import os\n",
    "import sys\n",
    "\n",
    "if AWS_ACCESS_KEY_ID != \"\":\n",
    "    os.environ[\"AWS_ACCESS_KEY_ID\"] = AWS_ACCESS_KEY_ID\n",
    "    os.environ[\"AWS_SECRET_ACCESS_KEY\"] = AWS_SECRET_ACCESS_KEY\n",
    "    \n",
    "if license:\n",
    "    os.environ['JSL_OCR_LICENSE'] = license\n",
    "    \n",
    "if 'google.colab' in sys.modules:\n",
    "  os.environ[\"JAVA_HOME\"] = \"/usr/lib/jvm/java-8-openjdk-amd64\"\n",
    "  os.environ[\"PATH\"] = os.environ[\"JAVA_HOME\"] + \"/bin:\" + os.environ[\"PATH\"]"
   ],
   "outputs": [],
   "metadata": {
    "execution": {
     "iopub.execute_input": "2021-06-15T23:51:58.380578Z",
     "iopub.status.busy": "2021-06-15T23:51:58.379679Z",
     "iopub.status.idle": "2021-06-15T23:51:58.381970Z",
     "shell.execute_reply": "2021-06-15T23:51:58.382523Z"
    },
    "pycharm": {
     "name": "#%%\n"
    }
   }
  },
  {
   "cell_type": "code",
   "execution_count": 1,
   "source": [
    "#%pip install ../../python/dist/spark-ocr-3.7.0+spark30.tar.gz"
   ],
   "outputs": [],
   "metadata": {
    "scrolled": true
   }
  },
  {
   "cell_type": "markdown",
   "source": [
    "## Initialization of spark session\n",
    "Need specify path to `spark-ocr-assembly.jar` or `secret`"
   ],
   "metadata": {}
  },
  {
   "cell_type": "code",
   "execution_count": 21,
   "source": [
    "from pyspark import SparkConf\n",
    "from sparkocr import start\n",
    "\n",
    "spark = start(secret=secret, jar_path = spark_ocr_jar_path, nlp_version=\"3.0.3\")\n",
    "spark"
   ],
   "outputs": [
    {
     "output_type": "stream",
     "name": "stdout",
     "text": [
      "Spark version: 3.0.2\n",
      "Spark NLP version: 2.5.5\n",
      "Spark OCR version: 3.7.0\n",
      "\n"
     ]
    },
    {
     "output_type": "execute_result",
     "data": {
      "text/plain": [
       "<pyspark.sql.session.SparkSession at 0x10fd75b10>"
      ],
      "text/html": [
       "\n",
       "            <div>\n",
       "                <p><b>SparkSession - in-memory</b></p>\n",
       "                \n",
       "        <div>\n",
       "            <p><b>SparkContext</b></p>\n",
       "\n",
       "            <p><a href=\"http://chicos-mbp.hub:4040\">Spark UI</a></p>\n",
       "\n",
       "            <dl>\n",
       "              <dt>Version</dt>\n",
       "                <dd><code>v3.0.2</code></dd>\n",
       "              <dt>Master</dt>\n",
       "                <dd><code>local[*]</code></dd>\n",
       "              <dt>AppName</dt>\n",
       "                <dd><code>Spark OCR</code></dd>\n",
       "            </dl>\n",
       "        </div>\n",
       "        \n",
       "            </div>\n",
       "        "
      ]
     },
     "metadata": {},
     "execution_count": 21
    }
   ],
   "metadata": {
    "execution": {
     "iopub.execute_input": "2021-06-15T23:51:58.387039Z",
     "iopub.status.busy": "2021-06-15T23:51:58.386336Z",
     "iopub.status.idle": "2021-06-15T23:52:05.516939Z",
     "shell.execute_reply": "2021-06-15T23:52:05.517473Z"
    },
    "pycharm": {
     "name": "#%%\n"
    },
    "scrolled": true
   }
  },
  {
   "cell_type": "code",
   "execution_count": 22,
   "source": [
    "spark.sparkContext.setLogLevel(\"ERROR\")"
   ],
   "outputs": [],
   "metadata": {}
  },
  {
   "cell_type": "markdown",
   "source": [
    "## Read images and display it"
   ],
   "metadata": {}
  },
  {
   "cell_type": "code",
   "execution_count": 23,
   "source": [
    "from pyspark.ml import PipelineModel\n",
    "import pyspark.sql.functions as f\n",
    "from sparkocr.transformers import *\n",
    "from sparkocr.enums import *\n",
    "from sparkocr.utils import display_images\n",
    "\n",
    "image_df = spark.read.format(\"binaryFile\").load(imagePath)\n",
    "\n",
    "display_images(BinaryToImage().transform(image_df), \"image\")"
   ],
   "outputs": [
    {
     "output_type": "stream",
     "name": "stdout",
     "text": [
      "\n",
      "    Image #0:\n",
      "    Origin: file:/Users/chico/IdeaProjects/spark-ocr/workshop/jupyter/data/handwritten/test_2907.png\n",
      "    Resolution: 0 dpi\n",
      "    Width: 873 px\n",
      "    Height: 66 px\n",
      "    Mode: ImageType.TYPE_BYTE_GRAY\n",
      "    Number of channels: 1\n"
     ]
    },
    {
     "output_type": "display_data",
     "data": {
      "text/plain": [
       "<PIL.Image.Image image mode=L size=873x66 at 0x1446873D0>"
      ],
      "image/png": "[encoded data removed]"
     },
     "metadata": {
      "width": 600
     }
    }
   ],
   "metadata": {
    "execution": {
     "iopub.execute_input": "2021-06-15T23:52:05.523049Z",
     "iopub.status.busy": "2021-06-15T23:52:05.522301Z",
     "iopub.status.idle": "2021-06-15T23:52:07.571074Z",
     "shell.execute_reply": "2021-06-15T23:52:07.571616Z"
    },
    "scrolled": true
   }
  },
  {
   "cell_type": "markdown",
   "source": [
    "## Define OCR Pipeline"
   ],
   "metadata": {}
  },
  {
   "cell_type": "code",
   "execution_count": 24,
   "source": [
    "binary_to_image = BinaryToImage()\n",
    "binary_to_image.setImageType(10)\n",
    "\n",
    "pretrained_model = (\"image_handwritten_text_recognition_span0819\", \"en\", \"public/ocr/models\")\n",
    "recoginzer = ImageHandwrittenTextRecognizer() \\\n",
    "    .pretrained(*pretrained_model) \\\n",
    "    .setInputCol(\"image\") \\\n",
    "    .setOutputCol(\"handwritten_text\")\n",
    "\n",
    "pipeline = PipelineModel(stages=[\n",
    "    binary_to_image,\n",
    "    recoginzer\n",
    "])\n",
    "\n",
    "result = pipeline.transform(image_df)"
   ],
   "outputs": [
    {
     "output_type": "stream",
     "name": "stdout",
     "text": [
      "image_handwritten_text_recognition_span0819 download started this may take some time.\n",
      "Approximate size to download 64.3 MB\n"
     ]
    }
   ],
   "metadata": {
    "execution": {
     "iopub.execute_input": "2021-06-15T23:52:07.577569Z",
     "iopub.status.busy": "2021-06-15T23:52:07.576769Z",
     "iopub.status.idle": "2021-06-15T23:52:14.980675Z",
     "shell.execute_reply": "2021-06-15T23:52:14.981707Z"
    }
   }
  },
  {
   "cell_type": "markdown",
   "source": [
    "## Run pipeline and show results"
   ],
   "metadata": {}
  },
  {
   "cell_type": "code",
   "execution_count": 25,
   "source": [
    "result.printSchema()"
   ],
   "outputs": [
    {
     "output_type": "stream",
     "name": "stdout",
     "text": [
      "root\n",
      " |-- image: struct (nullable = true)\n",
      " |    |-- origin: string (nullable = true)\n",
      " |    |-- height: integer (nullable = false)\n",
      " |    |-- width: integer (nullable = false)\n",
      " |    |-- nChannels: integer (nullable = false)\n",
      " |    |-- mode: integer (nullable = false)\n",
      " |    |-- resolution: integer (nullable = false)\n",
      " |    |-- data: binary (nullable = true)\n",
      " |-- path: string (nullable = true)\n",
      " |-- modificationTime: timestamp (nullable = true)\n",
      " |-- length: long (nullable = true)\n",
      " |-- pagenum: integer (nullable = true)\n",
      " |-- handwritten_text: string (nullable = true)\n",
      " |-- exception: string (nullable = true)\n",
      "\n"
     ]
    }
   ],
   "metadata": {
    "scrolled": true
   }
  },
  {
   "cell_type": "code",
   "execution_count": 26,
   "source": [
    "result.select(\"handwritten_text\").show(truncate=False)"
   ],
   "outputs": [
    {
     "output_type": "stream",
     "name": "stdout",
     "text": [
      "+----------------------------------------------+\n",
      "|handwritten_text                              |\n",
      "+----------------------------------------------+\n",
      "|a grey superimposstion of sespecteebality oven|\n",
      "+----------------------------------------------+\n",
      "\n"
     ]
    }
   ],
   "metadata": {
    "scrolled": false
   }
  },
  {
   "cell_type": "code",
   "execution_count": 27,
   "source": [
    "assert( result.count() > 0 )"
   ],
   "outputs": [],
   "metadata": {}
  }
 ],
 "metadata": {
  "kernelspec": {
   "display_name": "ocr-spark23",
   "language": "python",
   "name": "ocr-spark23"
  },
  "language_info": {
   "codemirror_mode": {
    "name": "ipython",
    "version": 3
   },
   "file_extension": ".py",
   "mimetype": "text/x-python",
   "name": "python",
   "nbconvert_exporter": "python",
   "pygments_lexer": "ipython3",
   "version": "3.7.10"
  }
 },
 "nbformat": 4,
 "nbformat_minor": 2
}