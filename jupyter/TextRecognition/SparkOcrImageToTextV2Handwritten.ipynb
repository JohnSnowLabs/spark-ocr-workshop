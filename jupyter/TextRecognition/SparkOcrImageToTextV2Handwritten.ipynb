{
 "cells": [
  {
   "cell_type": "markdown",
   "id": "688a7e0b",
   "metadata": {},
   "source": [
    "# Example of usage Spark OCR for Handwritten Text Recognition by ImageToTextV2\n",
    "\n",
    "This notebook demonstrate pipeline for detect handwritten text using __ImageTextDetectorV2__ and text recognition using __ImageToTextV2__ on the image."
   ]
  },
  {
   "cell_type": "markdown",
   "id": "162c0f0a",
   "metadata": {},
   "source": [
    "## Install spark-ocr python packge\n",
    "Need to specify:\n",
    "- secret\n",
    "- license\n",
    "- aws credentials"
   ]
  },
  {
   "cell_type": "code",
   "execution_count": 1,
   "id": "a2784c0e",
   "metadata": {},
   "outputs": [],
   "source": [
    "secret = \"\"\n",
    "license = \"\"\n",
    "AWS_ACCESS_KEY_ID = \"\"\n",
    "AWS_SECRET_ACCESS_KEY = \"\"\n",
    "\n",
    "version = secret.split(\"-\")[0]\n",
    "spark_ocr_jar_path = \"../../../target/scala-2.11/\""
   ]
  },
  {
   "cell_type": "code",
   "execution_count": null,
   "id": "82868dd3",
   "metadata": {},
   "outputs": [],
   "source": [
    "# install from PYPI using secret\n",
    "%pip install torch\n",
    "%pip install transformers==4.16.2\n",
    "%pip install spark-ocr==$version+spark30 --extra-index-url=https://pypi.johnsnowlabs.com/$secret --upgrade"
   ]
  },
  {
   "cell_type": "markdown",
   "id": "98eee88b",
   "metadata": {},
   "source": [
    "## Initialization of spark session"
   ]
  },
  {
   "cell_type": "code",
   "execution_count": 2,
   "id": "47e9b700",
   "metadata": {},
   "outputs": [
    {
     "name": "stdout",
     "output_type": "stream",
     "text": [
      "Spark version: 3.0.2\n",
      "Spark OCR version: 3.12.0\n",
      "\n"
     ]
    },
    {
     "data": {
      "text/html": [
       "\n",
       "            <div>\n",
       "                <p><b>SparkSession - in-memory</b></p>\n",
       "                \n",
       "        <div>\n",
       "            <p><b>SparkContext</b></p>\n",
       "\n",
       "            <p><a href=\"http://192.168.1.34:4044\">Spark UI</a></p>\n",
       "\n",
       "            <dl>\n",
       "              <dt>Version</dt>\n",
       "                <dd><code>v3.0.2</code></dd>\n",
       "              <dt>Master</dt>\n",
       "                <dd><code>local[*]</code></dd>\n",
       "              <dt>AppName</dt>\n",
       "                <dd><code>Spark OCR</code></dd>\n",
       "            </dl>\n",
       "        </div>\n",
       "        \n",
       "            </div>\n",
       "        "
      ],
      "text/plain": [
       "<pyspark.sql.session.SparkSession at 0x15d4674d0>"
      ]
     },
     "execution_count": 2,
     "metadata": {},
     "output_type": "execute_result"
    }
   ],
   "source": [
    "from sparkocr import start\n",
    "\n",
    "spark = start(secret=secret, jar_path = spark_ocr_jar_path)\n",
    "\n",
    "spark"
   ]
  },
  {
   "cell_type": "markdown",
   "id": "a4917364",
   "metadata": {},
   "source": [
    "# Read image and display it"
   ]
  },
  {
   "cell_type": "code",
   "execution_count": 3,
   "id": "1aac5ea5",
   "metadata": {},
   "outputs": [],
   "source": [
    "import pkg_resources\n",
    "import pyspark.sql.functions as f\n",
    "from pyspark.ml import PipelineModel\n",
    "from sparkocr.transformers import *\n",
    "from sparkocr.enums import *\n",
    "from sparkocr.utils import display_images"
   ]
  },
  {
   "cell_type": "code",
   "execution_count": 7,
   "id": "1a26ab28",
   "metadata": {},
   "outputs": [
    {
     "name": "stdout",
     "output_type": "stream",
     "text": [
      "\n",
      "    Image #0:\n",
      "    Origin: file:/Users/nmelnik/IdeaProjects/spark-ocr/workshop/jupyter/data/handwritten/test.png\n",
      "    Resolution: 0 dpi\n",
      "    Width: 543 px\n",
      "    Height: 205 px\n",
      "    Mode: ImageType.TYPE_3BYTE_BGR\n",
      "    Number of channels: 3\n"
     ]
    },
    {
     "data": {
      "image/png": "[encoded data removed]",
      "text/plain": [
       "<PIL.Image.Image image mode=RGB size=543x205 at 0x187041B50>"
      ]
     },
     "metadata": {
      "width": 600
     },
     "output_type": "display_data"
    }
   ],
   "source": [
    "imagePath = '../data/handwritten/test.png'\n",
    "image_df = spark.read.format(\"binaryFile\").load(imagePath)\n",
    "\n",
    "display_images(BinaryToImage().setImageType(ImageType.TYPE_3BYTE_BGR).transform(image_df), \"image\")"
   ]
  },
  {
   "cell_type": "markdown",
   "id": "beb33712",
   "metadata": {},
   "source": [
    "# Define OCR Pipeline for detect and recognize text "
   ]
  },
  {
   "cell_type": "code",
   "execution_count": 15,
   "id": "9fe25c2e",
   "metadata": {},
   "outputs": [
    {
     "name": "stdout",
     "output_type": "stream",
     "text": [
      "image_text_detector_v2 download started this may take some time.\n",
      "Approximate size to download 75.3 MB\n",
      "ocr_small_handwritten download started this may take some time.\n",
      "Approximate size to download 139.9 MB\n"
     ]
    }
   ],
   "source": [
    "binary_to_image = BinaryToImage() \n",
    "binary_to_image.setImageType(ImageType.TYPE_3BYTE_BGR)\n",
    "\n",
    "text_detector = ImageTextDetectorV2 \\\n",
    "    .pretrained(\"image_text_detector_v2\", \"en\", \"clinical/ocr\") \\\n",
    "    .setInputCol(\"image\") \\\n",
    "    .setOutputCol(\"text_regions\") \\\n",
    "    .setWithRefiner(True) \\\n",
    "    .setSizeThreshold(10)\n",
    "\n",
    "ocr = ImageToTextV2.pretrained(\"ocr_small_handwritten\", \"en\", \"clinical/ocr\") \\\n",
    "    .setInputCols([\"image\", \"text_regions\"]) \\\n",
    "    .setGroupImages(True) \\\n",
    "    .setOutputCol(\"text\")\n",
    "\n",
    "draw_regions = ImageDrawRegions() \\\n",
    "    .setInputCol(\"image\") \\\n",
    "    .setInputRegionsCol(\"text_regions\") \\\n",
    "    .setOutputCol(\"image_with_regions\") \\\n",
    "    .setRectColor(Color.green) \\\n",
    "    .setRotated(True)\n",
    "\n",
    "pipeline = PipelineModel(stages=[\n",
    "    binary_to_image,\n",
    "    text_detector,\n",
    "    ocr,\n",
    "    draw_regions\n",
    "])"
   ]
  },
  {
   "cell_type": "markdown",
   "id": "8290f690",
   "metadata": {},
   "source": [
    "# Run pipeline and show results"
   ]
  },
  {
   "cell_type": "code",
   "execution_count": 16,
   "id": "320be88c",
   "metadata": {},
   "outputs": [
    {
     "name": "stdout",
     "output_type": "stream",
     "text": [
      "\n",
      "    Image #0:\n",
      "    Origin: file:/Users/nmelnik/IdeaProjects/spark-ocr/workshop/jupyter/data/handwritten/test.png\n",
      "    Resolution: 0 dpi\n",
      "    Width: 543 px\n",
      "    Height: 205 px\n",
      "    Mode: ImageType.TYPE_3BYTE_BGR\n",
      "    Number of channels: 3\n"
     ]
    },
    {
     "data": {
      "image/png": "[encoded data removed]",
      "text/plain": [
       "<PIL.Image.Image image mode=RGB size=543x205 at 0x1870F9E10>"
      ]
     },
     "metadata": {
      "width": 600
     },
     "output_type": "display_data"
    },
    {
     "name": "stdout",
     "output_type": "stream",
     "text": [
      "In mid-appil. Anglosey\n",
      "removed his family and\n",
      "tentourage from Rome to Naples,\n",
      "there to await if the arrival\n"
     ]
    }
   ],
   "source": [
    "result = pipeline.transform(image_df).cache()\n",
    "display_images(result, \"image_with_regions\")\n",
    "print((\"\").join([x.text for x in result.select(\"text\").collect()]))"
   ]
  }
 ],
 "metadata": {
  "kernelspec": {
   "display_name": "Python 3",
   "language": "python",
   "name": "python3"
  },
  "language_info": {
   "codemirror_mode": {
    "name": "ipython",
    "version": 3
   },
   "file_extension": ".py",
   "mimetype": "text/x-python",
   "name": "python",
   "nbconvert_exporter": "python",
   "pygments_lexer": "ipython3",
   "version": "3.7.9"
  }
 },
 "nbformat": 4,
 "nbformat_minor": 5
}
