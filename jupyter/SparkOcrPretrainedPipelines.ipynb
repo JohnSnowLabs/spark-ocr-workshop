{
 "cells": [
  {
   "cell_type": "markdown",
   "metadata": {
    "id": "lS_nUbuJKS-S"
   },
   "source": [
    "# Example of Pretrained Pipelines"
   ]
  },
  {
   "cell_type": "markdown",
   "metadata": {
    "id": "TionG_3fKS-U"
   },
   "source": [
    "## Install spark-ocr python packge\n",
    "Need specify path to `spark-ocr-assembly-[version].jar` or `secret`"
   ]
  },
  {
   "cell_type": "code",
   "execution_count": 1,
   "metadata": {
    "id": "8wXCorTNKS-V"
   },
   "outputs": [],
   "source": [
    "secret = \"\"\n",
    "license = \"\"\n",
    "version = secret.split(\"-\")[0]\n",
    "spark_ocr_jar_path = \"../../target/scala-2.12/\""
   ]
  },
  {
   "cell_type": "code",
   "execution_count": 2,
   "metadata": {
    "colab": {
     "base_uri": "https://localhost:8080/"
    },
    "id": "Q6Dj7PDbKS-V",
    "outputId": "a341f298-3819-40db-81e5-3c3250c410ec"
   },
   "outputs": [],
   "source": [
    "# install from PYPI using secret\n",
    "# %pip install spark-ocr==$version --extra-index-url=https://pypi.johnsnowlabs.com/$secret --upgrade"
   ]
  },
  {
   "cell_type": "markdown",
   "metadata": {
    "id": "V0gOldUCKS-W"
   },
   "source": [
    "## Initialization of spark session"
   ]
  },
  {
   "cell_type": "code",
   "execution_count": 3,
   "metadata": {
    "colab": {
     "base_uri": "https://localhost:8080/",
     "height": 289
    },
    "id": "T5JcRWb2KS-X",
    "outputId": "250d0adb-427e-40cc-ebf3-f17025c9a445"
   },
   "outputs": [
    {
     "name": "stdout",
     "output_type": "stream",
     "text": [
      "Spark version: 3.2.1\n",
      "Spark NLP version: 4.3.1\n",
      "Spark NLP for Healthcare version: 4.3.0\n",
      "Spark OCR version: 4.3.4rc1\n",
      "\n"
     ]
    },
    {
     "data": {
      "text/html": [
       "\n",
       "            <div>\n",
       "                <p><b>SparkSession - in-memory</b></p>\n",
       "                \n",
       "        <div>\n",
       "            <p><b>SparkContext</b></p>\n",
       "\n",
       "            <p><a href=\"http://192.168.0.14:4041\">Spark UI</a></p>\n",
       "\n",
       "            <dl>\n",
       "              <dt>Version</dt>\n",
       "                <dd><code>v3.2.1</code></dd>\n",
       "              <dt>Master</dt>\n",
       "                <dd><code>local[*]</code></dd>\n",
       "              <dt>AppName</dt>\n",
       "                <dd><code>Spark OCR</code></dd>\n",
       "            </dl>\n",
       "        </div>\n",
       "        \n",
       "            </div>\n",
       "        "
      ],
      "text/plain": [
       "<pyspark.sql.session.SparkSession at 0x7fc7a6c58c50>"
      ]
     },
     "execution_count": 3,
     "metadata": {},
     "output_type": "execute_result"
    }
   ],
   "source": [
    "from pyspark.sql import SparkSession\n",
    "from sparkocr import start\n",
    "import sys\n",
    "import os\n",
    "\n",
    "if license:\n",
    "    os.environ['JSL_OCR_LICENSE'] = license\n",
    "\n",
    "spark = start(secret=secret, jar_path=spark_ocr_jar_path)\n",
    "spark"
   ]
  },
  {
   "cell_type": "markdown",
   "metadata": {
    "id": "t-XtrWSDKS-X"
   },
   "source": [
    "## Import OCR transformers"
   ]
  },
  {
   "cell_type": "code",
   "execution_count": 7,
   "metadata": {
    "id": "J1Css1dlKS-Y"
   },
   "outputs": [
    {
     "name": "stdout",
     "output_type": "stream",
     "text": [
      "mixed_scanned_digital_pdf_skew_correction download started this may take some time..\n",
      "Approx size to download 8.5 KB\n",
      "[OK!]\n"
     ]
    }
   ],
   "source": [
    "from pyspark.ml import PipelineModel\n",
    "\n",
    "from sparkocr.pretrained import *\n",
    "\n",
    "mixed_pdf_pipeline = PretrainedPipeline('mixed_scanned_digital_pdf_skew_correction', 'en', 'clinical/ocr')"
   ]
  },
  {
   "cell_type": "markdown",
   "metadata": {
    "id": "RRlw0XvRKS-Y"
   },
   "source": [
    "## Call the pipeline"
   ]
  },
  {
   "cell_type": "code",
   "execution_count": 6,
   "metadata": {
    "id": "pTwlFOQCKS-Y"
   },
   "outputs": [
    {
     "data": {
      "text/html": [
       "<table border='1'>\n",
       "<tr><th>path</th><th>modificationTime</th><th>length</th><th>text</th><th>positions</th><th>height_dimension</th><th>width_dimension</th><th>content</th><th>image</th><th>total_pages</th><th>pagenum</th><th>documentnum</th><th>confidence</th><th>exception</th></tr>\n",
       "<tr><td>file:/home/jose/s...</td><td>2023-03-24 16:50:...</td><td>675876</td><td>ROMINVENT\\n\\nINDU...</td><td>[{[{ROMINVENT\\n\\n...</td><td>792.0</td><td>612.0</td><td>[25 50 44 46 2D 3...</td><td>{file:/home/jose/...</td><td>1</td><td>0</td><td>0</td><td>93.3254582087199</td><td>null</td></tr>\n",
       "<tr><td>file:/home/jose/s...</td><td>2023-03-24 16:50:...</td><td>237661</td><td>                 ...</td><td>[{[{v, 0, 84.182,...</td><td>838.0999755859375</td><td>594.0</td><td>[25 50 44 46 2D 3...</td><td>null</td><td>0</td><td>0</td><td>0</td><td>-1.79769313486231...</td><td>null</td></tr>\n",
       "</table>\n"
      ],
      "text/plain": [
       "+--------------------+--------------------+------+--------------------+--------------------+-----------------+---------------+--------------------+--------------------+-----------+-------+-----------+--------------------+---------+\n",
       "|                path|    modificationTime|length|                text|           positions| height_dimension|width_dimension|             content|               image|total_pages|pagenum|documentnum|          confidence|exception|\n",
       "+--------------------+--------------------+------+--------------------+--------------------+-----------------+---------------+--------------------+--------------------+-----------+-------+-----------+--------------------+---------+\n",
       "|file:/home/jose/s...|2023-03-24 16:50:...|675876|ROMINVENT\\n\\nINDU...|[{[{ROMINVENT\\n\\n...|            792.0|          612.0|[25 50 44 46 2D 3...|{file:/home/jose/...|          1|      0|          0|    93.3254582087199|     null|\n",
       "|file:/home/jose/s...|2023-03-24 16:50:...|237661|                 ...|[{[{v, 0, 84.182,...|838.0999755859375|          594.0|[25 50 44 46 2D 3...|                null|          0|      0|          0|-1.79769313486231...|     null|\n",
       "+--------------------+--------------------+------+--------------------+--------------------+-----------------+---------------+--------------------+--------------------+-----------+-------+-----------+--------------------+---------+"
      ]
     },
     "execution_count": 6,
     "metadata": {},
     "output_type": "execute_result"
    }
   ],
   "source": [
    "pdf_path = './mixed'\n",
    "pdf_example_df = spark.read.format(\"binaryFile\").load(pdf_path).cache()\n",
    "result = mixed_pdf_pipeline.transform(pdf_example_df)\n",
    "result"
   ]
  }
 ],
 "metadata": {
  "colab": {
   "collapsed_sections": [],
   "name": "SparkOcrAdaptiveThresholding.ipynb",
   "provenance": []
  },
  "kernelspec": {
   "display_name": "Python 3 (ipykernel)",
   "language": "python",
   "name": "python3"
  },
  "language_info": {
   "codemirror_mode": {
    "name": "ipython",
    "version": 3
   },
   "file_extension": ".py",
   "mimetype": "text/x-python",
   "name": "python",
   "nbconvert_exporter": "python",
   "pygments_lexer": "ipython3",
   "version": "3.7.5"
  }
 },
 "nbformat": 4,
 "nbformat_minor": 1
}
