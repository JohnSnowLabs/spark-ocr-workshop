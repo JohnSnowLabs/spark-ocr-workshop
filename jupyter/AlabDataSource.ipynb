{
 "cells": [
  {
   "cell_type": "markdown",
   "id": "279ce3d2",
   "metadata": {},
   "source": [
    "## Annotation Lab Data source"
   ]
  },
  {
   "cell_type": "code",
   "execution_count": 4,
   "id": "23cc2418",
   "metadata": {},
   "outputs": [
    {
     "name": "stdout",
     "output_type": "stream",
     "text": [
      "Spark version: 3.0.2\n",
      "Spark NLP version: 3.4.3\n",
      "Spark OCR version: 3.12.1rc1\n",
      "\n"
     ]
    },
    {
     "data": {
      "text/html": [
       "\n",
       "            <div>\n",
       "                <p><b>SparkSession - in-memory</b></p>\n",
       "                \n",
       "        <div>\n",
       "            <p><b>SparkContext</b></p>\n",
       "\n",
       "            <p><a href=\"http://192.168.43.143:4040\">Spark UI</a></p>\n",
       "\n",
       "            <dl>\n",
       "              <dt>Version</dt>\n",
       "                <dd><code>v3.0.2</code></dd>\n",
       "              <dt>Master</dt>\n",
       "                <dd><code>local[*]</code></dd>\n",
       "              <dt>AppName</dt>\n",
       "                <dd><code>Spark OCR</code></dd>\n",
       "            </dl>\n",
       "        </div>\n",
       "        \n",
       "            </div>\n",
       "        "
      ],
      "text/plain": [
       "<pyspark.sql.session.SparkSession at 0x7f49504ce7d0>"
      ]
     },
     "execution_count": 4,
     "metadata": {},
     "output_type": "execute_result"
    }
   ],
   "source": [
    "from pyspark.sql import SparkSession\n",
    "from sparkocr import start\n",
    "import sys\n",
    "import os\n",
    "\n",
    "spark_ocr_jar_path = '../../target/scala-2.12/'\n",
    "\n",
    "spark = start(jar_path=spark_ocr_jar_path)\n",
    "spark"
   ]
  },
  {
   "cell_type": "code",
   "execution_count": 9,
   "id": "c4a57dad",
   "metadata": {},
   "outputs": [],
   "source": [
    "path = \"alab_data/result.json\"\n",
    "alab_df = spark.read.\\\n",
    "  format(\"com.johnsnowlabs.ds.AlabFormat\").\\\n",
    "  load(path)"
   ]
  },
  {
   "cell_type": "code",
   "execution_count": 10,
   "id": "ab151734",
   "metadata": {},
   "outputs": [
    {
     "name": "stdout",
     "output_type": "stream",
     "text": [
      "+--------------------+--------------------+--------+\n",
      "|   completion_string|           file_path|page_num|\n",
      "+--------------------+--------------------+--------+\n",
      "|          {      ...|file:///home/jose...|       1|\n",
      "|          {      ...|file:///home/jose...|       1|\n",
      "+--------------------+--------------------+--------+\n",
      "\n"
     ]
    }
   ],
   "source": [
    "alab_df.show()"
   ]
  },
  {
   "cell_type": "markdown",
   "id": "31873ebb",
   "metadata": {},
   "source": [
    "## Process\n",
    "The data source will only load a single element(a completion) to memory at any time.\n",
    "TODO: we could group completions further, for example into batches, or according to source page."
   ]
  },
  {
   "cell_type": "code",
   "execution_count": 14,
   "id": "4e05f205",
   "metadata": {},
   "outputs": [
    {
     "name": "stdout",
     "output_type": "stream",
     "text": [
      "{\n",
      "    \"original_width\": 2550,\n",
      "    \"original_height\": 3299,\n",
      "    \"image_rotation\": 0,\n",
      "    \"value\": {\n",
      "        \"x\": 26.11764705882353,\n",
      "        \"y\": 40.70930585025765,\n",
      "        \"width\": 8.03921568627451,\n",
      "        \"height\": 1.4549863595028796,\n",
      "        \"rotation\": 0,\n",
      "        \"x_px\": 666,\n",
      "        \"y_px\": 1343,\n",
      "        \"width_px\": 205,\n",
      "        \"height_px\": 48,\n",
      "        \"rectanglelabels\": [\n",
      "            \"Symptom\"\n",
      "        ],\n",
      "        \"text\": [\n",
      "            \"cyanosis,\"\n",
      "        ]\n",
      "    },\n",
      "    \"tokens\": [\n",
      "        {\n",
      "            \"x\": 666,\n",
      "            \"y\": 1343,\n",
      "            \"width\": 205,\n",
      "            \"height\": 48,\n",
      "            \"rotation\": 0,\n",
      "            \"text\": \"cyanosis,\"\n",
      "        }\n",
      "    ],\n",
      "    \"id\": \"4K3z0SXt0F\",\n",
      "    \"from_name\": \"label\",\n",
      "    \"to_name\": \"image\",\n",
      "    \"type\": \"rectanglelabels\",\n",
      "    \"pageNumber\": 1\n",
      "}\n",
      "{\n",
      "    \"original_width\": 2550,\n",
      "    \"original_height\": 3299,\n",
      "    \"image_rotation\": 0,\n",
      "    \"value\": {\n",
      "        \"x\": 34.94117647058824,\n",
      "        \"y\": 40.6486814186117,\n",
      "        \"width\": 5.450980392156863,\n",
      "        \"height\": 1.515610791148833,\n",
      "        \"rotation\": 0,\n",
      "        \"x_px\": 891,\n",
      "        \"y_px\": 1341,\n",
      "        \"width_px\": 139,\n",
      "        \"height_px\": 50,\n",
      "        \"rectanglelabels\": [\n",
      "            \"Symptom\"\n",
      "        ],\n",
      "        \"text\": [\n",
      "            \"pallor,\"\n",
      "        ]\n",
      "    },\n",
      "    \"tokens\": [\n",
      "        {\n",
      "            \"x\": 891,\n",
      "            \"y\": 1341,\n",
      "            \"width\": 139,\n",
      "            \"height\": 50,\n",
      "            \"rotation\": 0,\n",
      "            \"text\": \"pallor,\"\n",
      "        }\n",
      "    ],\n",
      "    \"id\": \"b8YuwIoeqT\",\n",
      "    \"from_name\": \"label\",\n",
      "    \"to_name\": \"image\",\n",
      "    \"type\": \"rectanglelabels\",\n",
      "    \"pageNumber\": 1\n",
      "}\n"
     ]
    }
   ],
   "source": [
    "import json\n",
    "for completion, path, pn in alab_df.toLocalIterator():\n",
    "    print(json.dumps(json.loads(completion), indent=4))"
   ]
  },
  {
   "cell_type": "markdown",
   "id": "f92bf64d",
   "metadata": {},
   "source": [
    "## Applying to multiple JSON files"
   ]
  },
  {
   "cell_type": "code",
   "execution_count": 16,
   "id": "9c2b8512",
   "metadata": {},
   "outputs": [],
   "source": [
    "! cp alab_data/result.json alab_data/another_result.json"
   ]
  },
  {
   "cell_type": "code",
   "execution_count": 17,
   "id": "fa36f0ca",
   "metadata": {},
   "outputs": [],
   "source": [
    "path = \"alab_data\"\n",
    "alab_df = spark.read.\\\n",
    "  format(\"com.johnsnowlabs.ds.AlabFormat\").\\\n",
    "  load(path)"
   ]
  },
  {
   "cell_type": "code",
   "execution_count": 18,
   "id": "21b30f13",
   "metadata": {},
   "outputs": [
    {
     "data": {
      "text/plain": [
       "4"
      ]
     },
     "execution_count": 18,
     "metadata": {},
     "output_type": "execute_result"
    }
   ],
   "source": [
    "alab_df.count()"
   ]
  },
  {
   "cell_type": "code",
   "execution_count": 19,
   "id": "2d0f9f3d",
   "metadata": {},
   "outputs": [
    {
     "name": "stdout",
     "output_type": "stream",
     "text": [
      "+--------------------+--------------------+--------+\n",
      "|   completion_string|           file_path|page_num|\n",
      "+--------------------+--------------------+--------+\n",
      "|          {      ...|file:///home/jose...|       1|\n",
      "|          {      ...|file:///home/jose...|       1|\n",
      "|          {      ...|file:///home/jose...|       1|\n",
      "|          {      ...|file:///home/jose...|       1|\n",
      "+--------------------+--------------------+--------+\n",
      "\n"
     ]
    }
   ],
   "source": [
    "alab_df.show()"
   ]
  },
  {
   "cell_type": "code",
   "execution_count": null,
   "id": "5f34e362",
   "metadata": {},
   "outputs": [],
   "source": []
  }
 ],
 "metadata": {
  "kernelspec": {
   "display_name": "Python 3 (ipykernel)",
   "language": "python",
   "name": "python3"
  },
  "language_info": {
   "codemirror_mode": {
    "name": "ipython",
    "version": 3
   },
   "file_extension": ".py",
   "mimetype": "text/x-python",
   "name": "python",
   "nbconvert_exporter": "python",
   "pygments_lexer": "ipython3",
   "version": "3.7.5"
  }
 },
 "nbformat": 4,
 "nbformat_minor": 5
}
