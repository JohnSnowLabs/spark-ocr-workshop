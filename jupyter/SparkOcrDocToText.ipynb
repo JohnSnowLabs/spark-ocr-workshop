{
 "cells": [
  {
   "cell_type": "markdown",
   "metadata": {
    "id": "zpllg78Scd5S"
   },
   "source": [
    "# Example of extracting text from Microsoft DOCX documents"
   ]
  },
  {
   "cell_type": "markdown",
   "metadata": {
    "id": "32VSoC9Icd5W"
   },
   "source": [
    "## Install spark-ocr python packge\n",
    "Need specify path to `spark-ocr-assembly-[version].jar` or `secret`"
   ]
  },
  {
   "cell_type": "code",
   "execution_count": 1,
   "metadata": {
    "id": "-xSSEQNAcd5Z"
   },
   "outputs": [],
   "source": [
    "secret = \"\"\n",
    "license = \"\"\n",
    "version = secret.split(\"-\")[0]\n",
    "spark_ocr_jar_path = \"../../target/scala-2.11\"\n",
    "\n",
    "import os\n",
    "\n",
    "version = secret.split('-')[0]"
   ]
  },
  {
   "cell_type": "code",
   "execution_count": 2,
   "metadata": {
    "colab": {
     "base_uri": "https://localhost:8080/"
    },
    "id": "ztzvE2MCcd5c",
    "outputId": "6081d4b5-a0af-4b67-bda0-8a8366855bcf"
   },
   "outputs": [
    {
     "output_type": "stream",
     "name": "stdout",
     "text": [
      "Run on Google Colab!\n",
      "Install Open JDK\n",
      "Hit:1 https://cloud.r-project.org/bin/linux/ubuntu bionic-cran40/ InRelease\n",
      "Hit:2 http://security.ubuntu.com/ubuntu bionic-security InRelease\n",
      "Hit:3 http://ppa.launchpad.net/c2d4u.team/c2d4u4.0+/ubuntu bionic InRelease\n",
      "Hit:4 http://archive.ubuntu.com/ubuntu bionic InRelease\n",
      "Ign:5 https://developer.download.nvidia.com/compute/machine-learning/repos/ubuntu1804/x86_64  InRelease\n",
      "Hit:6 https://developer.download.nvidia.com/compute/cuda/repos/ubuntu1804/x86_64  InRelease\n",
      "Hit:7 https://developer.download.nvidia.com/compute/machine-learning/repos/ubuntu1804/x86_64  Release\n",
      "Hit:8 http://archive.ubuntu.com/ubuntu bionic-updates InRelease\n",
      "Hit:9 http://ppa.launchpad.net/cran/libgit2/ubuntu bionic InRelease\n",
      "Hit:10 http://archive.ubuntu.com/ubuntu bionic-backports InRelease\n",
      "Hit:11 http://ppa.launchpad.net/deadsnakes/ppa/ubuntu bionic InRelease\n",
      "Hit:12 http://ppa.launchpad.net/graphics-drivers/ppa/ubuntu bionic InRelease\n",
      "Reading package lists...\n",
      "Building dependency tree...\n",
      "Reading state information...\n",
      "26 packages can be upgraded. Run 'apt list --upgradable' to see them.\n"
     ]
    },
    {
     "output_type": "stream",
     "name": "stderr",
     "text": [
      "\n",
      "WARNING: apt does not have a stable CLI interface. Use with caution in scripts.\n",
      "\n",
      "openjdk version \"11.0.15\" 2022-04-19\n",
      "OpenJDK Runtime Environment (build 11.0.15+10-Ubuntu-0ubuntu0.18.04.1)\n",
      "OpenJDK 64-Bit Server VM (build 11.0.15+10-Ubuntu-0ubuntu0.18.04.1, mixed mode, sharing)\n"
     ]
    }
   ],
   "source": [
    "%%bash\n",
    "if python -c 'import google.colab' &> /dev/null; then\n",
    "    echo \"Run on Google Colab!\"\n",
    "    echo \"Install Open JDK\"\n",
    "    sudo apt update\n",
    "    apt-get install -y openjdk-8-jdk-headless -qq > /dev/null\n",
    "    java -version\n",
    "fi"
   ]
  },
  {
   "cell_type": "code",
   "execution_count": 3,
   "metadata": {
    "id": "_GWcSl1zcd5e"
   },
   "outputs": [],
   "source": [
    "import os\n",
    "import sys\n",
    "\n",
    "if 'google.colab' in sys.modules:\n",
    "  os.environ[\"JAVA_HOME\"] = \"/usr/lib/jvm/java-8-openjdk-amd64\"\n",
    "  os.environ[\"PATH\"] = os.environ[\"JAVA_HOME\"] + \"/bin:\" + os.environ[\"PATH\"]"
   ]
  },
  {
   "cell_type": "code",
   "execution_count": 4,
   "metadata": {
    "id": "9ajVDx7Ocd5f",
    "colab": {
     "base_uri": "https://localhost:8080/"
    },
    "outputId": "0fa8692b-f784-4d7d-e469-a0c54e01f22b"
   },
   "outputs": [
    {
     "output_type": "stream",
     "name": "stdout",
     "text": [
      "Looking in indexes: https://pypi.org/simple, https://us-python.pkg.dev/colab-wheels/public/simple/, https://pypi.johnsnowlabs.com/4.0.0-49cdb09f66ca01a93f959366f0e4a84d1a09b2df\n",
      "Requirement already satisfied: spark-ocr==4.0.0+spark32 in /root/.local/lib/python3.7/site-packages (4.0.0+spark32)\n",
      "Requirement already satisfied: scikit-image==0.18.1 in /root/.local/lib/python3.7/site-packages (from spark-ocr==4.0.0+spark32) (0.18.1)\n",
      "Requirement already satisfied: numpy==1.21.6 in /usr/local/lib/python3.7/dist-packages (from spark-ocr==4.0.0+spark32) (1.21.6)\n",
      "Requirement already satisfied: spark-nlp==4.0.0 in /root/.local/lib/python3.7/site-packages (from spark-ocr==4.0.0+spark32) (4.0.0)\n",
      "Requirement already satisfied: py4j==0.10.9.3 in /root/.local/lib/python3.7/site-packages (from spark-ocr==4.0.0+spark32) (0.10.9.3)\n",
      "Requirement already satisfied: craft-text-detector==0.4.2 in /root/.local/lib/python3.7/site-packages (from spark-ocr==4.0.0+spark32) (0.4.2)\n",
      "Requirement already satisfied: pillow==9.0.1 in /root/.local/lib/python3.7/site-packages (from spark-ocr==4.0.0+spark32) (9.0.1)\n",
      "Requirement already satisfied: pyspark==3.2.1 in /root/.local/lib/python3.7/site-packages (from spark-ocr==4.0.0+spark32) (3.2.1)\n",
      "Requirement already satisfied: implicits==1.0.2 in /root/.local/lib/python3.7/site-packages (from spark-ocr==4.0.0+spark32) (1.0.2)\n",
      "Requirement already satisfied: torchvision>=0.7.0 in /usr/local/lib/python3.7/dist-packages (from craft-text-detector==0.4.2->spark-ocr==4.0.0+spark32) (0.13.0+cu113)\n",
      "Requirement already satisfied: scipy>=1.3.2 in /usr/local/lib/python3.7/dist-packages (from craft-text-detector==0.4.2->spark-ocr==4.0.0+spark32) (1.7.3)\n",
      "Requirement already satisfied: torch>=1.6.0 in /usr/local/lib/python3.7/dist-packages (from craft-text-detector==0.4.2->spark-ocr==4.0.0+spark32) (1.12.0+cu113)\n",
      "Requirement already satisfied: opencv-python<4.5.4.62,>=3.4.8.29 in /root/.local/lib/python3.7/site-packages (from craft-text-detector==0.4.2->spark-ocr==4.0.0+spark32) (4.5.4.60)\n",
      "Requirement already satisfied: gdown>=3.10.1 in /usr/local/lib/python3.7/dist-packages (from craft-text-detector==0.4.2->spark-ocr==4.0.0+spark32) (4.4.0)\n",
      "Requirement already satisfied: matplotlib!=3.0.0,>=2.0.0 in /usr/local/lib/python3.7/dist-packages (from scikit-image==0.18.1->spark-ocr==4.0.0+spark32) (3.2.2)\n",
      "Requirement already satisfied: networkx>=2.0 in /usr/local/lib/python3.7/dist-packages (from scikit-image==0.18.1->spark-ocr==4.0.0+spark32) (2.6.3)\n",
      "Requirement already satisfied: tifffile>=2019.7.26 in /usr/local/lib/python3.7/dist-packages (from scikit-image==0.18.1->spark-ocr==4.0.0+spark32) (2021.11.2)\n",
      "Requirement already satisfied: imageio>=2.3.0 in /usr/local/lib/python3.7/dist-packages (from scikit-image==0.18.1->spark-ocr==4.0.0+spark32) (2.9.0)\n",
      "Requirement already satisfied: PyWavelets>=1.1.1 in /usr/local/lib/python3.7/dist-packages (from scikit-image==0.18.1->spark-ocr==4.0.0+spark32) (1.3.0)\n",
      "Requirement already satisfied: six in /usr/local/lib/python3.7/dist-packages (from gdown>=3.10.1->craft-text-detector==0.4.2->spark-ocr==4.0.0+spark32) (1.15.0)\n",
      "Requirement already satisfied: requests[socks] in /usr/local/lib/python3.7/dist-packages (from gdown>=3.10.1->craft-text-detector==0.4.2->spark-ocr==4.0.0+spark32) (2.23.0)\n",
      "Requirement already satisfied: tqdm in /usr/local/lib/python3.7/dist-packages (from gdown>=3.10.1->craft-text-detector==0.4.2->spark-ocr==4.0.0+spark32) (4.64.0)\n",
      "Requirement already satisfied: beautifulsoup4 in /usr/local/lib/python3.7/dist-packages (from gdown>=3.10.1->craft-text-detector==0.4.2->spark-ocr==4.0.0+spark32) (4.6.3)\n",
      "Requirement already satisfied: filelock in /usr/local/lib/python3.7/dist-packages (from gdown>=3.10.1->craft-text-detector==0.4.2->spark-ocr==4.0.0+spark32) (3.7.1)\n",
      "Requirement already satisfied: pyparsing!=2.0.4,!=2.1.2,!=2.1.6,>=2.0.1 in /usr/local/lib/python3.7/dist-packages (from matplotlib!=3.0.0,>=2.0.0->scikit-image==0.18.1->spark-ocr==4.0.0+spark32) (3.0.9)\n",
      "Requirement already satisfied: python-dateutil>=2.1 in /usr/local/lib/python3.7/dist-packages (from matplotlib!=3.0.0,>=2.0.0->scikit-image==0.18.1->spark-ocr==4.0.0+spark32) (2.8.2)\n",
      "Requirement already satisfied: cycler>=0.10 in /usr/local/lib/python3.7/dist-packages (from matplotlib!=3.0.0,>=2.0.0->scikit-image==0.18.1->spark-ocr==4.0.0+spark32) (0.11.0)\n",
      "Requirement already satisfied: kiwisolver>=1.0.1 in /usr/local/lib/python3.7/dist-packages (from matplotlib!=3.0.0,>=2.0.0->scikit-image==0.18.1->spark-ocr==4.0.0+spark32) (1.4.4)\n",
      "Requirement already satisfied: typing-extensions in /usr/local/lib/python3.7/dist-packages (from kiwisolver>=1.0.1->matplotlib!=3.0.0,>=2.0.0->scikit-image==0.18.1->spark-ocr==4.0.0+spark32) (4.1.1)\n",
      "Requirement already satisfied: urllib3!=1.25.0,!=1.25.1,<1.26,>=1.21.1 in /usr/local/lib/python3.7/dist-packages (from requests[socks]->gdown>=3.10.1->craft-text-detector==0.4.2->spark-ocr==4.0.0+spark32) (1.24.3)\n",
      "Requirement already satisfied: chardet<4,>=3.0.2 in /usr/local/lib/python3.7/dist-packages (from requests[socks]->gdown>=3.10.1->craft-text-detector==0.4.2->spark-ocr==4.0.0+spark32) (3.0.4)\n",
      "Requirement already satisfied: certifi>=2017.4.17 in /usr/local/lib/python3.7/dist-packages (from requests[socks]->gdown>=3.10.1->craft-text-detector==0.4.2->spark-ocr==4.0.0+spark32) (2022.6.15)\n",
      "Requirement already satisfied: idna<3,>=2.5 in /usr/local/lib/python3.7/dist-packages (from requests[socks]->gdown>=3.10.1->craft-text-detector==0.4.2->spark-ocr==4.0.0+spark32) (2.10)\n",
      "Requirement already satisfied: PySocks!=1.5.7,>=1.5.6 in /usr/local/lib/python3.7/dist-packages (from requests[socks]->gdown>=3.10.1->craft-text-detector==0.4.2->spark-ocr==4.0.0+spark32) (1.7.1)\n"
     ]
    }
   ],
   "source": [
    "# install from PYPI using secret\n",
    "# %pip install spark-ocr==$version+spark30 --extra-index-url=https://pypi.johnsnowlabs.com/$secret --upgrade\n",
    "!python3 -m pip install --upgrade spark-ocr==4.0.0+spark32 --user --extra-index-url https://pypi.johnsnowlabs.com/4.0.0-49cdb09f66ca01a93f959366f0e4a84d1a09b2df"
   ]
  },
  {
   "cell_type": "code",
   "execution_count": 5,
   "metadata": {
    "id": "n9YI0kIkcd5g"
   },
   "outputs": [],
   "source": [
    "# or install from local path\n",
    "# %pip install ../../python/dist/spark-ocr-1.10.0.spark24.tar.gz"
   ]
  },
  {
   "cell_type": "markdown",
   "metadata": {
    "id": "g2BBJprPcd5i"
   },
   "source": [
    "## Initialization of spark session"
   ]
  },
  {
   "cell_type": "code",
   "execution_count": 6,
   "metadata": {
    "colab": {
     "base_uri": "https://localhost:8080/",
     "height": 289
    },
    "id": "msIzKTbccd5j",
    "outputId": "dc4be0a1-7c8a-4633-d27d-c925537d7699"
   },
   "outputs": [
    {
     "output_type": "stream",
     "name": "stdout",
     "text": [
      "Spark version: 3.2.1\n",
      "Spark NLP version: 4.0.0\n",
      "Spark OCR version: 4.0.0\n",
      "\n"
     ]
    },
    {
     "output_type": "execute_result",
     "data": {
      "text/plain": [
       "<pyspark.sql.session.SparkSession at 0x7ffb9cb1a0d0>"
      ],
      "text/html": [
       "\n",
       "            <div>\n",
       "                <p><b>SparkSession - in-memory</b></p>\n",
       "                \n",
       "        <div>\n",
       "            <p><b>SparkContext</b></p>\n",
       "\n",
       "            <p><a href=\"http://48f425568a5d:4040\">Spark UI</a></p>\n",
       "\n",
       "            <dl>\n",
       "              <dt>Version</dt>\n",
       "                <dd><code>v3.2.1</code></dd>\n",
       "              <dt>Master</dt>\n",
       "                <dd><code>local[*]</code></dd>\n",
       "              <dt>AppName</dt>\n",
       "                <dd><code>Spark OCR</code></dd>\n",
       "            </dl>\n",
       "        </div>\n",
       "        \n",
       "            </div>\n",
       "        "
      ]
     },
     "metadata": {},
     "execution_count": 6
    }
   ],
   "source": [
    "from sparkocr import start\n",
    "\n",
    "if license:\n",
    "    os.environ['JSL_OCR_LICENSE'] = license\n",
    "\n",
    "spark = start(secret=secret, jar_path=spark_ocr_jar_path)\n",
    "spark"
   ]
  },
  {
   "cell_type": "markdown",
   "metadata": {
    "id": "FXrG91vgcd5l"
   },
   "source": [
    "## Import OCR transformers"
   ]
  },
  {
   "cell_type": "code",
   "execution_count": 7,
   "metadata": {
    "id": "cYODVSU-cd5n"
   },
   "outputs": [],
   "source": [
    "from sparkocr.transformers import *\n",
    "from sparkocr.utils import display_image\n",
    "from pyspark.sql.functions import collect_list,col"
   ]
  },
  {
   "cell_type": "markdown",
   "metadata": {
    "id": "zC4PHzX9cd5o"
   },
   "source": [
    "## Read DOCX document as binary file"
   ]
  },
  {
   "cell_type": "code",
   "execution_count": 8,
   "metadata": {
    "id": "c4CpcW3Bcd5p"
   },
   "outputs": [],
   "source": [
    "import pkg_resources\n",
    "doc_example = pkg_resources.resource_filename('sparkocr', 'resources/ocr/docs/doc2.docx')\n",
    "doc_example_df = spark.read.format(\"binaryFile\").load(doc_example).cache()"
   ]
  },
  {
   "cell_type": "markdown",
   "metadata": {
    "id": "pJkUVH0jcd5r"
   },
   "source": [
    "## Extract text using `DocToText` transformer"
   ]
  },
  {
   "cell_type": "code",
   "execution_count": 9,
   "metadata": {
    "id": "qQLudRsIcd5r"
   },
   "outputs": [],
   "source": [
    "doc_to_text = DocToText()\n",
    "doc_to_text.setInputCol(\"content\")\n",
    "doc_to_text.setOutputCol(\"text\")\n",
    "\n",
    "result = doc_to_text.transform(doc_example_df)"
   ]
  },
  {
   "cell_type": "markdown",
   "metadata": {
    "id": "GCUhJjopcd5s"
   },
   "source": [
    "## Display result DataFrame"
   ]
  },
  {
   "cell_type": "code",
   "execution_count": 10,
   "metadata": {
    "colab": {
     "base_uri": "https://localhost:8080/"
    },
    "id": "LC2XZw50cd5t",
    "outputId": "96eaf233-6b5d-4ec1-e8b4-560c5bcc457e"
   },
   "outputs": [
    {
     "output_type": "stream",
     "name": "stdout",
     "text": [
      "+--------------------+--------------------+------+--------------------+---------+-------+\n",
      "|                path|    modificationTime|length|                text|exception|pagenum|\n",
      "+--------------------+--------------------+------+--------------------+---------+-------+\n",
      "|file:/root/.local...|2022-08-08 16:22:...| 33260|Sample Document\\n...|     null|      0|\n",
      "+--------------------+--------------------+------+--------------------+---------+-------+\n",
      "\n"
     ]
    }
   ],
   "source": [
    "result.show()"
   ]
  },
  {
   "cell_type": "markdown",
   "metadata": {
    "id": "82ujO1Gxcd5u"
   },
   "source": [
    "## Display extracted text"
   ]
  },
  {
   "cell_type": "code",
   "execution_count": 11,
   "metadata": {
    "colab": {
     "base_uri": "https://localhost:8080/"
    },
    "id": "v4WucwgXcd5v",
    "outputId": "89add354-70e5-4e6d-8014-97253db39837"
   },
   "outputs": [
    {
     "output_type": "stream",
     "name": "stdout",
     "text": [
      "Sample Document\n",
      "This document was created using accessibility techniques for headings, lists, image alternate text, tables, and columns. It should be completely accessible using assistive technologies such as screen readers.\n",
      "Headings\n",
      "There are eight section headings in this document. At the beginning, \"Sample Document\" is a level 1 heading. The main section headings, such as \"Headings\" and \"Lists\" are level 2 headings. The Tables section contains two sub-headings, \"Simple Table\" and \"Complex Table,\" which are both level 3 headings.\n",
      "Lists\n",
      "The following outline of the sections of this document is an ordered (numbered) list with six items. The fifth item, \"Tables,\" contains a nested unordered (bulleted) list with two items.\n",
      "Headings \n",
      "Lists \n",
      "Links \n",
      "Images \n",
      "Tables \n",
      "Simple Tables \n",
      "Complex Tables \n",
      "Columns \n",
      "Links\n",
      "In web documents, links can point different locations on the page, different pages, or even downloadable documents, such as Word documents or PDFs:\n",
      "Top of this Page\n",
      "Sample Document\n",
      "Sample Document (docx)\n",
      "Images\n",
      "Documents may contain images. For example, there is an image of the web accessibility symbol to the left of this paragraph. Its alternate text is \"Web Access Symbol\".\n",
      "Alt text should communicate what an image means, not how it looks.\n",
      "\n",
      "\n",
      "\n",
      "\n",
      "\n",
      "\n",
      "Some images, such as charts or graphs, require long descriptions, but not all document types allow that. In web pages, long descriptions may be provided in several ways: on the page below the image, via a link below the image, or via a link on the image.\n",
      "\n",
      "\n",
      "\n",
      "\n",
      "Tables\n",
      "Simple Tables\n",
      "Simple tables have a uniform number of columns and rows, without any merged cells:\n",
      "Screen Reader\tResponses\tShare\n",
      "JAWS\t853\t49%\n",
      "NVDA\t238\t14%\n",
      "Window-Eyes\t214\t12%\n",
      "System Access\t181\t10%\n",
      "VoiceOver\t159\t9%\n",
      "\n",
      "\n",
      "Complex Tables\n",
      "The following is a complex table, using merged cells as headers for sections within the table. This can't be made accessible in all types of documents:\n",
      "\tMay 2012\t September 2010\n",
      "Screen Reader\tResponses\tShare\tResponses\tShare \n",
      "JAWS\t853\t49%\t727\t59% \n",
      "NVDA\t238\t14%\t105\t9% \n",
      "Window-Eyes\t214\t12%\t138\t11% \n",
      "System Access\t181\t10%\t58\t5% \n",
      "VoiceOver\t159\t9%\t120\t10%\n",
      "\n",
      " \n",
      "\n",
      "\n",
      "\n",
      "Columns\n",
      "\n",
      "This is an example of columns. With columns, the page is split into two or more horizontal sections. Unlike tables, in which you usually read across a row and then down to the next, in columns, you read down a column and then across to the next.\n",
      "When columns are not created correctly, screen readers may run lines together, reading the first line of the first column, then the first line of the second column, then the second line of the first column, and so on. Obviously, that is not accessible.\n",
      "\n"
     ]
    }
   ],
   "source": [
    "print(\"\\n\".join([row.text for row in result.select(\"text\").collect()]))"
   ]
  }
 ],
 "metadata": {
  "kernelspec": {
   "display_name": "Python 3",
   "language": "python",
   "name": "python3"
  },
  "language_info": {
   "codemirror_mode": {
    "name": "ipython",
    "version": 3
   },
   "file_extension": ".py",
   "mimetype": "text/x-python",
   "name": "python",
   "nbconvert_exporter": "python",
   "pygments_lexer": "ipython3",
   "version": "3.7.9"
  },
  "colab": {
   "name": "SparkOcrDocToText.ipynb",
   "provenance": [],
   "collapsed_sections": []
  },
  "pycharm": {
   "stem_cell": {
    "cell_type": "raw",
    "source": [],
    "metadata": {
     "collapsed": false
    }
   }
  }
 },
 "nbformat": 4,
 "nbformat_minor": 0
}